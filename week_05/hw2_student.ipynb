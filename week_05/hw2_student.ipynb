{
 "cells": [
  {
   "cell_type": "markdown",
   "metadata": {
    "cellId": "z5qfpgxviokgo9ewdahyxr",
    "id": "MK6bCSji-oa1"
   },
   "source": [
    "# Homework 2: CTC Speech Recognition System\n",
    "You can do this notebook in google collab, or in datasphere (if you are brave enougth)\n",
    "\n",
    "### Grades criteria\n",
    "\n",
    "```\n",
    "[ ] (10 points) Implement a Prefix Decoder\n",
    "[ ] (10 points) Train ASR System, WER criterions: 60-50 -- 3 points, 50-40 -- 5 points, 40-35 -- 7 points, <=35 -- 10 points. + Bonus point per 1% WER below 30\n",
    "[ ] (5 points) Compare performance of DNN, RNN and BiRNN models in terms of WER, training time and other properties\n",
    "[ ] (5 points) Compare alignments obtained from DNN, RNN and BiRNN models\n",
    "```\n",
    "\n",
    "The results of this task are two artifacts:\n",
    "1. this Jupiter Notebook (`.ipynb`) with completed cells, training progress and final score.\n",
    "2. file with predictions of your best model for the test data\n",
    "\n",
    "Save the artifacts to a directory named `{your last name}_{your first name}_hw2` and pack them in `.zip` archive.\n"
   ]
  },
  {
   "cell_type": "code",
   "execution_count": 2,
   "metadata": {
    "cellId": "na65u400yyes9ya34xsbvm",
    "id": "WWDmSBBn-07C"
   },
   "outputs": [],
   "source": [
    "#!L\n",
    "#%pip install torch==1.7.1+cu101 torchaudio==0.7.2 -f https://download.pytorch.org/whl/torch_stable.html\n",
    "#%pip install https://github.com/kpu/kenlm/archive/master.zip\n",
    "#%pip install dulwich\n",
    "#%pip install --user -U arpa\n",
    "\n",
    "# %enable_full_walk"
   ]
  },
  {
   "cell_type": "markdown",
   "metadata": {
    "cellId": "4bv5j3c5cgbiqgbxltnrp",
    "id": "H046bnEhkIHf"
   },
   "source": [
    "## Clone github repo"
   ]
  },
  {
   "cell_type": "code",
   "execution_count": 3,
   "metadata": {
    "cellId": "x21q44iq67quhpu1a3zem",
    "id": "pelDQHU-_DUy"
   },
   "outputs": [],
   "source": [
    "#!L\n",
    "\n",
    "import dulwich.client\n",
    "from dulwich.repo import Repo\n",
    "from dulwich import index\n",
    "\n",
    "import os\n",
    "import shutil\n",
    "\n",
    "def git_clone(src, target):\n",
    "    client, path = dulwich.client.get_transport_and_path(src)\n",
    "    if os.path.isdir(target):\n",
    "        shutil.rmtree(target)\n",
    "    os.makedirs(target)\n",
    "    r = Repo.init(target)\n",
    "\n",
    "    remote_refs = client.fetch(src, r)\n",
    "    r[b\"HEAD\"] = remote_refs.refs[b\"HEAD\"]\n",
    "\n",
    "    index.build_index_from_tree(r.path, r.index_path(), r.object_store, r[b'HEAD'].tree)\n",
    "\n",
    "src = \"https://github.com/yandexdataschool/speech_course\"\n",
    "target = \"./speech_course\"\n",
    "\n",
    "git_clone(src, target)\n",
    "os.listdir(target)\n",
    "\n",
    "week_05_path = './speech_course/week_05' # Change this path, if it is different in your case"
   ]
  },
  {
   "cell_type": "code",
   "execution_count": 4,
   "metadata": {
    "cellId": "0jg5sfs7qowv79473xsi8eu",
    "id": "IOaR9CeT-oa7"
   },
   "outputs": [
    {
     "name": "stderr",
     "output_type": "stream",
     "text": [
      "/home/ishalyminov/data/miniconda3/envs/shad_speech/lib/python3.7/site-packages/torchaudio/backend/utils.py:54: UserWarning: \"sox\" backend is being deprecated. The default backend will be changed to \"sox_io\" backend in 0.8.0 and \"sox\" backend will be removed in 0.9.0. Please migrate to \"sox_io\" backend. Please refer to https://github.com/pytorch/audio/issues/903 for the detail.\n",
      "  '\"sox\" backend is being deprecated. '\n"
     ]
    }
   ],
   "source": [
    "#!L\n",
    "import importlib\n",
    "import collections\n",
    "import os\n",
    "import math\n",
    "import numpy as np\n",
    "import time\n",
    "import copy\n",
    "from string import ascii_lowercase\n",
    "import re\n",
    "import random\n",
    "\n",
    "from utils import *\n",
    "\n",
    "import torch\n",
    "import torch.nn as nn\n",
    "import torch.nn.functional as F\n",
    "import torch.utils.data as data\n",
    "import torchaudio\n",
    "from torch import optim\n",
    "import arpa\n",
    "\n",
    "import matplotlib\n",
    "import matplotlib.pyplot as plt\n",
    "from matplotlib.colors import LogNorm"
   ]
  },
  {
   "cell_type": "code",
   "execution_count": 5,
   "metadata": {
    "cellId": "uj668v8qaihxclvkvheq6",
    "id": "Cq8Amv2QAKPU"
   },
   "outputs": [],
   "source": [
    "#!L\n",
    "# Download LibriSpeech 100hr training and test data\n",
    "\n",
    "if not os.path.isdir(\"./data\"):\n",
    "    os.makedirs(\"./data\")\n",
    "\n",
    "train_dataset = torchaudio.datasets.LIBRISPEECH(\"./data\", url=\"train-clean-100\", download=True)\n",
    "test_dataset = torchaudio.datasets.LIBRISPEECH(\"./data\", url=\"test-clean\", download=True)"
   ]
  },
  {
   "cell_type": "markdown",
   "metadata": {
    "cellId": "abgm2usdt24l6itvepmw8",
    "id": "c79P_B0b-oa8"
   },
   "source": [
    "## Tokenizer Class"
   ]
  },
  {
   "cell_type": "code",
   "execution_count": 6,
   "metadata": {
    "cellId": "jarxy3gwdllxcqufdtz4f",
    "id": "_kzOaLiV-oa8"
   },
   "outputs": [],
   "source": [
    "#!L\n",
    "# Class to transform text to strings of token indecies\n",
    "class Tokenizer:\n",
    "    \"\"\"Maps characters to integers and vice versa\"\"\"\n",
    "    def __init__(self):\n",
    "        char_map_str = \"\"\"\n",
    "        ' 0\n",
    "        _ 1\n",
    "        a 2\n",
    "        b 3\n",
    "        c 4\n",
    "        d 5\n",
    "        e 6\n",
    "        f 7\n",
    "        g 8\n",
    "        h 9\n",
    "        i 10\n",
    "        j 11\n",
    "        k 12\n",
    "        l 13\n",
    "        m 14\n",
    "        n 15\n",
    "        o 16\n",
    "        p 17\n",
    "        q 18\n",
    "        r 19\n",
    "        s 20\n",
    "        t 21\n",
    "        u 22\n",
    "        v 23\n",
    "        w 24\n",
    "        x 25\n",
    "        y 26\n",
    "        z 27\n",
    "        \"\"\"\n",
    "        self.char_map = {}\n",
    "        self.index_map = {}\n",
    "        for line in char_map_str.strip().split('\\n'):\n",
    "            ch, index = line.split()\n",
    "            self.char_map[ch] = int(index)\n",
    "            self.index_map[int(index)] = ch\n",
    "        self.index_map[1] = ' '\n",
    "\n",
    "    def text_to_indecies(self, text):\n",
    "        \"\"\" Use a character map and convert text to an integer sequence \"\"\"\n",
    "        int_sequence = []\n",
    "        for c in text:\n",
    "            if c == ' ':\n",
    "                ch = self.char_map['_']\n",
    "            else:\n",
    "                ch = self.char_map[c]\n",
    "            int_sequence.append(ch)\n",
    "        return int_sequence\n",
    "\n",
    "    def indecies_to_text(self, labels):\n",
    "        \"\"\" Use a character map and convert integer labels to an text sequence \"\"\"\n",
    "        string = []\n",
    "        for i in labels:\n",
    "            string.append(self.index_map[i])\n",
    "        return ''.join(string).replace('_', ' ')\n",
    "tokenizer = Tokenizer()"
   ]
  },
  {
   "cell_type": "code",
   "execution_count": 7,
   "metadata": {
    "cellId": "jzbg8qm8vcrinevp9y0dok",
    "id": "Jwc1NZkU-obC"
   },
   "outputs": [],
   "source": [
    "#!L\n",
    "\n",
    "def GreedyDecoder(output: torch.Tensor, labels: list, label_lengths: list, blank_label=28, collapse_repeated=True):\n",
    "    \"\"\"ist\n",
    "    :param output: torch.Tensor of Probs or Log-Probs of shape [batch, time, classes]\n",
    "    :param labels: Listof torch.Tensor of label indecies\n",
    "    :param label_lengths:  int of label lengths\n",
    "    :param blank_label:\n",
    "    :param collapse_repeated:\n",
    "    :return: \n",
    "    \"\"\"\n",
    "\n",
    "    # Get max class\n",
    "    arg_maxes = torch.argmax(output, axis=-1)\n",
    "\n",
    "    decodes = []\n",
    "    targets = []\n",
    "\n",
    "    #For targets and decodes remove r\n",
    "    for i, args in enumerate(arg_maxes):\n",
    "        decode = []\n",
    "\n",
    "        targets.append(tokenizer.indecies_to_text(labels[i][:label_lengths[i]].tolist()))\n",
    "\n",
    "        # Remove repeeats, then remove blanks\n",
    "\n",
    "        for j, index in enumerate(args):\n",
    "            if index != blank_label:\n",
    "                if collapse_repeated and j != 0 and index == args[j - 1]:\n",
    "                    continue\n",
    "                decode.append(index.item())\n",
    "        decodes.append(tokenizer.indecies_to_text(decode))\n",
    "    return decodes, targets"
   ]
  },
  {
   "cell_type": "code",
   "execution_count": 8,
   "metadata": {
    "cellId": "se7g7cudhf1r43b40icy9",
    "id": "m4LozjfI-obD"
   },
   "outputs": [],
   "source": [
    "#!L\n",
    "# TESTING THE GREEDY DECODER \n",
    "\n",
    "#Load numpy matrix, add axis [batch,classes,time]\n",
    "matrix = np.loadtxt(os.path.join(week_05_path, 'test_matrix.txt'))[np.newaxis,:,:]\n",
    "\n",
    "# Turn into Torch Tensor of shape [batch, time, classes]\n",
    "matrix = torch.Tensor(matrix).transpose(1,2)\n",
    "\n",
    "# Create list of torch tensor\n",
    "labels_indecies = [torch.Tensor(tokenizer.text_to_indecies('there seems no good reason for believing that it will change'))]\n",
    "\n",
    "# Run the Decoder\n",
    "decodes, targets = GreedyDecoder(matrix, labels_indecies, [len(labels_indecies[0])])\n",
    "\n",
    "assert decodes[0] == 'there se ms no good reason for believing that twillc ange'\n",
    "assert targets[0] == 'there seems no good reason for believing that it will change'\n",
    "\n"
   ]
  },
  {
   "cell_type": "markdown",
   "metadata": {
    "cellId": "5usp9pexqf2a1g8vxae8ic"
   },
   "source": [
    "## Implement Prefix Decoding With LM (10 points)"
   ]
  },
  {
   "cell_type": "code",
   "execution_count": 59,
   "metadata": {},
   "outputs": [],
   "source": [
    "def _BeamSearchDecoder(probs, lm, alpha=0.1, beta=2, beam_size=5, blank=28, space=1, prune=1e-5):\n",
    "    \"\"\"\n",
    "    Performs prefix beam search on the output of a CTC network.\n",
    "    Args:\n",
    "        ctc (np.ndarray): The CTC output. Should be a 2D array (timesteps x alphabet_size)\n",
    "        lm (func): Language model function. Should take as input a string and output a probability.\n",
    "        k (int): The beam width. Will keep the 'k' most likely candidates at each timestep.\n",
    "        alpha (float): The language model weight. Should usually be between 0 and 1.\n",
    "        beta (float): The language model compensation term. The higher the 'alpha', the higher the 'beta'.\n",
    "        prune (float): Only extend prefixes with chars with an emission probability higher than 'prune'.\n",
    "    Retruns:\n",
    "        string: The decoded CTC output.\n",
    "    \"\"\"\n",
    "    ctc = copy.deepcopy(probs)\n",
    "\n",
    "    lm = (lambda l: 1) if lm is None else lm # if no LM is provided, just set to function returning 1\n",
    "    W = lambda l: re.findall(r'\\w+[\\s|\\_]', l)\n",
    "    alphabet = list(map(lambda x: x[1], sorted(tokenizer.index_map.items()))) + ['%']\n",
    "    F = ctc.shape[1]\n",
    "    ctc = np.vstack((np.zeros(F), ctc)) # just add an imaginative zero'th step (will make indexing more intuitive)\n",
    "    T = ctc.shape[0]\n",
    "\n",
    "    # STEP 1: Initiliazation\n",
    "    O = ''\n",
    "    Pb, Pnb = collections.defaultdict(collections.Counter), collections.defaultdict(collections.Counter)\n",
    "    Pb[0][O] = 1\n",
    "    Pnb[0][O] = 0\n",
    "    A_prev = [O]\n",
    "    # END: STEP 1\n",
    "\n",
    "    # STEP 2: Iterations and pruning\n",
    "    for t in range(1, T):\n",
    "        pruned_alphabet = [alphabet[i] for i in np.where(ctc[t] > prune)[0]]\n",
    "        for l in A_prev:\n",
    "            for c in pruned_alphabet:\n",
    "                c_ix = alphabet.index(c)\n",
    "                # END: STEP 2\n",
    "                \n",
    "                # STEP 3: “Extending” with a blank\n",
    "                if c_ix == blank:\n",
    "                    Pb[t][l] += ctc[t][-1] * (Pb[t - 1][l] + Pnb[t - 1][l])\n",
    "                # END: STEP 3\n",
    "                \n",
    "                # STEP 4: Extending with the end character\n",
    "                else:\n",
    "                    l_plus = l + c\n",
    "                    if len(l) > 0 and c == l[-1]:\n",
    "                        Pnb[t][l_plus] += ctc[t][c_ix] * Pb[t - 1][l]\n",
    "                        Pnb[t][l] += ctc[t][c_ix] * Pnb[t - 1][l]\n",
    "                # END: STEP 4\n",
    "\n",
    "                    # STEP 5: Extending with any other non-blank character and LM constraints\n",
    "                    elif len(l.replace(' ', '').replace('_', '')) > 0 and c in (' ', '_'):\n",
    "                        try:\n",
    "                            lm_prob = lm(l_plus.strip(' _').upper()) ** alpha\n",
    "                        except KeyError:\n",
    "                            lm_prob = 1e-7\n",
    "                        Pnb[t][l_plus] += lm_prob * ctc[t][c_ix] * (Pb[t - 1][l] + Pnb[t - 1][l])\n",
    "                    else:\n",
    "                        Pnb[t][l_plus] += ctc[t][c_ix] * (Pb[t - 1][l] + Pnb[t - 1][l])\n",
    "                    # END: STEP 5\n",
    "\n",
    "                    # STEP 6: Make use of discarded prefixes\n",
    "                    if l_plus not in A_prev:\n",
    "                        Pb[t][l_plus] += ctc[t][-1] * (Pb[t - 1][l_plus] + Pnb[t - 1][l_plus])\n",
    "                        Pnb[t][l_plus] += ctc[t][c_ix] * Pnb[t - 1][l_plus]\n",
    "                    # END: STEP 6\n",
    "\n",
    "        # STEP 7: Select most probable prefixes\n",
    "        A_next = Pb[t] + Pnb[t]\n",
    "        sorter = lambda l: A_next[l] * (len(W(l)) + 1) ** beta\n",
    "        A_prev = sorted(A_next, key=sorter, reverse=True)[:beam_size]\n",
    "        # END: STEP 7\n",
    "\n",
    "    return A_prev[0].strip('_'), sorter(A_prev[0])\n",
    "\n",
    "\n",
    "def BeamSearchDecoder(probs, labels, label_lengths, input_lengths, lm, beam_size=35, blank=28, space=1, prune=1e-3, alpha=0.1, beta=2):\n",
    "    probs = probs.cpu().detach().numpy()\n",
    "    decodes, targets = [], []\n",
    "    for i, prob in enumerate(probs):\n",
    "\n",
    "        targets.append(tokenizer.indecies_to_text(labels[i][:label_lengths[i]].tolist()))\n",
    "        seq, _ = _BeamSearchDecoder(prob[:input_lengths[i]], lm=lm, beam_size=beam_size, blank=blank, prune=prune, alpha=alpha, beta=beta)\n",
    "        decodes.append(seq)\n",
    "        \n",
    "    return decodes, targets"
   ]
  },
  {
   "cell_type": "code",
   "execution_count": 34,
   "metadata": {},
   "outputs": [],
   "source": [
    "#Create LM\n",
    "import arpa\n",
    "alm = arpa.loadf('3-gram.pruned.1e-7.arpa')[0]\n",
    "\n",
    "\n",
    "#Load numpy matrix, add axis [batch,classes,time]\n",
    "matrix = np.loadtxt('test_matrix.txt')[np.newaxis,:,:]\n",
    "\n",
    "# Turn into Torch Tensor of shape [batch, time, classes]\n",
    "matrix = torch.Tensor(matrix).transpose(1,2)\n",
    "\n",
    "\n",
    "labels_indecies = [torch.Tensor(tokenizer.text_to_indecies('there seems no good reason for believing that it will change'))]"
   ]
  },
  {
   "cell_type": "code",
   "execution_count": 57,
   "metadata": {
    "cellId": "w167u74ao4bsoz3htaa738"
   },
   "outputs": [
    {
     "name": "stdout",
     "output_type": "stream",
     "text": [
      "there se ms no good reason for believing that twil c ange\n",
      "there seems no good reason for believing that twillchange\n"
     ]
    }
   ],
   "source": [
    "#!L\n",
    "# TESTING PREFIX Decoder\n",
    "\n",
    "#Run the Decoder\n",
    "decodes, targets = BeamSearchDecoder(matrix, labels_indecies, [len(labels_indecies[0])], [matrix.size()[1]], lm=None, beam_size=100, prune=1e-3, alpha=0.1, beta=2)\n",
    "\n",
    "print(decodes[0])\n",
    "assert decodes[0] == 'there se ms no good reason for believing that twil c ange'\n",
    "assert targets[0] == 'there seems no good reason for believing that it will change'\n",
    "\n",
    "decodes, targets = BeamSearchDecoder(matrix, labels_indecies, [len(labels_indecies[0])], [matrix.size()[1]], lm=alm.p, beam_size=100, prune=1e-3, alpha=0.1, beta=2)\n",
    "\n",
    "print(decodes[0])\n",
    "# assert decodes[0] == 'there seems no good reason for believing that twillc ange'\n",
    "assert targets[0] == 'there seems no good reason for believing that it will change'\n",
    "\n"
   ]
  },
  {
   "cell_type": "markdown",
   "metadata": {
    "cellId": "zfs3th23sxnnatpxbacw4",
    "id": "sr7uip8slCcw"
   },
   "source": [
    "## Deep Learning part"
   ]
  },
  {
   "cell_type": "markdown",
   "metadata": {
    "cellId": "gvc1msqg6viwm3iwt79xy",
    "id": "sFouWJvO-obE"
   },
   "source": [
    "## Create a Dataloader"
   ]
  },
  {
   "cell_type": "code",
   "execution_count": 12,
   "metadata": {},
   "outputs": [],
   "source": [
    "class Log(nn.Module):\n",
    "    def forward(self, spec):\n",
    "        return np.log(spec.clone().detach() + 1e-9)"
   ]
  },
  {
   "cell_type": "code",
   "execution_count": 13,
   "metadata": {},
   "outputs": [],
   "source": [
    "def show_sample(data, figsize=(10, 6)):\n",
    "    fig = plt.figure(figsize=figsize)\n",
    "    ax = fig.add_subplot()\n",
    "    ax.imshow(data)\n",
    "    plt.show()"
   ]
  },
  {
   "cell_type": "code",
   "execution_count": 19,
   "metadata": {
    "cellId": "4i95bg5u0c4pj26vvkbxyc",
    "id": "6FfDdryM-obF"
   },
   "outputs": [],
   "source": [
    "#!L\n",
    "# For train you can use SpecAugment data aug here.\n",
    "n_mels=128\n",
    "\n",
    "train_audio_transforms = nn.Sequential(\n",
    "    torchaudio.transforms.MelSpectrogram(sample_rate=16000, n_mels=n_mels),\n",
    "    torchaudio.transforms.FrequencyMasking(freq_mask_param=15),\n",
    "    torchaudio.transforms.TimeMasking(time_mask_param=35),\n",
    ")\n",
    "\n",
    "test_audio_transforms = torchaudio.transforms.MelSpectrogram(sample_rate=16000, n_mels=n_mels)\n",
    "\n",
    "tokenizer = Tokenizer()\n",
    "\n",
    "\n",
    "def data_processing(data, data_type=\"train\"):\n",
    "    spectrograms = []\n",
    "    labels = []\n",
    "    input_lengths = []\n",
    "    label_lengths = []\n",
    "    for (waveform, _, utterance, _, _, _) in data:\n",
    "        if data_type == 'train':\n",
    "            spec = train_audio_transforms(waveform).squeeze(0).transpose(0, 1)\n",
    "        elif data_type == 'valid':\n",
    "            spec = test_audio_transforms(waveform).squeeze(0).transpose(0, 1)\n",
    "        else:\n",
    "            raise Exception('data_type should be train or valid')\n",
    "        spectrograms.append(spec)\n",
    "        label = torch.Tensor(tokenizer.text_to_indecies(utterance.lower()))\n",
    "        labels.append(label)\n",
    "        input_lengths.append(spec.shape[0] // 2)\n",
    "        label_lengths.append(len(label))\n",
    "\n",
    "    spectrograms = nn.utils.rnn.pad_sequence(spectrograms, batch_first=True).unsqueeze(1).transpose(2, 3)\n",
    "    labels = nn.utils.rnn.pad_sequence(labels, batch_first=True)\n",
    "\n",
    "    return spectrograms, labels, input_lengths, label_lengths"
   ]
  },
  {
   "cell_type": "markdown",
   "metadata": {
    "cellId": "jcex1p3ibgiuabzxa0yw",
    "id": "RqZcwSweECPH"
   },
   "source": [
    "## Implement a Neural Network Model\n",
    "\n",
    "You should try out a few different model types:\n",
    "- Feed-Forward Model (DNN)\n",
    "- Recurrent Model (GRU or LSTM)\n",
    "- Bidirectional Recurrent Model (bi-GRU or bi-LSTM)\n",
    "- Something different for bonus points\n",
    "\n",
    "Before any of this models you can use convolutional layers, as shown in the example below\n",
    "\n",
    "After your experiments you should write a report with comparison of different models in terms of different features, for example: parameters, training speed, resulting quality, spectrogram properties, and data augmentations. Remember, that for full mark you need to achive good WER \n",
    "\n",
    "WER criterions: 60-50 -- 3 points, 50-40 -- 5 points, 40-35 -- 7 points, <= 35 -- 10 points"
   ]
  },
  {
   "cell_type": "markdown",
   "metadata": {
    "cellId": "554tm5fog66g78v4s3at8v",
    "id": "dPwmQyJP5qOe"
   },
   "source": [
    "### Our model classes are just examples, you can change them as you want"
   ]
  },
  {
   "cell_type": "code",
   "execution_count": 15,
   "metadata": {
    "cellId": "b3ddofit6i1f8yjroo07e",
    "id": "4icyZP5JD9nW"
   },
   "outputs": [],
   "source": [
    "#!L\n",
    "# Define model\n",
    "class CNNLayerNorm(nn.Module):\n",
    "    \"\"\"Layer normalization built for cnns input\"\"\"\n",
    "    def __init__(self, n_feats):\n",
    "        super(CNNLayerNorm, self).__init__()\n",
    "        self.layer_norm = nn.LayerNorm(n_feats)\n",
    "\n",
    "    def forward(self, x):\n",
    "        # x (batch, channel, feature, time)\n",
    "        x = x.transpose(2, 3).contiguous() # (batch, channel, time, feature)\n",
    "        x = self.layer_norm(x)\n",
    "        return x.transpose(2, 3).contiguous() # (batch, channel, feature, time)\n",
    "\n",
    "\n",
    "class ResidualCNN(nn.Module):\n",
    "    \"\"\"Residual CNN inspired by https://arxiv.org/pdf/1603.05027.pdf\n",
    "        except with layer norm instead of batch norm\n",
    "    \"\"\"\n",
    "    def __init__(self, in_channels, out_channels, kernel, stride, dropout, n_feats):\n",
    "        super(ResidualCNN, self).__init__()\n",
    "\n",
    "        self.cnn1 = nn.Conv2d(in_channels, out_channels, kernel, stride, padding=kernel//2)\n",
    "        self.cnn2 = nn.Conv2d(out_channels, out_channels, kernel, stride, padding=kernel//2)\n",
    "        self.dropout1 = nn.Dropout(dropout)\n",
    "        self.dropout2 = nn.Dropout(dropout)\n",
    "        self.layer_norm1 = CNNLayerNorm(n_feats)\n",
    "        self.layer_norm2 = CNNLayerNorm(n_feats)\n",
    "\n",
    "    def forward(self, x):\n",
    "        residual = x  # (batch, channel, feature, time)\n",
    "        x = self.layer_norm1(x)\n",
    "        x = F.gelu(x)\n",
    "        x = self.dropout1(x)\n",
    "        x = self.cnn1(x)\n",
    "        x = self.layer_norm2(x)\n",
    "        x = F.gelu(x)\n",
    "        x = self.dropout2(x)\n",
    "        x = self.cnn2(x)\n",
    "        x += residual\n",
    "        return x # (batch, channel, feature, time)\n",
    "\n",
    "\n",
    "class BidirectionalGRU(nn.Module):\n",
    "    def __init__(self, rnn_dim, hidden_size, dropout, batch_first):\n",
    "        super(BidirectionalGRU, self).__init__()\n",
    "\n",
    "        self.BiGRU = nn.GRU(\n",
    "            input_size=rnn_dim, hidden_size=hidden_size,\n",
    "            num_layers=1, batch_first=batch_first, bidirectional=True)\n",
    "        self.layer_norm = nn.LayerNorm(rnn_dim)\n",
    "        self.dropout = nn.Dropout(dropout)\n",
    "\n",
    "    def forward(self, x):\n",
    "        x = self.layer_norm(x)\n",
    "        x = F.gelu(x)\n",
    "        x, _ = self.BiGRU(x)\n",
    "        x = self.dropout(x)\n",
    "        return x\n",
    "\n",
    "\n",
    "class SpeechRecognitionModel(nn.Module):\n",
    "    \"\"\"Speech Recognition Model Inspired by DeepSpeech 2\"\"\"\n",
    "\n",
    "    def __init__(self, n_cnn_layers, n_rnn_layers, rnn_dim, n_class, n_feats, stride=2, dropout=0.1):\n",
    "        super(SpeechRecognitionModel, self).__init__()\n",
    "        n_feats = n_feats//2\n",
    "        self.cnn = nn.Conv2d(1, 32, 3, stride=stride, padding=3//2)  # cnn for extracting heirachal features\n",
    "\n",
    "        # n residual cnn layers with filter size of 32\n",
    "        self.rescnn_layers = nn.Sequential(*[\n",
    "            ResidualCNN(32, 32, kernel=3, stride=1, dropout=dropout, n_feats=n_feats) \n",
    "            for _ in range(n_cnn_layers)\n",
    "        ])\n",
    "        self.fully_connected = nn.Linear(n_feats*32, rnn_dim)\n",
    "        self.birnn_layers = nn.Sequential(*[\n",
    "            BidirectionalGRU(rnn_dim=rnn_dim if i==0 else rnn_dim*2,\n",
    "                             hidden_size=rnn_dim, dropout=dropout, batch_first=i==0)\n",
    "            for i in range(n_rnn_layers)\n",
    "        ])\n",
    "        self.classifier = nn.Sequential(\n",
    "            nn.Linear(rnn_dim*2, rnn_dim),  # birnn returns rnn_dim*2\n",
    "            nn.GELU(),\n",
    "            nn.Dropout(dropout),\n",
    "            nn.Linear(rnn_dim, n_class)\n",
    "        )\n",
    "\n",
    "    def forward(self, x):\n",
    "        x = self.cnn(x)\n",
    "        x = self.rescnn_layers(x)\n",
    "        sizes = x.size()\n",
    "        x = x.view(sizes[0], sizes[1] * sizes[2], sizes[3])  # (batch, feature, time)\n",
    "        x = x.transpose(1, 2) # (batch, time, feature)\n",
    "        x = self.fully_connected(x)\n",
    "        x = self.birnn_layers(x)\n",
    "        x = self.classifier(x)\n",
    "        return x"
   ]
  },
  {
   "cell_type": "markdown",
   "metadata": {
    "cellId": "obxpjwwsdlio3sfm7jgtg",
    "id": "T27qdd0iEH9q"
   },
   "source": [
    "## Training and Evaluation Code"
   ]
  },
  {
   "cell_type": "code",
   "execution_count": 51,
   "metadata": {
    "cellId": "hws8dpmno7ymiam3dnafp",
    "id": "RAA05g-oD-N_"
   },
   "outputs": [],
   "source": [
    "#!L\n",
    "def train(model, device, train_loader, criterion, optimizer, scheduler, epoch):\n",
    "    model.train()\n",
    "    data_len = len(train_loader.dataset)\n",
    "    for batch_idx, _data in enumerate(train_loader):\n",
    "        spectrograms, labels, input_lengths, label_lengths = _data\n",
    "        spectrograms, labels = spectrograms.to(device), labels.to(device)\n",
    "\n",
    "        optimizer.zero_grad()\n",
    "        output = model(spectrograms)  # (batch, time, n_class)\n",
    "        output = F.log_softmax(output, dim=2)\n",
    "        output = output.transpose(0, 1)  # (time, batch, n_class)\n",
    "\n",
    "        loss = criterion(output, labels, input_lengths, label_lengths)\n",
    "        loss.backward()\n",
    "\n",
    "        optimizer.step()\n",
    "        scheduler.step()\n",
    "        if batch_idx % 100 == 0 or batch_idx == data_len:\n",
    "            print('Train Epoch: {} [{}/{} ({:.0f}%)]\\tLoss: {:.6f}'.format(\n",
    "                epoch, batch_idx * len(spectrograms), data_len,\n",
    "                       100. * batch_idx / len(train_loader), loss.item()))\n",
    "\n",
    "\n",
    "def test(model, device, test_loader, criterion, epoch, decode='Greedy', lm=None):\n",
    "    print('Beginning eval...')\n",
    "    model.eval()\n",
    "    test_loss = 0\n",
    "    test_cer, test_wer = [], []\n",
    "    with torch.no_grad():\n",
    "        start = time.time()\n",
    "        for i, _data in enumerate(test_loader):\n",
    "            spectrograms, labels, input_lengths, label_lengths = _data\n",
    "            spectrograms, labels = spectrograms.to(device), labels.to(device)\n",
    "\n",
    "            matrix = model(spectrograms)  # (batch, time, n_class)\n",
    "            probs = F.softmax(matrix,dim=2)\n",
    "            matrix = F.log_softmax(matrix, dim=2)\n",
    "            matrix = matrix.transpose(0, 1)  # (time, batch, n_class)\n",
    "                \n",
    "            loss = criterion(matrix, labels, input_lengths, label_lengths)\n",
    "            test_loss += loss.item() / len(test_loader)\n",
    "\n",
    "            if decode == 'Greedy':\n",
    "                decoded_preds, decoded_targets = GreedyDecoder(matrix.transpose(0, 1), labels, label_lengths)\n",
    "            elif decode == 'BeamSearch':\n",
    "                ## THIS IS A CLASS YOU SHOULD IMPLEMENT\n",
    "                decoded_preds, decoded_targets = BeamSearchDecoder(probs, labels, label_lengths, input_lengths, lm=lm)\n",
    "            for j in range(len(decoded_preds)):\n",
    "                test_cer.append(cer(decoded_targets[j], decoded_preds[j]))\n",
    "                test_wer.append(wer(decoded_targets[j], decoded_preds[j]))\n",
    "\n",
    "    avg_cer = sum(test_cer) / len(test_cer)\n",
    "    avg_wer = sum(test_wer) / len(test_wer)\n",
    "\n",
    "    print(\n",
    "        'Epoch: {:d}, Test set: Average loss: {:.4f}, Average CER: {:4f} Average WER: {:.4f}\\n'.format(epoch, test_loss,\n",
    "                                                                                                       avg_cer,\n",
    "                                                                                                       avg_wer))"
   ]
  },
  {
   "cell_type": "code",
   "execution_count": 20,
   "metadata": {
    "cellId": "7ezpcofubg6gfyyde5c68",
    "id": "ZlAaMjh4D-RD",
    "scrolled": false
   },
   "outputs": [
    {
     "name": "stdout",
     "output_type": "stream",
     "text": [
      "GPU found! 🎉\n",
      "Num Model Parameters 23705373\n",
      "Start training...\n"
     ]
    },
    {
     "name": "stderr",
     "output_type": "stream",
     "text": [
      "/home/ishalyminov/data/miniconda3/envs/shad_speech/lib/python3.7/site-packages/torch/functional.py:516: UserWarning: stft will require the return_complex parameter be explicitly  specified in a future PyTorch release. Use return_complex=False  to preserve the current behavior or return_complex=True to return  a complex output. (Triggered internally at  /pytorch/aten/src/ATen/native/SpectralOps.cpp:653.)\n",
      "  normalized, onesided, return_complex)\n",
      "/home/ishalyminov/data/miniconda3/envs/shad_speech/lib/python3.7/site-packages/torch/functional.py:516: UserWarning: The function torch.rfft is deprecated and will be removed in a future PyTorch release. Use the new torch.fft module functions, instead, by importing torch.fft and calling torch.fft.fft or torch.fft.rfft. (Triggered internally at  /pytorch/aten/src/ATen/native/SpectralOps.cpp:590.)\n",
      "  normalized, onesided, return_complex)\n"
     ]
    },
    {
     "name": "stdout",
     "output_type": "stream",
     "text": [
      "Train Epoch: 1 [0/28539 (0%)]\tLoss: 7.130528\n",
      "Train Epoch: 1 [1000/28539 (4%)]\tLoss: 2.915329\n",
      "Train Epoch: 1 [2000/28539 (7%)]\tLoss: 2.873536\n",
      "Train Epoch: 1 [3000/28539 (11%)]\tLoss: 2.868145\n",
      "Train Epoch: 1 [4000/28539 (14%)]\tLoss: 2.878502\n",
      "Train Epoch: 1 [5000/28539 (18%)]\tLoss: 2.881620\n",
      "Train Epoch: 1 [6000/28539 (21%)]\tLoss: 2.851636\n",
      "Train Epoch: 1 [7000/28539 (25%)]\tLoss: 2.848423\n",
      "Train Epoch: 1 [8000/28539 (28%)]\tLoss: 2.874854\n",
      "Train Epoch: 1 [9000/28539 (32%)]\tLoss: 2.842603\n",
      "Train Epoch: 1 [10000/28539 (35%)]\tLoss: 2.865387\n",
      "Train Epoch: 1 [11000/28539 (39%)]\tLoss: 2.859163\n",
      "Train Epoch: 1 [12000/28539 (42%)]\tLoss: 2.839377\n",
      "Train Epoch: 1 [13000/28539 (46%)]\tLoss: 2.844045\n",
      "Train Epoch: 1 [14000/28539 (49%)]\tLoss: 2.798895\n",
      "Train Epoch: 1 [15000/28539 (53%)]\tLoss: 2.835309\n",
      "Train Epoch: 1 [16000/28539 (56%)]\tLoss: 2.798608\n",
      "Train Epoch: 1 [17000/28539 (60%)]\tLoss: 2.701440\n",
      "Train Epoch: 1 [18000/28539 (63%)]\tLoss: 2.465324\n",
      "Train Epoch: 1 [19000/28539 (67%)]\tLoss: 2.306643\n",
      "Train Epoch: 1 [20000/28539 (70%)]\tLoss: 2.115345\n",
      "Train Epoch: 1 [21000/28539 (74%)]\tLoss: 2.133073\n",
      "Train Epoch: 1 [22000/28539 (77%)]\tLoss: 1.907154\n",
      "Train Epoch: 1 [23000/28539 (81%)]\tLoss: 1.997881\n",
      "Train Epoch: 1 [24000/28539 (84%)]\tLoss: 1.870203\n",
      "Train Epoch: 1 [25000/28539 (88%)]\tLoss: 1.846880\n",
      "Train Epoch: 1 [26000/28539 (91%)]\tLoss: 1.813827\n",
      "Train Epoch: 1 [27000/28539 (95%)]\tLoss: 1.635921\n",
      "Train Epoch: 1 [28000/28539 (98%)]\tLoss: 1.767130\n",
      "Beginning eval...\n"
     ]
    },
    {
     "name": "stderr",
     "output_type": "stream",
     "text": [
      "/home/ishalyminov/data/miniconda3/envs/shad_speech/lib/python3.7/site-packages/torch/functional.py:516: UserWarning: stft will require the return_complex parameter be explicitly  specified in a future PyTorch release. Use return_complex=False  to preserve the current behavior or return_complex=True to return  a complex output. (Triggered internally at  /pytorch/aten/src/ATen/native/SpectralOps.cpp:653.)\n",
      "  normalized, onesided, return_complex)\n",
      "/home/ishalyminov/data/miniconda3/envs/shad_speech/lib/python3.7/site-packages/torch/functional.py:516: UserWarning: The function torch.rfft is deprecated and will be removed in a future PyTorch release. Use the new torch.fft module functions, instead, by importing torch.fft and calling torch.fft.fft or torch.fft.rfft. (Triggered internally at  /pytorch/aten/src/ATen/native/SpectralOps.cpp:590.)\n",
      "  normalized, onesided, return_complex)\n"
     ]
    },
    {
     "name": "stdout",
     "output_type": "stream",
     "text": [
      "Epoch: 1, Test set: Average loss: 1.5903, Average CER: 0.463140 Average WER: 1.0150\n",
      "\n",
      "Time for epoch: 1126.0 sec.\n"
     ]
    },
    {
     "name": "stderr",
     "output_type": "stream",
     "text": [
      "/home/ishalyminov/data/miniconda3/envs/shad_speech/lib/python3.7/site-packages/torch/functional.py:516: UserWarning: stft will require the return_complex parameter be explicitly  specified in a future PyTorch release. Use return_complex=False  to preserve the current behavior or return_complex=True to return  a complex output. (Triggered internally at  /pytorch/aten/src/ATen/native/SpectralOps.cpp:653.)\n",
      "  normalized, onesided, return_complex)\n",
      "/home/ishalyminov/data/miniconda3/envs/shad_speech/lib/python3.7/site-packages/torch/functional.py:516: UserWarning: The function torch.rfft is deprecated and will be removed in a future PyTorch release. Use the new torch.fft module functions, instead, by importing torch.fft and calling torch.fft.fft or torch.fft.rfft. (Triggered internally at  /pytorch/aten/src/ATen/native/SpectralOps.cpp:590.)\n",
      "  normalized, onesided, return_complex)\n"
     ]
    },
    {
     "name": "stdout",
     "output_type": "stream",
     "text": [
      "Train Epoch: 2 [0/28539 (0%)]\tLoss: 1.829213\n",
      "Train Epoch: 2 [1000/28539 (4%)]\tLoss: 1.847195\n",
      "Train Epoch: 2 [2000/28539 (7%)]\tLoss: 1.547820\n",
      "Train Epoch: 2 [3000/28539 (11%)]\tLoss: 1.574919\n",
      "Train Epoch: 2 [4000/28539 (14%)]\tLoss: 1.568429\n",
      "Train Epoch: 2 [5000/28539 (18%)]\tLoss: 1.533513\n",
      "Train Epoch: 2 [6000/28539 (21%)]\tLoss: 1.356572\n",
      "Train Epoch: 2 [7000/28539 (25%)]\tLoss: 1.440905\n",
      "Train Epoch: 2 [8000/28539 (28%)]\tLoss: 1.501812\n",
      "Train Epoch: 2 [9000/28539 (32%)]\tLoss: 1.413932\n",
      "Train Epoch: 2 [10000/28539 (35%)]\tLoss: 1.324602\n",
      "Train Epoch: 2 [11000/28539 (39%)]\tLoss: 1.413284\n",
      "Train Epoch: 2 [12000/28539 (42%)]\tLoss: 1.333455\n",
      "Train Epoch: 2 [13000/28539 (46%)]\tLoss: 1.304909\n",
      "Train Epoch: 2 [14000/28539 (49%)]\tLoss: 1.285776\n",
      "Train Epoch: 2 [15000/28539 (53%)]\tLoss: 1.399544\n",
      "Train Epoch: 2 [16000/28539 (56%)]\tLoss: 1.254509\n",
      "Train Epoch: 2 [17000/28539 (60%)]\tLoss: 1.527366\n",
      "Train Epoch: 2 [18000/28539 (63%)]\tLoss: 1.313436\n",
      "Train Epoch: 2 [19000/28539 (67%)]\tLoss: 1.395838\n",
      "Train Epoch: 2 [20000/28539 (70%)]\tLoss: 1.273826\n",
      "Train Epoch: 2 [21000/28539 (74%)]\tLoss: 1.316154\n",
      "Train Epoch: 2 [22000/28539 (77%)]\tLoss: 1.130188\n",
      "Train Epoch: 2 [23000/28539 (81%)]\tLoss: 1.157615\n",
      "Train Epoch: 2 [24000/28539 (84%)]\tLoss: 1.186721\n",
      "Train Epoch: 2 [25000/28539 (88%)]\tLoss: 1.246726\n",
      "Train Epoch: 2 [26000/28539 (91%)]\tLoss: 1.200295\n",
      "Train Epoch: 2 [27000/28539 (95%)]\tLoss: 1.275813\n",
      "Train Epoch: 2 [28000/28539 (98%)]\tLoss: 1.248963\n",
      "Beginning eval...\n"
     ]
    },
    {
     "name": "stderr",
     "output_type": "stream",
     "text": [
      "/home/ishalyminov/data/miniconda3/envs/shad_speech/lib/python3.7/site-packages/torch/functional.py:516: UserWarning: stft will require the return_complex parameter be explicitly  specified in a future PyTorch release. Use return_complex=False  to preserve the current behavior or return_complex=True to return  a complex output. (Triggered internally at  /pytorch/aten/src/ATen/native/SpectralOps.cpp:653.)\n",
      "  normalized, onesided, return_complex)\n",
      "/home/ishalyminov/data/miniconda3/envs/shad_speech/lib/python3.7/site-packages/torch/functional.py:516: UserWarning: The function torch.rfft is deprecated and will be removed in a future PyTorch release. Use the new torch.fft module functions, instead, by importing torch.fft and calling torch.fft.fft or torch.fft.rfft. (Triggered internally at  /pytorch/aten/src/ATen/native/SpectralOps.cpp:590.)\n",
      "  normalized, onesided, return_complex)\n"
     ]
    },
    {
     "name": "stdout",
     "output_type": "stream",
     "text": [
      "Epoch: 2, Test set: Average loss: 1.0916, Average CER: 0.332467 Average WER: 0.8032\n",
      "\n",
      "Time for epoch: 1131.0 sec.\n"
     ]
    },
    {
     "name": "stderr",
     "output_type": "stream",
     "text": [
      "/home/ishalyminov/data/miniconda3/envs/shad_speech/lib/python3.7/site-packages/torch/functional.py:516: UserWarning: stft will require the return_complex parameter be explicitly  specified in a future PyTorch release. Use return_complex=False  to preserve the current behavior or return_complex=True to return  a complex output. (Triggered internally at  /pytorch/aten/src/ATen/native/SpectralOps.cpp:653.)\n",
      "  normalized, onesided, return_complex)\n",
      "/home/ishalyminov/data/miniconda3/envs/shad_speech/lib/python3.7/site-packages/torch/functional.py:516: UserWarning: The function torch.rfft is deprecated and will be removed in a future PyTorch release. Use the new torch.fft module functions, instead, by importing torch.fft and calling torch.fft.fft or torch.fft.rfft. (Triggered internally at  /pytorch/aten/src/ATen/native/SpectralOps.cpp:590.)\n",
      "  normalized, onesided, return_complex)\n"
     ]
    },
    {
     "name": "stdout",
     "output_type": "stream",
     "text": [
      "Train Epoch: 3 [0/28539 (0%)]\tLoss: 1.105985\n",
      "Train Epoch: 3 [1000/28539 (4%)]\tLoss: 1.102008\n",
      "Train Epoch: 3 [2000/28539 (7%)]\tLoss: 1.094666\n",
      "Train Epoch: 3 [3000/28539 (11%)]\tLoss: 1.466856\n",
      "Train Epoch: 3 [4000/28539 (14%)]\tLoss: 1.044903\n",
      "Train Epoch: 3 [5000/28539 (18%)]\tLoss: 1.308550\n",
      "Train Epoch: 3 [6000/28539 (21%)]\tLoss: 1.253790\n",
      "Train Epoch: 3 [7000/28539 (25%)]\tLoss: 1.090119\n",
      "Train Epoch: 3 [8000/28539 (28%)]\tLoss: 1.194634\n",
      "Train Epoch: 3 [9000/28539 (32%)]\tLoss: 1.048365\n",
      "Train Epoch: 3 [10000/28539 (35%)]\tLoss: 1.060203\n",
      "Train Epoch: 3 [11000/28539 (39%)]\tLoss: 0.981846\n",
      "Train Epoch: 3 [12000/28539 (42%)]\tLoss: 1.061364\n",
      "Train Epoch: 3 [13000/28539 (46%)]\tLoss: 1.036697\n",
      "Train Epoch: 3 [14000/28539 (49%)]\tLoss: 1.079776\n",
      "Train Epoch: 3 [15000/28539 (53%)]\tLoss: 1.155107\n",
      "Train Epoch: 3 [16000/28539 (56%)]\tLoss: 1.086564\n",
      "Train Epoch: 3 [17000/28539 (60%)]\tLoss: 1.030872\n",
      "Train Epoch: 3 [18000/28539 (63%)]\tLoss: 1.238044\n",
      "Train Epoch: 3 [19000/28539 (67%)]\tLoss: 1.092561\n",
      "Train Epoch: 3 [20000/28539 (70%)]\tLoss: 0.897883\n",
      "Train Epoch: 3 [21000/28539 (74%)]\tLoss: 1.144582\n",
      "Train Epoch: 3 [22000/28539 (77%)]\tLoss: 0.997264\n",
      "Train Epoch: 3 [23000/28539 (81%)]\tLoss: 1.051084\n",
      "Train Epoch: 3 [24000/28539 (84%)]\tLoss: 1.000560\n",
      "Train Epoch: 3 [25000/28539 (88%)]\tLoss: 1.192292\n",
      "Train Epoch: 3 [26000/28539 (91%)]\tLoss: 1.033521\n",
      "Train Epoch: 3 [27000/28539 (95%)]\tLoss: 1.008693\n",
      "Train Epoch: 3 [28000/28539 (98%)]\tLoss: 0.919029\n",
      "Beginning eval...\n"
     ]
    },
    {
     "name": "stderr",
     "output_type": "stream",
     "text": [
      "/home/ishalyminov/data/miniconda3/envs/shad_speech/lib/python3.7/site-packages/torch/functional.py:516: UserWarning: stft will require the return_complex parameter be explicitly  specified in a future PyTorch release. Use return_complex=False  to preserve the current behavior or return_complex=True to return  a complex output. (Triggered internally at  /pytorch/aten/src/ATen/native/SpectralOps.cpp:653.)\n",
      "  normalized, onesided, return_complex)\n",
      "/home/ishalyminov/data/miniconda3/envs/shad_speech/lib/python3.7/site-packages/torch/functional.py:516: UserWarning: The function torch.rfft is deprecated and will be removed in a future PyTorch release. Use the new torch.fft module functions, instead, by importing torch.fft and calling torch.fft.fft or torch.fft.rfft. (Triggered internally at  /pytorch/aten/src/ATen/native/SpectralOps.cpp:590.)\n",
      "  normalized, onesided, return_complex)\n"
     ]
    },
    {
     "name": "stdout",
     "output_type": "stream",
     "text": [
      "Epoch: 3, Test set: Average loss: 0.9130, Average CER: 0.278326 Average WER: 0.7310\n",
      "\n",
      "Time for epoch: 1139.0 sec.\n"
     ]
    },
    {
     "name": "stderr",
     "output_type": "stream",
     "text": [
      "/home/ishalyminov/data/miniconda3/envs/shad_speech/lib/python3.7/site-packages/torch/functional.py:516: UserWarning: stft will require the return_complex parameter be explicitly  specified in a future PyTorch release. Use return_complex=False  to preserve the current behavior or return_complex=True to return  a complex output. (Triggered internally at  /pytorch/aten/src/ATen/native/SpectralOps.cpp:653.)\n",
      "  normalized, onesided, return_complex)\n",
      "/home/ishalyminov/data/miniconda3/envs/shad_speech/lib/python3.7/site-packages/torch/functional.py:516: UserWarning: The function torch.rfft is deprecated and will be removed in a future PyTorch release. Use the new torch.fft module functions, instead, by importing torch.fft and calling torch.fft.fft or torch.fft.rfft. (Triggered internally at  /pytorch/aten/src/ATen/native/SpectralOps.cpp:590.)\n",
      "  normalized, onesided, return_complex)\n"
     ]
    },
    {
     "name": "stdout",
     "output_type": "stream",
     "text": [
      "Train Epoch: 4 [0/28539 (0%)]\tLoss: 0.938523\n",
      "Train Epoch: 4 [1000/28539 (4%)]\tLoss: 0.947003\n",
      "Train Epoch: 4 [2000/28539 (7%)]\tLoss: 0.840027\n",
      "Train Epoch: 4 [3000/28539 (11%)]\tLoss: 0.786769\n",
      "Train Epoch: 4 [4000/28539 (14%)]\tLoss: 1.020162\n",
      "Train Epoch: 4 [5000/28539 (18%)]\tLoss: 0.927123\n",
      "Train Epoch: 4 [6000/28539 (21%)]\tLoss: 0.839154\n",
      "Train Epoch: 4 [7000/28539 (25%)]\tLoss: 0.828018\n",
      "Train Epoch: 4 [8000/28539 (28%)]\tLoss: 0.995220\n",
      "Train Epoch: 4 [9000/28539 (32%)]\tLoss: 1.076079\n",
      "Train Epoch: 4 [10000/28539 (35%)]\tLoss: 0.966039\n",
      "Train Epoch: 4 [11000/28539 (39%)]\tLoss: 0.974253\n",
      "Train Epoch: 4 [12000/28539 (42%)]\tLoss: 1.024481\n",
      "Train Epoch: 4 [13000/28539 (46%)]\tLoss: 0.936421\n",
      "Train Epoch: 4 [14000/28539 (49%)]\tLoss: 0.865599\n",
      "Train Epoch: 4 [15000/28539 (53%)]\tLoss: 0.844089\n",
      "Train Epoch: 4 [16000/28539 (56%)]\tLoss: 0.851480\n",
      "Train Epoch: 4 [17000/28539 (60%)]\tLoss: 0.825918\n",
      "Train Epoch: 4 [18000/28539 (63%)]\tLoss: 0.758573\n",
      "Train Epoch: 4 [19000/28539 (67%)]\tLoss: 0.881820\n",
      "Train Epoch: 4 [20000/28539 (70%)]\tLoss: 1.022163\n",
      "Train Epoch: 4 [21000/28539 (74%)]\tLoss: 0.809997\n",
      "Train Epoch: 4 [22000/28539 (77%)]\tLoss: 1.013858\n",
      "Train Epoch: 4 [23000/28539 (81%)]\tLoss: 0.790749\n",
      "Train Epoch: 4 [24000/28539 (84%)]\tLoss: 0.855053\n",
      "Train Epoch: 4 [25000/28539 (88%)]\tLoss: 0.868072\n",
      "Train Epoch: 4 [26000/28539 (91%)]\tLoss: 0.735638\n",
      "Train Epoch: 4 [27000/28539 (95%)]\tLoss: 0.822152\n",
      "Train Epoch: 4 [28000/28539 (98%)]\tLoss: 0.868014\n",
      "Beginning eval...\n"
     ]
    },
    {
     "name": "stderr",
     "output_type": "stream",
     "text": [
      "/home/ishalyminov/data/miniconda3/envs/shad_speech/lib/python3.7/site-packages/torch/functional.py:516: UserWarning: stft will require the return_complex parameter be explicitly  specified in a future PyTorch release. Use return_complex=False  to preserve the current behavior or return_complex=True to return  a complex output. (Triggered internally at  /pytorch/aten/src/ATen/native/SpectralOps.cpp:653.)\n",
      "  normalized, onesided, return_complex)\n",
      "/home/ishalyminov/data/miniconda3/envs/shad_speech/lib/python3.7/site-packages/torch/functional.py:516: UserWarning: The function torch.rfft is deprecated and will be removed in a future PyTorch release. Use the new torch.fft module functions, instead, by importing torch.fft and calling torch.fft.fft or torch.fft.rfft. (Triggered internally at  /pytorch/aten/src/ATen/native/SpectralOps.cpp:590.)\n",
      "  normalized, onesided, return_complex)\n"
     ]
    },
    {
     "name": "stdout",
     "output_type": "stream",
     "text": [
      "Epoch: 4, Test set: Average loss: 0.7858, Average CER: 0.242106 Average WER: 0.6624\n",
      "\n",
      "Time for epoch: 1146.0 sec.\n"
     ]
    },
    {
     "name": "stderr",
     "output_type": "stream",
     "text": [
      "/home/ishalyminov/data/miniconda3/envs/shad_speech/lib/python3.7/site-packages/torch/functional.py:516: UserWarning: stft will require the return_complex parameter be explicitly  specified in a future PyTorch release. Use return_complex=False  to preserve the current behavior or return_complex=True to return  a complex output. (Triggered internally at  /pytorch/aten/src/ATen/native/SpectralOps.cpp:653.)\n",
      "  normalized, onesided, return_complex)\n",
      "/home/ishalyminov/data/miniconda3/envs/shad_speech/lib/python3.7/site-packages/torch/functional.py:516: UserWarning: The function torch.rfft is deprecated and will be removed in a future PyTorch release. Use the new torch.fft module functions, instead, by importing torch.fft and calling torch.fft.fft or torch.fft.rfft. (Triggered internally at  /pytorch/aten/src/ATen/native/SpectralOps.cpp:590.)\n",
      "  normalized, onesided, return_complex)\n"
     ]
    },
    {
     "name": "stdout",
     "output_type": "stream",
     "text": [
      "Train Epoch: 5 [0/28539 (0%)]\tLoss: 0.656724\n",
      "Train Epoch: 5 [1000/28539 (4%)]\tLoss: 0.846005\n",
      "Train Epoch: 5 [2000/28539 (7%)]\tLoss: 0.891535\n",
      "Train Epoch: 5 [3000/28539 (11%)]\tLoss: 0.785476\n",
      "Train Epoch: 5 [4000/28539 (14%)]\tLoss: 0.830351\n",
      "Train Epoch: 5 [5000/28539 (18%)]\tLoss: 0.885749\n",
      "Train Epoch: 5 [6000/28539 (21%)]\tLoss: 0.614148\n",
      "Train Epoch: 5 [7000/28539 (25%)]\tLoss: 0.692334\n",
      "Train Epoch: 5 [8000/28539 (28%)]\tLoss: 0.781239\n",
      "Train Epoch: 5 [9000/28539 (32%)]\tLoss: 0.743273\n",
      "Train Epoch: 5 [10000/28539 (35%)]\tLoss: 0.855475\n",
      "Train Epoch: 5 [11000/28539 (39%)]\tLoss: 0.780892\n",
      "Train Epoch: 5 [12000/28539 (42%)]\tLoss: 0.821225\n",
      "Train Epoch: 5 [13000/28539 (46%)]\tLoss: 0.852731\n",
      "Train Epoch: 5 [14000/28539 (49%)]\tLoss: 0.708526\n",
      "Train Epoch: 5 [15000/28539 (53%)]\tLoss: 0.753908\n",
      "Train Epoch: 5 [16000/28539 (56%)]\tLoss: 0.798634\n",
      "Train Epoch: 5 [17000/28539 (60%)]\tLoss: 0.771676\n",
      "Train Epoch: 5 [18000/28539 (63%)]\tLoss: 0.726158\n",
      "Train Epoch: 5 [19000/28539 (67%)]\tLoss: 0.807191\n",
      "Train Epoch: 5 [20000/28539 (70%)]\tLoss: 0.710867\n",
      "Train Epoch: 5 [21000/28539 (74%)]\tLoss: 0.912991\n",
      "Train Epoch: 5 [22000/28539 (77%)]\tLoss: 0.830649\n",
      "Train Epoch: 5 [23000/28539 (81%)]\tLoss: 0.698203\n",
      "Train Epoch: 5 [24000/28539 (84%)]\tLoss: 0.840227\n",
      "Train Epoch: 5 [25000/28539 (88%)]\tLoss: 0.694170\n",
      "Train Epoch: 5 [26000/28539 (91%)]\tLoss: 0.737603\n",
      "Train Epoch: 5 [27000/28539 (95%)]\tLoss: 0.774477\n",
      "Train Epoch: 5 [28000/28539 (98%)]\tLoss: 0.707891\n",
      "Beginning eval...\n"
     ]
    },
    {
     "name": "stderr",
     "output_type": "stream",
     "text": [
      "/home/ishalyminov/data/miniconda3/envs/shad_speech/lib/python3.7/site-packages/torch/functional.py:516: UserWarning: stft will require the return_complex parameter be explicitly  specified in a future PyTorch release. Use return_complex=False  to preserve the current behavior or return_complex=True to return  a complex output. (Triggered internally at  /pytorch/aten/src/ATen/native/SpectralOps.cpp:653.)\n",
      "  normalized, onesided, return_complex)\n",
      "/home/ishalyminov/data/miniconda3/envs/shad_speech/lib/python3.7/site-packages/torch/functional.py:516: UserWarning: The function torch.rfft is deprecated and will be removed in a future PyTorch release. Use the new torch.fft module functions, instead, by importing torch.fft and calling torch.fft.fft or torch.fft.rfft. (Triggered internally at  /pytorch/aten/src/ATen/native/SpectralOps.cpp:590.)\n",
      "  normalized, onesided, return_complex)\n"
     ]
    },
    {
     "name": "stdout",
     "output_type": "stream",
     "text": [
      "Epoch: 5, Test set: Average loss: 0.7243, Average CER: 0.218105 Average WER: 0.6088\n",
      "\n",
      "Time for epoch: 1156.0 sec.\n"
     ]
    },
    {
     "name": "stderr",
     "output_type": "stream",
     "text": [
      "/home/ishalyminov/data/miniconda3/envs/shad_speech/lib/python3.7/site-packages/torch/functional.py:516: UserWarning: stft will require the return_complex parameter be explicitly  specified in a future PyTorch release. Use return_complex=False  to preserve the current behavior or return_complex=True to return  a complex output. (Triggered internally at  /pytorch/aten/src/ATen/native/SpectralOps.cpp:653.)\n",
      "  normalized, onesided, return_complex)\n",
      "/home/ishalyminov/data/miniconda3/envs/shad_speech/lib/python3.7/site-packages/torch/functional.py:516: UserWarning: The function torch.rfft is deprecated and will be removed in a future PyTorch release. Use the new torch.fft module functions, instead, by importing torch.fft and calling torch.fft.fft or torch.fft.rfft. (Triggered internally at  /pytorch/aten/src/ATen/native/SpectralOps.cpp:590.)\n",
      "  normalized, onesided, return_complex)\n"
     ]
    },
    {
     "name": "stdout",
     "output_type": "stream",
     "text": [
      "Train Epoch: 6 [0/28539 (0%)]\tLoss: 0.652595\n",
      "Train Epoch: 6 [1000/28539 (4%)]\tLoss: 0.788451\n",
      "Train Epoch: 6 [2000/28539 (7%)]\tLoss: 0.774547\n",
      "Train Epoch: 6 [3000/28539 (11%)]\tLoss: 0.703035\n",
      "Train Epoch: 6 [4000/28539 (14%)]\tLoss: 0.769214\n",
      "Train Epoch: 6 [5000/28539 (18%)]\tLoss: 0.690122\n",
      "Train Epoch: 6 [6000/28539 (21%)]\tLoss: 0.710654\n",
      "Train Epoch: 6 [7000/28539 (25%)]\tLoss: 0.730189\n",
      "Train Epoch: 6 [8000/28539 (28%)]\tLoss: 0.839673\n",
      "Train Epoch: 6 [9000/28539 (32%)]\tLoss: 0.569071\n",
      "Train Epoch: 6 [10000/28539 (35%)]\tLoss: 0.711320\n",
      "Train Epoch: 6 [11000/28539 (39%)]\tLoss: 0.696267\n",
      "Train Epoch: 6 [12000/28539 (42%)]\tLoss: 0.809160\n",
      "Train Epoch: 6 [13000/28539 (46%)]\tLoss: 0.847249\n",
      "Train Epoch: 6 [14000/28539 (49%)]\tLoss: 0.710415\n",
      "Train Epoch: 6 [15000/28539 (53%)]\tLoss: 0.821303\n",
      "Train Epoch: 6 [16000/28539 (56%)]\tLoss: 0.744742\n",
      "Train Epoch: 6 [17000/28539 (60%)]\tLoss: 0.659483\n",
      "Train Epoch: 6 [18000/28539 (63%)]\tLoss: 0.718622\n",
      "Train Epoch: 6 [19000/28539 (67%)]\tLoss: 0.639561\n",
      "Train Epoch: 6 [20000/28539 (70%)]\tLoss: 0.694677\n",
      "Train Epoch: 6 [21000/28539 (74%)]\tLoss: 0.765231\n",
      "Train Epoch: 6 [22000/28539 (77%)]\tLoss: 0.626516\n",
      "Train Epoch: 6 [23000/28539 (81%)]\tLoss: 0.740979\n",
      "Train Epoch: 6 [24000/28539 (84%)]\tLoss: 0.694813\n",
      "Train Epoch: 6 [25000/28539 (88%)]\tLoss: 0.566950\n",
      "Train Epoch: 6 [26000/28539 (91%)]\tLoss: 0.733791\n",
      "Train Epoch: 6 [27000/28539 (95%)]\tLoss: 0.767441\n",
      "Train Epoch: 6 [28000/28539 (98%)]\tLoss: 0.638462\n",
      "Beginning eval...\n"
     ]
    },
    {
     "name": "stderr",
     "output_type": "stream",
     "text": [
      "/home/ishalyminov/data/miniconda3/envs/shad_speech/lib/python3.7/site-packages/torch/functional.py:516: UserWarning: stft will require the return_complex parameter be explicitly  specified in a future PyTorch release. Use return_complex=False  to preserve the current behavior or return_complex=True to return  a complex output. (Triggered internally at  /pytorch/aten/src/ATen/native/SpectralOps.cpp:653.)\n",
      "  normalized, onesided, return_complex)\n",
      "/home/ishalyminov/data/miniconda3/envs/shad_speech/lib/python3.7/site-packages/torch/functional.py:516: UserWarning: The function torch.rfft is deprecated and will be removed in a future PyTorch release. Use the new torch.fft module functions, instead, by importing torch.fft and calling torch.fft.fft or torch.fft.rfft. (Triggered internally at  /pytorch/aten/src/ATen/native/SpectralOps.cpp:590.)\n",
      "  normalized, onesided, return_complex)\n"
     ]
    },
    {
     "name": "stdout",
     "output_type": "stream",
     "text": [
      "Epoch: 6, Test set: Average loss: 0.6850, Average CER: 0.202674 Average WER: 0.5769\n",
      "\n",
      "Time for epoch: 1164.0 sec.\n"
     ]
    },
    {
     "name": "stderr",
     "output_type": "stream",
     "text": [
      "/home/ishalyminov/data/miniconda3/envs/shad_speech/lib/python3.7/site-packages/torch/functional.py:516: UserWarning: stft will require the return_complex parameter be explicitly  specified in a future PyTorch release. Use return_complex=False  to preserve the current behavior or return_complex=True to return  a complex output. (Triggered internally at  /pytorch/aten/src/ATen/native/SpectralOps.cpp:653.)\n",
      "  normalized, onesided, return_complex)\n",
      "/home/ishalyminov/data/miniconda3/envs/shad_speech/lib/python3.7/site-packages/torch/functional.py:516: UserWarning: The function torch.rfft is deprecated and will be removed in a future PyTorch release. Use the new torch.fft module functions, instead, by importing torch.fft and calling torch.fft.fft or torch.fft.rfft. (Triggered internally at  /pytorch/aten/src/ATen/native/SpectralOps.cpp:590.)\n",
      "  normalized, onesided, return_complex)\n"
     ]
    },
    {
     "name": "stdout",
     "output_type": "stream",
     "text": [
      "Train Epoch: 7 [0/28539 (0%)]\tLoss: 0.601134\n",
      "Train Epoch: 7 [1000/28539 (4%)]\tLoss: 0.784542\n",
      "Train Epoch: 7 [2000/28539 (7%)]\tLoss: 0.804610\n",
      "Train Epoch: 7 [3000/28539 (11%)]\tLoss: 0.616535\n",
      "Train Epoch: 7 [4000/28539 (14%)]\tLoss: 0.759194\n",
      "Train Epoch: 7 [5000/28539 (18%)]\tLoss: 0.747007\n",
      "Train Epoch: 7 [6000/28539 (21%)]\tLoss: 0.756966\n",
      "Train Epoch: 7 [7000/28539 (25%)]\tLoss: 0.617953\n",
      "Train Epoch: 7 [8000/28539 (28%)]\tLoss: 0.622090\n",
      "Train Epoch: 7 [9000/28539 (32%)]\tLoss: 0.677715\n",
      "Train Epoch: 7 [10000/28539 (35%)]\tLoss: 0.862743\n",
      "Train Epoch: 7 [11000/28539 (39%)]\tLoss: 0.650118\n",
      "Train Epoch: 7 [12000/28539 (42%)]\tLoss: 0.815088\n",
      "Train Epoch: 7 [13000/28539 (46%)]\tLoss: 0.820266\n",
      "Train Epoch: 7 [14000/28539 (49%)]\tLoss: 0.751842\n",
      "Train Epoch: 7 [15000/28539 (53%)]\tLoss: 0.693411\n",
      "Train Epoch: 7 [16000/28539 (56%)]\tLoss: 0.585833\n",
      "Train Epoch: 7 [17000/28539 (60%)]\tLoss: 0.793670\n",
      "Train Epoch: 7 [18000/28539 (63%)]\tLoss: 0.588350\n",
      "Train Epoch: 7 [19000/28539 (67%)]\tLoss: 0.665865\n",
      "Train Epoch: 7 [20000/28539 (70%)]\tLoss: 0.829835\n",
      "Train Epoch: 7 [21000/28539 (74%)]\tLoss: 0.653498\n",
      "Train Epoch: 7 [22000/28539 (77%)]\tLoss: 0.585223\n",
      "Train Epoch: 7 [23000/28539 (81%)]\tLoss: 0.728676\n",
      "Train Epoch: 7 [24000/28539 (84%)]\tLoss: 0.672121\n",
      "Train Epoch: 7 [25000/28539 (88%)]\tLoss: 0.711001\n",
      "Train Epoch: 7 [26000/28539 (91%)]\tLoss: 0.685753\n",
      "Train Epoch: 7 [27000/28539 (95%)]\tLoss: 0.677085\n",
      "Train Epoch: 7 [28000/28539 (98%)]\tLoss: 0.690034\n",
      "Beginning eval...\n"
     ]
    },
    {
     "name": "stderr",
     "output_type": "stream",
     "text": [
      "/home/ishalyminov/data/miniconda3/envs/shad_speech/lib/python3.7/site-packages/torch/functional.py:516: UserWarning: stft will require the return_complex parameter be explicitly  specified in a future PyTorch release. Use return_complex=False  to preserve the current behavior or return_complex=True to return  a complex output. (Triggered internally at  /pytorch/aten/src/ATen/native/SpectralOps.cpp:653.)\n",
      "  normalized, onesided, return_complex)\n",
      "/home/ishalyminov/data/miniconda3/envs/shad_speech/lib/python3.7/site-packages/torch/functional.py:516: UserWarning: The function torch.rfft is deprecated and will be removed in a future PyTorch release. Use the new torch.fft module functions, instead, by importing torch.fft and calling torch.fft.fft or torch.fft.rfft. (Triggered internally at  /pytorch/aten/src/ATen/native/SpectralOps.cpp:590.)\n",
      "  normalized, onesided, return_complex)\n"
     ]
    },
    {
     "name": "stdout",
     "output_type": "stream",
     "text": [
      "Epoch: 7, Test set: Average loss: 0.6196, Average CER: 0.187352 Average WER: 0.5429\n",
      "\n",
      "Time for epoch: 1150.0 sec.\n"
     ]
    },
    {
     "name": "stderr",
     "output_type": "stream",
     "text": [
      "/home/ishalyminov/data/miniconda3/envs/shad_speech/lib/python3.7/site-packages/torch/functional.py:516: UserWarning: stft will require the return_complex parameter be explicitly  specified in a future PyTorch release. Use return_complex=False  to preserve the current behavior or return_complex=True to return  a complex output. (Triggered internally at  /pytorch/aten/src/ATen/native/SpectralOps.cpp:653.)\n",
      "  normalized, onesided, return_complex)\n",
      "/home/ishalyminov/data/miniconda3/envs/shad_speech/lib/python3.7/site-packages/torch/functional.py:516: UserWarning: The function torch.rfft is deprecated and will be removed in a future PyTorch release. Use the new torch.fft module functions, instead, by importing torch.fft and calling torch.fft.fft or torch.fft.rfft. (Triggered internally at  /pytorch/aten/src/ATen/native/SpectralOps.cpp:590.)\n",
      "  normalized, onesided, return_complex)\n"
     ]
    },
    {
     "name": "stdout",
     "output_type": "stream",
     "text": [
      "Train Epoch: 8 [0/28539 (0%)]\tLoss: 0.550423\n",
      "Train Epoch: 8 [1000/28539 (4%)]\tLoss: 0.528611\n",
      "Train Epoch: 8 [2000/28539 (7%)]\tLoss: 0.725841\n",
      "Train Epoch: 8 [3000/28539 (11%)]\tLoss: 0.611829\n",
      "Train Epoch: 8 [4000/28539 (14%)]\tLoss: 0.617586\n",
      "Train Epoch: 8 [5000/28539 (18%)]\tLoss: 0.517160\n",
      "Train Epoch: 8 [6000/28539 (21%)]\tLoss: 0.652066\n",
      "Train Epoch: 8 [7000/28539 (25%)]\tLoss: 0.526475\n",
      "Train Epoch: 8 [8000/28539 (28%)]\tLoss: 0.570323\n",
      "Train Epoch: 8 [9000/28539 (32%)]\tLoss: 0.564202\n",
      "Train Epoch: 8 [10000/28539 (35%)]\tLoss: 0.623515\n",
      "Train Epoch: 8 [11000/28539 (39%)]\tLoss: 0.683093\n",
      "Train Epoch: 8 [12000/28539 (42%)]\tLoss: 0.641090\n",
      "Train Epoch: 8 [13000/28539 (46%)]\tLoss: 0.608869\n",
      "Train Epoch: 8 [14000/28539 (49%)]\tLoss: 0.613128\n",
      "Train Epoch: 8 [15000/28539 (53%)]\tLoss: 0.598027\n",
      "Train Epoch: 8 [16000/28539 (56%)]\tLoss: 0.599710\n",
      "Train Epoch: 8 [17000/28539 (60%)]\tLoss: 0.531437\n",
      "Train Epoch: 8 [18000/28539 (63%)]\tLoss: 0.665896\n",
      "Train Epoch: 8 [19000/28539 (67%)]\tLoss: 0.677037\n",
      "Train Epoch: 8 [20000/28539 (70%)]\tLoss: 0.719782\n",
      "Train Epoch: 8 [21000/28539 (74%)]\tLoss: 0.578885\n",
      "Train Epoch: 8 [22000/28539 (77%)]\tLoss: 0.474778\n",
      "Train Epoch: 8 [23000/28539 (81%)]\tLoss: 0.622782\n",
      "Train Epoch: 8 [24000/28539 (84%)]\tLoss: 0.626831\n",
      "Train Epoch: 8 [25000/28539 (88%)]\tLoss: 0.533593\n",
      "Train Epoch: 8 [26000/28539 (91%)]\tLoss: 0.572566\n",
      "Train Epoch: 8 [27000/28539 (95%)]\tLoss: 0.588242\n",
      "Train Epoch: 8 [28000/28539 (98%)]\tLoss: 0.542042\n",
      "Beginning eval...\n"
     ]
    },
    {
     "name": "stderr",
     "output_type": "stream",
     "text": [
      "/home/ishalyminov/data/miniconda3/envs/shad_speech/lib/python3.7/site-packages/torch/functional.py:516: UserWarning: stft will require the return_complex parameter be explicitly  specified in a future PyTorch release. Use return_complex=False  to preserve the current behavior or return_complex=True to return  a complex output. (Triggered internally at  /pytorch/aten/src/ATen/native/SpectralOps.cpp:653.)\n",
      "  normalized, onesided, return_complex)\n",
      "/home/ishalyminov/data/miniconda3/envs/shad_speech/lib/python3.7/site-packages/torch/functional.py:516: UserWarning: The function torch.rfft is deprecated and will be removed in a future PyTorch release. Use the new torch.fft module functions, instead, by importing torch.fft and calling torch.fft.fft or torch.fft.rfft. (Triggered internally at  /pytorch/aten/src/ATen/native/SpectralOps.cpp:590.)\n",
      "  normalized, onesided, return_complex)\n"
     ]
    },
    {
     "name": "stdout",
     "output_type": "stream",
     "text": [
      "Epoch: 8, Test set: Average loss: 0.5815, Average CER: 0.173496 Average WER: 0.5068\n",
      "\n",
      "Time for epoch: 1153.0 sec.\n"
     ]
    },
    {
     "name": "stderr",
     "output_type": "stream",
     "text": [
      "/home/ishalyminov/data/miniconda3/envs/shad_speech/lib/python3.7/site-packages/torch/functional.py:516: UserWarning: stft will require the return_complex parameter be explicitly  specified in a future PyTorch release. Use return_complex=False  to preserve the current behavior or return_complex=True to return  a complex output. (Triggered internally at  /pytorch/aten/src/ATen/native/SpectralOps.cpp:653.)\n",
      "  normalized, onesided, return_complex)\n",
      "/home/ishalyminov/data/miniconda3/envs/shad_speech/lib/python3.7/site-packages/torch/functional.py:516: UserWarning: The function torch.rfft is deprecated and will be removed in a future PyTorch release. Use the new torch.fft module functions, instead, by importing torch.fft and calling torch.fft.fft or torch.fft.rfft. (Triggered internally at  /pytorch/aten/src/ATen/native/SpectralOps.cpp:590.)\n",
      "  normalized, onesided, return_complex)\n"
     ]
    },
    {
     "name": "stdout",
     "output_type": "stream",
     "text": [
      "Train Epoch: 9 [0/28539 (0%)]\tLoss: 0.555328\n",
      "Train Epoch: 9 [1000/28539 (4%)]\tLoss: 0.527722\n",
      "Train Epoch: 9 [2000/28539 (7%)]\tLoss: 0.459766\n",
      "Train Epoch: 9 [3000/28539 (11%)]\tLoss: 0.598489\n",
      "Train Epoch: 9 [4000/28539 (14%)]\tLoss: 0.538637\n",
      "Train Epoch: 9 [5000/28539 (18%)]\tLoss: 0.679987\n",
      "Train Epoch: 9 [6000/28539 (21%)]\tLoss: 0.714514\n",
      "Train Epoch: 9 [7000/28539 (25%)]\tLoss: 0.558036\n",
      "Train Epoch: 9 [8000/28539 (28%)]\tLoss: 0.528353\n",
      "Train Epoch: 9 [9000/28539 (32%)]\tLoss: 0.499391\n",
      "Train Epoch: 9 [10000/28539 (35%)]\tLoss: 0.526104\n",
      "Train Epoch: 9 [11000/28539 (39%)]\tLoss: 0.652353\n",
      "Train Epoch: 9 [12000/28539 (42%)]\tLoss: 0.452994\n",
      "Train Epoch: 9 [13000/28539 (46%)]\tLoss: 0.692851\n",
      "Train Epoch: 9 [14000/28539 (49%)]\tLoss: 0.578443\n",
      "Train Epoch: 9 [15000/28539 (53%)]\tLoss: 0.646066\n",
      "Train Epoch: 9 [16000/28539 (56%)]\tLoss: 0.526096\n",
      "Train Epoch: 9 [17000/28539 (60%)]\tLoss: 0.569570\n",
      "Train Epoch: 9 [18000/28539 (63%)]\tLoss: 0.690165\n",
      "Train Epoch: 9 [19000/28539 (67%)]\tLoss: 0.615798\n",
      "Train Epoch: 9 [20000/28539 (70%)]\tLoss: 0.579979\n",
      "Train Epoch: 9 [21000/28539 (74%)]\tLoss: 0.629659\n",
      "Train Epoch: 9 [22000/28539 (77%)]\tLoss: 0.659486\n",
      "Train Epoch: 9 [23000/28539 (81%)]\tLoss: 0.493437\n",
      "Train Epoch: 9 [24000/28539 (84%)]\tLoss: 0.686561\n",
      "Train Epoch: 9 [25000/28539 (88%)]\tLoss: 0.574379\n",
      "Train Epoch: 9 [26000/28539 (91%)]\tLoss: 0.621637\n",
      "Train Epoch: 9 [27000/28539 (95%)]\tLoss: 0.502176\n",
      "Train Epoch: 9 [28000/28539 (98%)]\tLoss: 0.559314\n",
      "Beginning eval...\n"
     ]
    },
    {
     "name": "stderr",
     "output_type": "stream",
     "text": [
      "/home/ishalyminov/data/miniconda3/envs/shad_speech/lib/python3.7/site-packages/torch/functional.py:516: UserWarning: stft will require the return_complex parameter be explicitly  specified in a future PyTorch release. Use return_complex=False  to preserve the current behavior or return_complex=True to return  a complex output. (Triggered internally at  /pytorch/aten/src/ATen/native/SpectralOps.cpp:653.)\n",
      "  normalized, onesided, return_complex)\n",
      "/home/ishalyminov/data/miniconda3/envs/shad_speech/lib/python3.7/site-packages/torch/functional.py:516: UserWarning: The function torch.rfft is deprecated and will be removed in a future PyTorch release. Use the new torch.fft module functions, instead, by importing torch.fft and calling torch.fft.fft or torch.fft.rfft. (Triggered internally at  /pytorch/aten/src/ATen/native/SpectralOps.cpp:590.)\n",
      "  normalized, onesided, return_complex)\n"
     ]
    },
    {
     "name": "stdout",
     "output_type": "stream",
     "text": [
      "Epoch: 9, Test set: Average loss: 0.5472, Average CER: 0.160191 Average WER: 0.4736\n",
      "\n",
      "Time for epoch: 1157.0 sec.\n"
     ]
    },
    {
     "name": "stderr",
     "output_type": "stream",
     "text": [
      "/home/ishalyminov/data/miniconda3/envs/shad_speech/lib/python3.7/site-packages/torch/functional.py:516: UserWarning: stft will require the return_complex parameter be explicitly  specified in a future PyTorch release. Use return_complex=False  to preserve the current behavior or return_complex=True to return  a complex output. (Triggered internally at  /pytorch/aten/src/ATen/native/SpectralOps.cpp:653.)\n",
      "  normalized, onesided, return_complex)\n",
      "/home/ishalyminov/data/miniconda3/envs/shad_speech/lib/python3.7/site-packages/torch/functional.py:516: UserWarning: The function torch.rfft is deprecated and will be removed in a future PyTorch release. Use the new torch.fft module functions, instead, by importing torch.fft and calling torch.fft.fft or torch.fft.rfft. (Triggered internally at  /pytorch/aten/src/ATen/native/SpectralOps.cpp:590.)\n",
      "  normalized, onesided, return_complex)\n"
     ]
    },
    {
     "name": "stdout",
     "output_type": "stream",
     "text": [
      "Train Epoch: 10 [0/28539 (0%)]\tLoss: 0.521666\n",
      "Train Epoch: 10 [1000/28539 (4%)]\tLoss: 0.548417\n",
      "Train Epoch: 10 [2000/28539 (7%)]\tLoss: 0.588130\n",
      "Train Epoch: 10 [3000/28539 (11%)]\tLoss: 0.540814\n",
      "Train Epoch: 10 [4000/28539 (14%)]\tLoss: 0.615866\n",
      "Train Epoch: 10 [5000/28539 (18%)]\tLoss: 0.559658\n",
      "Train Epoch: 10 [6000/28539 (21%)]\tLoss: 0.489163\n",
      "Train Epoch: 10 [7000/28539 (25%)]\tLoss: 0.519549\n",
      "Train Epoch: 10 [8000/28539 (28%)]\tLoss: 0.412456\n",
      "Train Epoch: 10 [9000/28539 (32%)]\tLoss: 0.584088\n",
      "Train Epoch: 10 [10000/28539 (35%)]\tLoss: 0.638866\n",
      "Train Epoch: 10 [11000/28539 (39%)]\tLoss: 0.597697\n",
      "Train Epoch: 10 [12000/28539 (42%)]\tLoss: 0.497839\n",
      "Train Epoch: 10 [13000/28539 (46%)]\tLoss: 0.492413\n",
      "Train Epoch: 10 [14000/28539 (49%)]\tLoss: 0.479366\n",
      "Train Epoch: 10 [15000/28539 (53%)]\tLoss: 0.686926\n",
      "Train Epoch: 10 [16000/28539 (56%)]\tLoss: 0.528909\n",
      "Train Epoch: 10 [17000/28539 (60%)]\tLoss: 0.617471\n",
      "Train Epoch: 10 [18000/28539 (63%)]\tLoss: 0.533898\n",
      "Train Epoch: 10 [19000/28539 (67%)]\tLoss: 0.484130\n",
      "Train Epoch: 10 [20000/28539 (70%)]\tLoss: 0.446404\n",
      "Train Epoch: 10 [21000/28539 (74%)]\tLoss: 0.429981\n",
      "Train Epoch: 10 [22000/28539 (77%)]\tLoss: 0.465975\n",
      "Train Epoch: 10 [23000/28539 (81%)]\tLoss: 0.638375\n",
      "Train Epoch: 10 [24000/28539 (84%)]\tLoss: 0.512533\n",
      "Train Epoch: 10 [25000/28539 (88%)]\tLoss: 0.547550\n",
      "Train Epoch: 10 [26000/28539 (91%)]\tLoss: 0.555306\n",
      "Train Epoch: 10 [27000/28539 (95%)]\tLoss: 0.410502\n",
      "Train Epoch: 10 [28000/28539 (98%)]\tLoss: 0.514149\n",
      "Beginning eval...\n"
     ]
    },
    {
     "name": "stderr",
     "output_type": "stream",
     "text": [
      "/home/ishalyminov/data/miniconda3/envs/shad_speech/lib/python3.7/site-packages/torch/functional.py:516: UserWarning: stft will require the return_complex parameter be explicitly  specified in a future PyTorch release. Use return_complex=False  to preserve the current behavior or return_complex=True to return  a complex output. (Triggered internally at  /pytorch/aten/src/ATen/native/SpectralOps.cpp:653.)\n",
      "  normalized, onesided, return_complex)\n",
      "/home/ishalyminov/data/miniconda3/envs/shad_speech/lib/python3.7/site-packages/torch/functional.py:516: UserWarning: The function torch.rfft is deprecated and will be removed in a future PyTorch release. Use the new torch.fft module functions, instead, by importing torch.fft and calling torch.fft.fft or torch.fft.rfft. (Triggered internally at  /pytorch/aten/src/ATen/native/SpectralOps.cpp:590.)\n",
      "  normalized, onesided, return_complex)\n"
     ]
    },
    {
     "name": "stdout",
     "output_type": "stream",
     "text": [
      "Epoch: 10, Test set: Average loss: 0.5247, Average CER: 0.152602 Average WER: 0.4555\n",
      "\n",
      "Time for epoch: 1164.0 sec.\n"
     ]
    },
    {
     "name": "stderr",
     "output_type": "stream",
     "text": [
      "/home/ishalyminov/data/miniconda3/envs/shad_speech/lib/python3.7/site-packages/torch/functional.py:516: UserWarning: stft will require the return_complex parameter be explicitly  specified in a future PyTorch release. Use return_complex=False  to preserve the current behavior or return_complex=True to return  a complex output. (Triggered internally at  /pytorch/aten/src/ATen/native/SpectralOps.cpp:653.)\n",
      "  normalized, onesided, return_complex)\n",
      "/home/ishalyminov/data/miniconda3/envs/shad_speech/lib/python3.7/site-packages/torch/functional.py:516: UserWarning: The function torch.rfft is deprecated and will be removed in a future PyTorch release. Use the new torch.fft module functions, instead, by importing torch.fft and calling torch.fft.fft or torch.fft.rfft. (Triggered internally at  /pytorch/aten/src/ATen/native/SpectralOps.cpp:590.)\n",
      "  normalized, onesided, return_complex)\n"
     ]
    },
    {
     "name": "stdout",
     "output_type": "stream",
     "text": [
      "Train Epoch: 11 [0/28539 (0%)]\tLoss: 0.575396\n",
      "Train Epoch: 11 [1000/28539 (4%)]\tLoss: 0.475762\n",
      "Train Epoch: 11 [2000/28539 (7%)]\tLoss: 0.438910\n",
      "Train Epoch: 11 [3000/28539 (11%)]\tLoss: 0.449609\n",
      "Train Epoch: 11 [4000/28539 (14%)]\tLoss: 0.520683\n",
      "Train Epoch: 11 [5000/28539 (18%)]\tLoss: 0.520777\n",
      "Train Epoch: 11 [6000/28539 (21%)]\tLoss: 0.514773\n",
      "Train Epoch: 11 [7000/28539 (25%)]\tLoss: 0.568565\n",
      "Train Epoch: 11 [8000/28539 (28%)]\tLoss: 0.548950\n",
      "Train Epoch: 11 [9000/28539 (32%)]\tLoss: 0.353517\n",
      "Train Epoch: 11 [10000/28539 (35%)]\tLoss: 0.448632\n",
      "Train Epoch: 11 [11000/28539 (39%)]\tLoss: 0.532501\n",
      "Train Epoch: 11 [12000/28539 (42%)]\tLoss: 0.523867\n",
      "Train Epoch: 11 [13000/28539 (46%)]\tLoss: 0.471035\n",
      "Train Epoch: 11 [14000/28539 (49%)]\tLoss: 0.459219\n",
      "Train Epoch: 11 [15000/28539 (53%)]\tLoss: 0.460961\n",
      "Train Epoch: 11 [16000/28539 (56%)]\tLoss: 0.491170\n",
      "Train Epoch: 11 [17000/28539 (60%)]\tLoss: 0.471282\n",
      "Train Epoch: 11 [18000/28539 (63%)]\tLoss: 0.480272\n",
      "Train Epoch: 11 [19000/28539 (67%)]\tLoss: 0.497851\n",
      "Train Epoch: 11 [20000/28539 (70%)]\tLoss: 0.398672\n",
      "Train Epoch: 11 [21000/28539 (74%)]\tLoss: 0.387493\n",
      "Train Epoch: 11 [22000/28539 (77%)]\tLoss: 0.579271\n",
      "Train Epoch: 11 [23000/28539 (81%)]\tLoss: 0.368072\n",
      "Train Epoch: 11 [24000/28539 (84%)]\tLoss: 0.432207\n",
      "Train Epoch: 11 [25000/28539 (88%)]\tLoss: 0.521607\n",
      "Train Epoch: 11 [26000/28539 (91%)]\tLoss: 0.407938\n",
      "Train Epoch: 11 [27000/28539 (95%)]\tLoss: 0.430156\n",
      "Train Epoch: 11 [28000/28539 (98%)]\tLoss: 0.521096\n",
      "Beginning eval...\n"
     ]
    },
    {
     "name": "stderr",
     "output_type": "stream",
     "text": [
      "/home/ishalyminov/data/miniconda3/envs/shad_speech/lib/python3.7/site-packages/torch/functional.py:516: UserWarning: stft will require the return_complex parameter be explicitly  specified in a future PyTorch release. Use return_complex=False  to preserve the current behavior or return_complex=True to return  a complex output. (Triggered internally at  /pytorch/aten/src/ATen/native/SpectralOps.cpp:653.)\n",
      "  normalized, onesided, return_complex)\n",
      "/home/ishalyminov/data/miniconda3/envs/shad_speech/lib/python3.7/site-packages/torch/functional.py:516: UserWarning: The function torch.rfft is deprecated and will be removed in a future PyTorch release. Use the new torch.fft module functions, instead, by importing torch.fft and calling torch.fft.fft or torch.fft.rfft. (Triggered internally at  /pytorch/aten/src/ATen/native/SpectralOps.cpp:590.)\n",
      "  normalized, onesided, return_complex)\n"
     ]
    },
    {
     "name": "stdout",
     "output_type": "stream",
     "text": [
      "Epoch: 11, Test set: Average loss: 0.5089, Average CER: 0.147818 Average WER: 0.4452\n",
      "\n",
      "Time for epoch: 1161.0 sec.\n"
     ]
    },
    {
     "name": "stderr",
     "output_type": "stream",
     "text": [
      "/home/ishalyminov/data/miniconda3/envs/shad_speech/lib/python3.7/site-packages/torch/functional.py:516: UserWarning: stft will require the return_complex parameter be explicitly  specified in a future PyTorch release. Use return_complex=False  to preserve the current behavior or return_complex=True to return  a complex output. (Triggered internally at  /pytorch/aten/src/ATen/native/SpectralOps.cpp:653.)\n",
      "  normalized, onesided, return_complex)\n",
      "/home/ishalyminov/data/miniconda3/envs/shad_speech/lib/python3.7/site-packages/torch/functional.py:516: UserWarning: The function torch.rfft is deprecated and will be removed in a future PyTorch release. Use the new torch.fft module functions, instead, by importing torch.fft and calling torch.fft.fft or torch.fft.rfft. (Triggered internally at  /pytorch/aten/src/ATen/native/SpectralOps.cpp:590.)\n",
      "  normalized, onesided, return_complex)\n"
     ]
    },
    {
     "name": "stdout",
     "output_type": "stream",
     "text": [
      "Train Epoch: 12 [0/28539 (0%)]\tLoss: 0.492715\n",
      "Train Epoch: 12 [1000/28539 (4%)]\tLoss: 0.452413\n",
      "Train Epoch: 12 [2000/28539 (7%)]\tLoss: 0.407525\n",
      "Train Epoch: 12 [3000/28539 (11%)]\tLoss: 0.404672\n",
      "Train Epoch: 12 [4000/28539 (14%)]\tLoss: 0.412573\n",
      "Train Epoch: 12 [5000/28539 (18%)]\tLoss: 0.375239\n",
      "Train Epoch: 12 [6000/28539 (21%)]\tLoss: 0.437091\n",
      "Train Epoch: 12 [7000/28539 (25%)]\tLoss: 0.354736\n",
      "Train Epoch: 12 [8000/28539 (28%)]\tLoss: 0.492908\n",
      "Train Epoch: 12 [9000/28539 (32%)]\tLoss: 0.365037\n",
      "Train Epoch: 12 [10000/28539 (35%)]\tLoss: 0.393021\n",
      "Train Epoch: 12 [11000/28539 (39%)]\tLoss: 0.406110\n",
      "Train Epoch: 12 [12000/28539 (42%)]\tLoss: 0.387092\n",
      "Train Epoch: 12 [13000/28539 (46%)]\tLoss: 0.288236\n",
      "Train Epoch: 12 [14000/28539 (49%)]\tLoss: 0.428146\n",
      "Train Epoch: 12 [15000/28539 (53%)]\tLoss: 0.464950\n",
      "Train Epoch: 12 [16000/28539 (56%)]\tLoss: 0.435296\n",
      "Train Epoch: 12 [17000/28539 (60%)]\tLoss: 0.445657\n",
      "Train Epoch: 12 [18000/28539 (63%)]\tLoss: 0.455974\n",
      "Train Epoch: 12 [19000/28539 (67%)]\tLoss: 0.358752\n",
      "Train Epoch: 12 [20000/28539 (70%)]\tLoss: 0.455972\n",
      "Train Epoch: 12 [21000/28539 (74%)]\tLoss: 0.410501\n",
      "Train Epoch: 12 [22000/28539 (77%)]\tLoss: 0.442005\n",
      "Train Epoch: 12 [23000/28539 (81%)]\tLoss: 0.419708\n",
      "Train Epoch: 12 [24000/28539 (84%)]\tLoss: 0.559062\n",
      "Train Epoch: 12 [25000/28539 (88%)]\tLoss: 0.482607\n",
      "Train Epoch: 12 [26000/28539 (91%)]\tLoss: 0.381887\n",
      "Train Epoch: 12 [27000/28539 (95%)]\tLoss: 0.404260\n",
      "Train Epoch: 12 [28000/28539 (98%)]\tLoss: 0.527070\n",
      "Beginning eval...\n"
     ]
    },
    {
     "name": "stderr",
     "output_type": "stream",
     "text": [
      "/home/ishalyminov/data/miniconda3/envs/shad_speech/lib/python3.7/site-packages/torch/functional.py:516: UserWarning: stft will require the return_complex parameter be explicitly  specified in a future PyTorch release. Use return_complex=False  to preserve the current behavior or return_complex=True to return  a complex output. (Triggered internally at  /pytorch/aten/src/ATen/native/SpectralOps.cpp:653.)\n",
      "  normalized, onesided, return_complex)\n",
      "/home/ishalyminov/data/miniconda3/envs/shad_speech/lib/python3.7/site-packages/torch/functional.py:516: UserWarning: The function torch.rfft is deprecated and will be removed in a future PyTorch release. Use the new torch.fft module functions, instead, by importing torch.fft and calling torch.fft.fft or torch.fft.rfft. (Triggered internally at  /pytorch/aten/src/ATen/native/SpectralOps.cpp:590.)\n",
      "  normalized, onesided, return_complex)\n"
     ]
    },
    {
     "name": "stdout",
     "output_type": "stream",
     "text": [
      "Epoch: 12, Test set: Average loss: 0.4917, Average CER: 0.141184 Average WER: 0.4276\n",
      "\n",
      "Time for epoch: 1160.0 sec.\n"
     ]
    },
    {
     "name": "stderr",
     "output_type": "stream",
     "text": [
      "/home/ishalyminov/data/miniconda3/envs/shad_speech/lib/python3.7/site-packages/torch/functional.py:516: UserWarning: stft will require the return_complex parameter be explicitly  specified in a future PyTorch release. Use return_complex=False  to preserve the current behavior or return_complex=True to return  a complex output. (Triggered internally at  /pytorch/aten/src/ATen/native/SpectralOps.cpp:653.)\n",
      "  normalized, onesided, return_complex)\n",
      "/home/ishalyminov/data/miniconda3/envs/shad_speech/lib/python3.7/site-packages/torch/functional.py:516: UserWarning: The function torch.rfft is deprecated and will be removed in a future PyTorch release. Use the new torch.fft module functions, instead, by importing torch.fft and calling torch.fft.fft or torch.fft.rfft. (Triggered internally at  /pytorch/aten/src/ATen/native/SpectralOps.cpp:590.)\n",
      "  normalized, onesided, return_complex)\n"
     ]
    },
    {
     "name": "stdout",
     "output_type": "stream",
     "text": [
      "Train Epoch: 13 [0/28539 (0%)]\tLoss: 0.392810\n",
      "Train Epoch: 13 [1000/28539 (4%)]\tLoss: 0.380352\n",
      "Train Epoch: 13 [2000/28539 (7%)]\tLoss: 0.378985\n",
      "Train Epoch: 13 [3000/28539 (11%)]\tLoss: 0.357443\n",
      "Train Epoch: 13 [4000/28539 (14%)]\tLoss: 0.357442\n",
      "Train Epoch: 13 [5000/28539 (18%)]\tLoss: 0.437133\n",
      "Train Epoch: 13 [6000/28539 (21%)]\tLoss: 0.327845\n",
      "Train Epoch: 13 [7000/28539 (25%)]\tLoss: 0.343658\n",
      "Train Epoch: 13 [8000/28539 (28%)]\tLoss: 0.355195\n",
      "Train Epoch: 13 [9000/28539 (32%)]\tLoss: 0.367749\n",
      "Train Epoch: 13 [10000/28539 (35%)]\tLoss: 0.440960\n",
      "Train Epoch: 13 [11000/28539 (39%)]\tLoss: 0.420487\n",
      "Train Epoch: 13 [12000/28539 (42%)]\tLoss: 0.345532\n",
      "Train Epoch: 13 [13000/28539 (46%)]\tLoss: 0.371390\n",
      "Train Epoch: 13 [14000/28539 (49%)]\tLoss: 0.399689\n",
      "Train Epoch: 13 [15000/28539 (53%)]\tLoss: 0.342376\n",
      "Train Epoch: 13 [16000/28539 (56%)]\tLoss: 0.424563\n",
      "Train Epoch: 13 [17000/28539 (60%)]\tLoss: 0.412787\n",
      "Train Epoch: 13 [18000/28539 (63%)]\tLoss: 0.367807\n",
      "Train Epoch: 13 [19000/28539 (67%)]\tLoss: 0.356851\n",
      "Train Epoch: 13 [20000/28539 (70%)]\tLoss: 0.324801\n",
      "Train Epoch: 13 [21000/28539 (74%)]\tLoss: 0.550519\n",
      "Train Epoch: 13 [22000/28539 (77%)]\tLoss: 0.407830\n",
      "Train Epoch: 13 [23000/28539 (81%)]\tLoss: 0.509668\n",
      "Train Epoch: 13 [24000/28539 (84%)]\tLoss: 0.382201\n",
      "Train Epoch: 13 [25000/28539 (88%)]\tLoss: 0.434933\n",
      "Train Epoch: 13 [26000/28539 (91%)]\tLoss: 0.416606\n",
      "Train Epoch: 13 [27000/28539 (95%)]\tLoss: 0.384123\n",
      "Train Epoch: 13 [28000/28539 (98%)]\tLoss: 0.356324\n",
      "Beginning eval...\n"
     ]
    },
    {
     "name": "stderr",
     "output_type": "stream",
     "text": [
      "/home/ishalyminov/data/miniconda3/envs/shad_speech/lib/python3.7/site-packages/torch/functional.py:516: UserWarning: stft will require the return_complex parameter be explicitly  specified in a future PyTorch release. Use return_complex=False  to preserve the current behavior or return_complex=True to return  a complex output. (Triggered internally at  /pytorch/aten/src/ATen/native/SpectralOps.cpp:653.)\n",
      "  normalized, onesided, return_complex)\n",
      "/home/ishalyminov/data/miniconda3/envs/shad_speech/lib/python3.7/site-packages/torch/functional.py:516: UserWarning: The function torch.rfft is deprecated and will be removed in a future PyTorch release. Use the new torch.fft module functions, instead, by importing torch.fft and calling torch.fft.fft or torch.fft.rfft. (Triggered internally at  /pytorch/aten/src/ATen/native/SpectralOps.cpp:590.)\n",
      "  normalized, onesided, return_complex)\n"
     ]
    },
    {
     "name": "stdout",
     "output_type": "stream",
     "text": [
      "Epoch: 13, Test set: Average loss: 0.4782, Average CER: 0.134893 Average WER: 0.4126\n",
      "\n",
      "Time for epoch: 1161.0 sec.\n"
     ]
    },
    {
     "name": "stderr",
     "output_type": "stream",
     "text": [
      "/home/ishalyminov/data/miniconda3/envs/shad_speech/lib/python3.7/site-packages/torch/functional.py:516: UserWarning: stft will require the return_complex parameter be explicitly  specified in a future PyTorch release. Use return_complex=False  to preserve the current behavior or return_complex=True to return  a complex output. (Triggered internally at  /pytorch/aten/src/ATen/native/SpectralOps.cpp:653.)\n",
      "  normalized, onesided, return_complex)\n",
      "/home/ishalyminov/data/miniconda3/envs/shad_speech/lib/python3.7/site-packages/torch/functional.py:516: UserWarning: The function torch.rfft is deprecated and will be removed in a future PyTorch release. Use the new torch.fft module functions, instead, by importing torch.fft and calling torch.fft.fft or torch.fft.rfft. (Triggered internally at  /pytorch/aten/src/ATen/native/SpectralOps.cpp:590.)\n",
      "  normalized, onesided, return_complex)\n"
     ]
    },
    {
     "name": "stdout",
     "output_type": "stream",
     "text": [
      "Train Epoch: 14 [0/28539 (0%)]\tLoss: 0.333766\n",
      "Train Epoch: 14 [1000/28539 (4%)]\tLoss: 0.389502\n",
      "Train Epoch: 14 [2000/28539 (7%)]\tLoss: 0.363155\n",
      "Train Epoch: 14 [3000/28539 (11%)]\tLoss: 0.270366\n",
      "Train Epoch: 14 [4000/28539 (14%)]\tLoss: 0.374760\n",
      "Train Epoch: 14 [5000/28539 (18%)]\tLoss: 0.281215\n",
      "Train Epoch: 14 [6000/28539 (21%)]\tLoss: 0.357248\n",
      "Train Epoch: 14 [7000/28539 (25%)]\tLoss: 0.388254\n",
      "Train Epoch: 14 [8000/28539 (28%)]\tLoss: 0.422547\n",
      "Train Epoch: 14 [9000/28539 (32%)]\tLoss: 0.421872\n",
      "Train Epoch: 14 [10000/28539 (35%)]\tLoss: 0.391761\n",
      "Train Epoch: 14 [11000/28539 (39%)]\tLoss: 0.409100\n",
      "Train Epoch: 14 [12000/28539 (42%)]\tLoss: 0.361266\n",
      "Train Epoch: 14 [13000/28539 (46%)]\tLoss: 0.358063\n",
      "Train Epoch: 14 [14000/28539 (49%)]\tLoss: 0.314791\n",
      "Train Epoch: 14 [15000/28539 (53%)]\tLoss: 0.278761\n",
      "Train Epoch: 14 [16000/28539 (56%)]\tLoss: 0.388179\n",
      "Train Epoch: 14 [17000/28539 (60%)]\tLoss: 0.371242\n",
      "Train Epoch: 14 [18000/28539 (63%)]\tLoss: 0.301463\n",
      "Train Epoch: 14 [19000/28539 (67%)]\tLoss: 0.428679\n",
      "Train Epoch: 14 [20000/28539 (70%)]\tLoss: 0.356230\n",
      "Train Epoch: 14 [21000/28539 (74%)]\tLoss: 0.439746\n",
      "Train Epoch: 14 [22000/28539 (77%)]\tLoss: 0.315327\n",
      "Train Epoch: 14 [23000/28539 (81%)]\tLoss: 0.376507\n",
      "Train Epoch: 14 [24000/28539 (84%)]\tLoss: 0.321652\n",
      "Train Epoch: 14 [25000/28539 (88%)]\tLoss: 0.429274\n",
      "Train Epoch: 14 [26000/28539 (91%)]\tLoss: 0.374794\n",
      "Train Epoch: 14 [27000/28539 (95%)]\tLoss: 0.573642\n",
      "Train Epoch: 14 [28000/28539 (98%)]\tLoss: 0.479356\n",
      "Beginning eval...\n"
     ]
    },
    {
     "name": "stderr",
     "output_type": "stream",
     "text": [
      "/home/ishalyminov/data/miniconda3/envs/shad_speech/lib/python3.7/site-packages/torch/functional.py:516: UserWarning: stft will require the return_complex parameter be explicitly  specified in a future PyTorch release. Use return_complex=False  to preserve the current behavior or return_complex=True to return  a complex output. (Triggered internally at  /pytorch/aten/src/ATen/native/SpectralOps.cpp:653.)\n",
      "  normalized, onesided, return_complex)\n",
      "/home/ishalyminov/data/miniconda3/envs/shad_speech/lib/python3.7/site-packages/torch/functional.py:516: UserWarning: The function torch.rfft is deprecated and will be removed in a future PyTorch release. Use the new torch.fft module functions, instead, by importing torch.fft and calling torch.fft.fft or torch.fft.rfft. (Triggered internally at  /pytorch/aten/src/ATen/native/SpectralOps.cpp:590.)\n",
      "  normalized, onesided, return_complex)\n"
     ]
    },
    {
     "name": "stdout",
     "output_type": "stream",
     "text": [
      "Epoch: 14, Test set: Average loss: 0.4794, Average CER: 0.131932 Average WER: 0.4031\n",
      "\n",
      "Time for epoch: 1158.0 sec.\n"
     ]
    },
    {
     "name": "stderr",
     "output_type": "stream",
     "text": [
      "/home/ishalyminov/data/miniconda3/envs/shad_speech/lib/python3.7/site-packages/torch/functional.py:516: UserWarning: stft will require the return_complex parameter be explicitly  specified in a future PyTorch release. Use return_complex=False  to preserve the current behavior or return_complex=True to return  a complex output. (Triggered internally at  /pytorch/aten/src/ATen/native/SpectralOps.cpp:653.)\n",
      "  normalized, onesided, return_complex)\n",
      "/home/ishalyminov/data/miniconda3/envs/shad_speech/lib/python3.7/site-packages/torch/functional.py:516: UserWarning: The function torch.rfft is deprecated and will be removed in a future PyTorch release. Use the new torch.fft module functions, instead, by importing torch.fft and calling torch.fft.fft or torch.fft.rfft. (Triggered internally at  /pytorch/aten/src/ATen/native/SpectralOps.cpp:590.)\n",
      "  normalized, onesided, return_complex)\n"
     ]
    },
    {
     "name": "stdout",
     "output_type": "stream",
     "text": [
      "Train Epoch: 15 [0/28539 (0%)]\tLoss: 0.376132\n",
      "Train Epoch: 15 [1000/28539 (4%)]\tLoss: 0.430978\n",
      "Train Epoch: 15 [2000/28539 (7%)]\tLoss: 0.328722\n",
      "Train Epoch: 15 [3000/28539 (11%)]\tLoss: 0.404119\n",
      "Train Epoch: 15 [4000/28539 (14%)]\tLoss: 0.328955\n",
      "Train Epoch: 15 [5000/28539 (18%)]\tLoss: 0.299131\n",
      "Train Epoch: 15 [6000/28539 (21%)]\tLoss: 0.275470\n",
      "Train Epoch: 15 [7000/28539 (25%)]\tLoss: 0.416701\n",
      "Train Epoch: 15 [8000/28539 (28%)]\tLoss: 0.345610\n",
      "Train Epoch: 15 [9000/28539 (32%)]\tLoss: 0.322073\n",
      "Train Epoch: 15 [10000/28539 (35%)]\tLoss: 0.484484\n",
      "Train Epoch: 15 [11000/28539 (39%)]\tLoss: 0.325176\n",
      "Train Epoch: 15 [12000/28539 (42%)]\tLoss: 0.259847\n",
      "Train Epoch: 15 [13000/28539 (46%)]\tLoss: 0.395083\n",
      "Train Epoch: 15 [14000/28539 (49%)]\tLoss: 0.330245\n",
      "Train Epoch: 15 [15000/28539 (53%)]\tLoss: 0.330296\n",
      "Train Epoch: 15 [16000/28539 (56%)]\tLoss: 0.403970\n",
      "Train Epoch: 15 [17000/28539 (60%)]\tLoss: 0.327942\n",
      "Train Epoch: 15 [18000/28539 (63%)]\tLoss: 0.318904\n",
      "Train Epoch: 15 [19000/28539 (67%)]\tLoss: 0.360073\n",
      "Train Epoch: 15 [20000/28539 (70%)]\tLoss: 0.364105\n",
      "Train Epoch: 15 [21000/28539 (74%)]\tLoss: 0.523977\n",
      "Train Epoch: 15 [22000/28539 (77%)]\tLoss: 0.339536\n",
      "Train Epoch: 15 [23000/28539 (81%)]\tLoss: 0.280173\n",
      "Train Epoch: 15 [24000/28539 (84%)]\tLoss: 0.296659\n",
      "Train Epoch: 15 [25000/28539 (88%)]\tLoss: 0.416272\n",
      "Train Epoch: 15 [26000/28539 (91%)]\tLoss: 0.343480\n",
      "Train Epoch: 15 [27000/28539 (95%)]\tLoss: 0.361744\n",
      "Train Epoch: 15 [28000/28539 (98%)]\tLoss: 0.399576\n",
      "Beginning eval...\n"
     ]
    },
    {
     "name": "stderr",
     "output_type": "stream",
     "text": [
      "/home/ishalyminov/data/miniconda3/envs/shad_speech/lib/python3.7/site-packages/torch/functional.py:516: UserWarning: stft will require the return_complex parameter be explicitly  specified in a future PyTorch release. Use return_complex=False  to preserve the current behavior or return_complex=True to return  a complex output. (Triggered internally at  /pytorch/aten/src/ATen/native/SpectralOps.cpp:653.)\n",
      "  normalized, onesided, return_complex)\n",
      "/home/ishalyminov/data/miniconda3/envs/shad_speech/lib/python3.7/site-packages/torch/functional.py:516: UserWarning: The function torch.rfft is deprecated and will be removed in a future PyTorch release. Use the new torch.fft module functions, instead, by importing torch.fft and calling torch.fft.fft or torch.fft.rfft. (Triggered internally at  /pytorch/aten/src/ATen/native/SpectralOps.cpp:590.)\n",
      "  normalized, onesided, return_complex)\n"
     ]
    },
    {
     "name": "stdout",
     "output_type": "stream",
     "text": [
      "Epoch: 15, Test set: Average loss: 0.4647, Average CER: 0.129276 Average WER: 0.3951\n",
      "\n",
      "Time for epoch: 1158.0 sec.\n"
     ]
    },
    {
     "name": "stderr",
     "output_type": "stream",
     "text": [
      "/home/ishalyminov/data/miniconda3/envs/shad_speech/lib/python3.7/site-packages/torch/functional.py:516: UserWarning: stft will require the return_complex parameter be explicitly  specified in a future PyTorch release. Use return_complex=False  to preserve the current behavior or return_complex=True to return  a complex output. (Triggered internally at  /pytorch/aten/src/ATen/native/SpectralOps.cpp:653.)\n",
      "  normalized, onesided, return_complex)\n",
      "/home/ishalyminov/data/miniconda3/envs/shad_speech/lib/python3.7/site-packages/torch/functional.py:516: UserWarning: The function torch.rfft is deprecated and will be removed in a future PyTorch release. Use the new torch.fft module functions, instead, by importing torch.fft and calling torch.fft.fft or torch.fft.rfft. (Triggered internally at  /pytorch/aten/src/ATen/native/SpectralOps.cpp:590.)\n",
      "  normalized, onesided, return_complex)\n"
     ]
    },
    {
     "name": "stdout",
     "output_type": "stream",
     "text": [
      "Train Epoch: 16 [0/28539 (0%)]\tLoss: 0.400637\n",
      "Train Epoch: 16 [1000/28539 (4%)]\tLoss: 0.331441\n",
      "Train Epoch: 16 [2000/28539 (7%)]\tLoss: 0.404952\n",
      "Train Epoch: 16 [3000/28539 (11%)]\tLoss: 0.317298\n",
      "Train Epoch: 16 [4000/28539 (14%)]\tLoss: 0.269949\n",
      "Train Epoch: 16 [5000/28539 (18%)]\tLoss: 0.377118\n",
      "Train Epoch: 16 [6000/28539 (21%)]\tLoss: 0.278786\n",
      "Train Epoch: 16 [7000/28539 (25%)]\tLoss: 0.343983\n",
      "Train Epoch: 16 [8000/28539 (28%)]\tLoss: 0.336261\n",
      "Train Epoch: 16 [9000/28539 (32%)]\tLoss: 0.265268\n",
      "Train Epoch: 16 [10000/28539 (35%)]\tLoss: 0.375545\n",
      "Train Epoch: 16 [11000/28539 (39%)]\tLoss: 0.356679\n",
      "Train Epoch: 16 [12000/28539 (42%)]\tLoss: 0.325405\n",
      "Train Epoch: 16 [13000/28539 (46%)]\tLoss: 0.281620\n",
      "Train Epoch: 16 [14000/28539 (49%)]\tLoss: 0.318514\n",
      "Train Epoch: 16 [15000/28539 (53%)]\tLoss: 0.300567\n",
      "Train Epoch: 16 [16000/28539 (56%)]\tLoss: 0.296817\n",
      "Train Epoch: 16 [17000/28539 (60%)]\tLoss: 0.361456\n",
      "Train Epoch: 16 [18000/28539 (63%)]\tLoss: 0.366991\n",
      "Train Epoch: 16 [19000/28539 (67%)]\tLoss: 0.357237\n",
      "Train Epoch: 16 [20000/28539 (70%)]\tLoss: 0.266168\n",
      "Train Epoch: 16 [21000/28539 (74%)]\tLoss: 0.270859\n",
      "Train Epoch: 16 [22000/28539 (77%)]\tLoss: 0.276276\n",
      "Train Epoch: 16 [23000/28539 (81%)]\tLoss: 0.310671\n",
      "Train Epoch: 16 [24000/28539 (84%)]\tLoss: 0.299270\n",
      "Train Epoch: 16 [25000/28539 (88%)]\tLoss: 0.283827\n",
      "Train Epoch: 16 [26000/28539 (91%)]\tLoss: 0.364703\n",
      "Train Epoch: 16 [27000/28539 (95%)]\tLoss: 0.354304\n",
      "Train Epoch: 16 [28000/28539 (98%)]\tLoss: 0.355733\n",
      "Beginning eval...\n"
     ]
    },
    {
     "name": "stderr",
     "output_type": "stream",
     "text": [
      "/home/ishalyminov/data/miniconda3/envs/shad_speech/lib/python3.7/site-packages/torch/functional.py:516: UserWarning: stft will require the return_complex parameter be explicitly  specified in a future PyTorch release. Use return_complex=False  to preserve the current behavior or return_complex=True to return  a complex output. (Triggered internally at  /pytorch/aten/src/ATen/native/SpectralOps.cpp:653.)\n",
      "  normalized, onesided, return_complex)\n",
      "/home/ishalyminov/data/miniconda3/envs/shad_speech/lib/python3.7/site-packages/torch/functional.py:516: UserWarning: The function torch.rfft is deprecated and will be removed in a future PyTorch release. Use the new torch.fft module functions, instead, by importing torch.fft and calling torch.fft.fft or torch.fft.rfft. (Triggered internally at  /pytorch/aten/src/ATen/native/SpectralOps.cpp:590.)\n",
      "  normalized, onesided, return_complex)\n"
     ]
    },
    {
     "name": "stdout",
     "output_type": "stream",
     "text": [
      "Epoch: 16, Test set: Average loss: 0.4653, Average CER: 0.127159 Average WER: 0.3900\n",
      "\n",
      "Time for epoch: 1161.0 sec.\n"
     ]
    },
    {
     "name": "stderr",
     "output_type": "stream",
     "text": [
      "/home/ishalyminov/data/miniconda3/envs/shad_speech/lib/python3.7/site-packages/torch/functional.py:516: UserWarning: stft will require the return_complex parameter be explicitly  specified in a future PyTorch release. Use return_complex=False  to preserve the current behavior or return_complex=True to return  a complex output. (Triggered internally at  /pytorch/aten/src/ATen/native/SpectralOps.cpp:653.)\n",
      "  normalized, onesided, return_complex)\n",
      "/home/ishalyminov/data/miniconda3/envs/shad_speech/lib/python3.7/site-packages/torch/functional.py:516: UserWarning: The function torch.rfft is deprecated and will be removed in a future PyTorch release. Use the new torch.fft module functions, instead, by importing torch.fft and calling torch.fft.fft or torch.fft.rfft. (Triggered internally at  /pytorch/aten/src/ATen/native/SpectralOps.cpp:590.)\n",
      "  normalized, onesided, return_complex)\n"
     ]
    },
    {
     "name": "stdout",
     "output_type": "stream",
     "text": [
      "Train Epoch: 17 [0/28539 (0%)]\tLoss: 0.336514\n",
      "Train Epoch: 17 [1000/28539 (4%)]\tLoss: 0.348560\n",
      "Train Epoch: 17 [2000/28539 (7%)]\tLoss: 0.376275\n",
      "Train Epoch: 17 [3000/28539 (11%)]\tLoss: 0.381366\n",
      "Train Epoch: 17 [4000/28539 (14%)]\tLoss: 0.409323\n",
      "Train Epoch: 17 [5000/28539 (18%)]\tLoss: 0.251112\n",
      "Train Epoch: 17 [6000/28539 (21%)]\tLoss: 0.460415\n",
      "Train Epoch: 17 [7000/28539 (25%)]\tLoss: 0.363062\n",
      "Train Epoch: 17 [8000/28539 (28%)]\tLoss: 0.340194\n",
      "Train Epoch: 17 [9000/28539 (32%)]\tLoss: 0.402524\n",
      "Train Epoch: 17 [10000/28539 (35%)]\tLoss: 0.296556\n",
      "Train Epoch: 17 [11000/28539 (39%)]\tLoss: 0.284178\n",
      "Train Epoch: 17 [12000/28539 (42%)]\tLoss: 0.296452\n",
      "Train Epoch: 17 [13000/28539 (46%)]\tLoss: 0.267133\n",
      "Train Epoch: 17 [14000/28539 (49%)]\tLoss: 0.253272\n",
      "Train Epoch: 17 [15000/28539 (53%)]\tLoss: 0.435568\n",
      "Train Epoch: 17 [16000/28539 (56%)]\tLoss: 0.331330\n",
      "Train Epoch: 17 [17000/28539 (60%)]\tLoss: 0.303624\n",
      "Train Epoch: 17 [18000/28539 (63%)]\tLoss: 0.275293\n",
      "Train Epoch: 17 [19000/28539 (67%)]\tLoss: 0.326692\n",
      "Train Epoch: 17 [20000/28539 (70%)]\tLoss: 0.297947\n",
      "Train Epoch: 17 [21000/28539 (74%)]\tLoss: 0.425094\n",
      "Train Epoch: 17 [22000/28539 (77%)]\tLoss: 0.291077\n",
      "Train Epoch: 17 [23000/28539 (81%)]\tLoss: 0.398965\n",
      "Train Epoch: 17 [24000/28539 (84%)]\tLoss: 0.293648\n",
      "Train Epoch: 17 [25000/28539 (88%)]\tLoss: 0.238618\n",
      "Train Epoch: 17 [26000/28539 (91%)]\tLoss: 0.305219\n",
      "Train Epoch: 17 [27000/28539 (95%)]\tLoss: 0.336774\n",
      "Train Epoch: 17 [28000/28539 (98%)]\tLoss: 0.332713\n",
      "Beginning eval...\n"
     ]
    },
    {
     "name": "stderr",
     "output_type": "stream",
     "text": [
      "/home/ishalyminov/data/miniconda3/envs/shad_speech/lib/python3.7/site-packages/torch/functional.py:516: UserWarning: stft will require the return_complex parameter be explicitly  specified in a future PyTorch release. Use return_complex=False  to preserve the current behavior or return_complex=True to return  a complex output. (Triggered internally at  /pytorch/aten/src/ATen/native/SpectralOps.cpp:653.)\n",
      "  normalized, onesided, return_complex)\n",
      "/home/ishalyminov/data/miniconda3/envs/shad_speech/lib/python3.7/site-packages/torch/functional.py:516: UserWarning: The function torch.rfft is deprecated and will be removed in a future PyTorch release. Use the new torch.fft module functions, instead, by importing torch.fft and calling torch.fft.fft or torch.fft.rfft. (Triggered internally at  /pytorch/aten/src/ATen/native/SpectralOps.cpp:590.)\n",
      "  normalized, onesided, return_complex)\n"
     ]
    },
    {
     "name": "stdout",
     "output_type": "stream",
     "text": [
      "Epoch: 17, Test set: Average loss: 0.4625, Average CER: 0.123862 Average WER: 0.3821\n",
      "\n",
      "Time for epoch: 1163.0 sec.\n"
     ]
    },
    {
     "name": "stderr",
     "output_type": "stream",
     "text": [
      "/home/ishalyminov/data/miniconda3/envs/shad_speech/lib/python3.7/site-packages/torch/functional.py:516: UserWarning: stft will require the return_complex parameter be explicitly  specified in a future PyTorch release. Use return_complex=False  to preserve the current behavior or return_complex=True to return  a complex output. (Triggered internally at  /pytorch/aten/src/ATen/native/SpectralOps.cpp:653.)\n",
      "  normalized, onesided, return_complex)\n",
      "/home/ishalyminov/data/miniconda3/envs/shad_speech/lib/python3.7/site-packages/torch/functional.py:516: UserWarning: The function torch.rfft is deprecated and will be removed in a future PyTorch release. Use the new torch.fft module functions, instead, by importing torch.fft and calling torch.fft.fft or torch.fft.rfft. (Triggered internally at  /pytorch/aten/src/ATen/native/SpectralOps.cpp:590.)\n",
      "  normalized, onesided, return_complex)\n"
     ]
    },
    {
     "name": "stdout",
     "output_type": "stream",
     "text": [
      "Train Epoch: 18 [0/28539 (0%)]\tLoss: 0.338846\n",
      "Train Epoch: 18 [1000/28539 (4%)]\tLoss: 0.307000\n",
      "Train Epoch: 18 [2000/28539 (7%)]\tLoss: 0.244636\n",
      "Train Epoch: 18 [3000/28539 (11%)]\tLoss: 0.265245\n",
      "Train Epoch: 18 [4000/28539 (14%)]\tLoss: 0.375895\n",
      "Train Epoch: 18 [5000/28539 (18%)]\tLoss: 0.353778\n",
      "Train Epoch: 18 [6000/28539 (21%)]\tLoss: 0.267504\n",
      "Train Epoch: 18 [7000/28539 (25%)]\tLoss: 0.203646\n",
      "Train Epoch: 18 [8000/28539 (28%)]\tLoss: 0.243559\n",
      "Train Epoch: 18 [9000/28539 (32%)]\tLoss: 0.263575\n",
      "Train Epoch: 18 [10000/28539 (35%)]\tLoss: 0.268860\n",
      "Train Epoch: 18 [11000/28539 (39%)]\tLoss: 0.296393\n",
      "Train Epoch: 18 [12000/28539 (42%)]\tLoss: 0.284881\n",
      "Train Epoch: 18 [13000/28539 (46%)]\tLoss: 0.351465\n",
      "Train Epoch: 18 [14000/28539 (49%)]\tLoss: 0.325066\n",
      "Train Epoch: 18 [15000/28539 (53%)]\tLoss: 0.195075\n",
      "Train Epoch: 18 [16000/28539 (56%)]\tLoss: 0.236125\n",
      "Train Epoch: 18 [17000/28539 (60%)]\tLoss: 0.261447\n",
      "Train Epoch: 18 [18000/28539 (63%)]\tLoss: 0.317322\n",
      "Train Epoch: 18 [19000/28539 (67%)]\tLoss: 0.227307\n",
      "Train Epoch: 18 [20000/28539 (70%)]\tLoss: 0.270209\n",
      "Train Epoch: 18 [21000/28539 (74%)]\tLoss: 0.344821\n",
      "Train Epoch: 18 [22000/28539 (77%)]\tLoss: 0.343840\n",
      "Train Epoch: 18 [23000/28539 (81%)]\tLoss: 0.258104\n",
      "Train Epoch: 18 [24000/28539 (84%)]\tLoss: 0.249834\n",
      "Train Epoch: 18 [25000/28539 (88%)]\tLoss: 0.319679\n",
      "Train Epoch: 18 [26000/28539 (91%)]\tLoss: 0.287526\n",
      "Train Epoch: 18 [27000/28539 (95%)]\tLoss: 0.273165\n",
      "Train Epoch: 18 [28000/28539 (98%)]\tLoss: 0.246037\n",
      "Beginning eval...\n"
     ]
    },
    {
     "name": "stderr",
     "output_type": "stream",
     "text": [
      "/home/ishalyminov/data/miniconda3/envs/shad_speech/lib/python3.7/site-packages/torch/functional.py:516: UserWarning: stft will require the return_complex parameter be explicitly  specified in a future PyTorch release. Use return_complex=False  to preserve the current behavior or return_complex=True to return  a complex output. (Triggered internally at  /pytorch/aten/src/ATen/native/SpectralOps.cpp:653.)\n",
      "  normalized, onesided, return_complex)\n",
      "/home/ishalyminov/data/miniconda3/envs/shad_speech/lib/python3.7/site-packages/torch/functional.py:516: UserWarning: The function torch.rfft is deprecated and will be removed in a future PyTorch release. Use the new torch.fft module functions, instead, by importing torch.fft and calling torch.fft.fft or torch.fft.rfft. (Triggered internally at  /pytorch/aten/src/ATen/native/SpectralOps.cpp:590.)\n",
      "  normalized, onesided, return_complex)\n"
     ]
    },
    {
     "name": "stdout",
     "output_type": "stream",
     "text": [
      "Epoch: 18, Test set: Average loss: 0.4611, Average CER: 0.121398 Average WER: 0.3742\n",
      "\n",
      "Time for epoch: 1160.0 sec.\n"
     ]
    },
    {
     "name": "stderr",
     "output_type": "stream",
     "text": [
      "/home/ishalyminov/data/miniconda3/envs/shad_speech/lib/python3.7/site-packages/torch/functional.py:516: UserWarning: stft will require the return_complex parameter be explicitly  specified in a future PyTorch release. Use return_complex=False  to preserve the current behavior or return_complex=True to return  a complex output. (Triggered internally at  /pytorch/aten/src/ATen/native/SpectralOps.cpp:653.)\n",
      "  normalized, onesided, return_complex)\n",
      "/home/ishalyminov/data/miniconda3/envs/shad_speech/lib/python3.7/site-packages/torch/functional.py:516: UserWarning: The function torch.rfft is deprecated and will be removed in a future PyTorch release. Use the new torch.fft module functions, instead, by importing torch.fft and calling torch.fft.fft or torch.fft.rfft. (Triggered internally at  /pytorch/aten/src/ATen/native/SpectralOps.cpp:590.)\n",
      "  normalized, onesided, return_complex)\n"
     ]
    },
    {
     "name": "stdout",
     "output_type": "stream",
     "text": [
      "Train Epoch: 19 [0/28539 (0%)]\tLoss: 0.223017\n",
      "Train Epoch: 19 [1000/28539 (4%)]\tLoss: 0.340839\n",
      "Train Epoch: 19 [2000/28539 (7%)]\tLoss: 0.292111\n",
      "Train Epoch: 19 [3000/28539 (11%)]\tLoss: 0.345537\n",
      "Train Epoch: 19 [4000/28539 (14%)]\tLoss: 0.265120\n",
      "Train Epoch: 19 [5000/28539 (18%)]\tLoss: 0.277350\n",
      "Train Epoch: 19 [6000/28539 (21%)]\tLoss: 0.349499\n",
      "Train Epoch: 19 [7000/28539 (25%)]\tLoss: 0.242039\n",
      "Train Epoch: 19 [8000/28539 (28%)]\tLoss: 0.289335\n",
      "Train Epoch: 19 [9000/28539 (32%)]\tLoss: 0.244253\n",
      "Train Epoch: 19 [10000/28539 (35%)]\tLoss: 0.225155\n",
      "Train Epoch: 19 [11000/28539 (39%)]\tLoss: 0.283095\n",
      "Train Epoch: 19 [12000/28539 (42%)]\tLoss: 0.298943\n",
      "Train Epoch: 19 [13000/28539 (46%)]\tLoss: 0.236267\n",
      "Train Epoch: 19 [14000/28539 (49%)]\tLoss: 0.259852\n",
      "Train Epoch: 19 [15000/28539 (53%)]\tLoss: 0.244021\n",
      "Train Epoch: 19 [16000/28539 (56%)]\tLoss: 0.363360\n",
      "Train Epoch: 19 [17000/28539 (60%)]\tLoss: 0.261919\n",
      "Train Epoch: 19 [18000/28539 (63%)]\tLoss: 0.293183\n",
      "Train Epoch: 19 [19000/28539 (67%)]\tLoss: 0.273557\n",
      "Train Epoch: 19 [20000/28539 (70%)]\tLoss: 0.255917\n",
      "Train Epoch: 19 [21000/28539 (74%)]\tLoss: 0.314499\n",
      "Train Epoch: 19 [22000/28539 (77%)]\tLoss: 0.255103\n",
      "Train Epoch: 19 [23000/28539 (81%)]\tLoss: 0.334315\n",
      "Train Epoch: 19 [24000/28539 (84%)]\tLoss: 0.316347\n",
      "Train Epoch: 19 [25000/28539 (88%)]\tLoss: 0.297432\n",
      "Train Epoch: 19 [26000/28539 (91%)]\tLoss: 0.380657\n",
      "Train Epoch: 19 [27000/28539 (95%)]\tLoss: 0.308439\n",
      "Train Epoch: 19 [28000/28539 (98%)]\tLoss: 0.303282\n",
      "Beginning eval...\n"
     ]
    },
    {
     "name": "stderr",
     "output_type": "stream",
     "text": [
      "/home/ishalyminov/data/miniconda3/envs/shad_speech/lib/python3.7/site-packages/torch/functional.py:516: UserWarning: stft will require the return_complex parameter be explicitly  specified in a future PyTorch release. Use return_complex=False  to preserve the current behavior or return_complex=True to return  a complex output. (Triggered internally at  /pytorch/aten/src/ATen/native/SpectralOps.cpp:653.)\n",
      "  normalized, onesided, return_complex)\n",
      "/home/ishalyminov/data/miniconda3/envs/shad_speech/lib/python3.7/site-packages/torch/functional.py:516: UserWarning: The function torch.rfft is deprecated and will be removed in a future PyTorch release. Use the new torch.fft module functions, instead, by importing torch.fft and calling torch.fft.fft or torch.fft.rfft. (Triggered internally at  /pytorch/aten/src/ATen/native/SpectralOps.cpp:590.)\n",
      "  normalized, onesided, return_complex)\n"
     ]
    },
    {
     "name": "stdout",
     "output_type": "stream",
     "text": [
      "Train Epoch: 20 [1000/28539 (4%)]\tLoss: 0.311145\n",
      "Train Epoch: 20 [2000/28539 (7%)]\tLoss: 0.279375\n",
      "Train Epoch: 20 [3000/28539 (11%)]\tLoss: 0.324163\n",
      "Train Epoch: 20 [4000/28539 (14%)]\tLoss: 0.256945\n",
      "Train Epoch: 20 [5000/28539 (18%)]\tLoss: 0.247405\n",
      "Train Epoch: 20 [6000/28539 (21%)]\tLoss: 0.230878\n",
      "Train Epoch: 20 [7000/28539 (25%)]\tLoss: 0.292373\n",
      "Train Epoch: 20 [8000/28539 (28%)]\tLoss: 0.263426\n",
      "Train Epoch: 20 [9000/28539 (32%)]\tLoss: 0.242282\n",
      "Train Epoch: 20 [10000/28539 (35%)]\tLoss: 0.309159\n",
      "Train Epoch: 20 [11000/28539 (39%)]\tLoss: 0.322035\n",
      "Train Epoch: 20 [12000/28539 (42%)]\tLoss: 0.246493\n",
      "Train Epoch: 20 [13000/28539 (46%)]\tLoss: 0.265657\n",
      "Train Epoch: 20 [14000/28539 (49%)]\tLoss: 0.219839\n",
      "Train Epoch: 20 [15000/28539 (53%)]\tLoss: 0.367308\n",
      "Train Epoch: 20 [16000/28539 (56%)]\tLoss: 0.217429\n",
      "Train Epoch: 20 [17000/28539 (60%)]\tLoss: 0.276680\n",
      "Train Epoch: 20 [18000/28539 (63%)]\tLoss: 0.346144\n",
      "Train Epoch: 20 [19000/28539 (67%)]\tLoss: 0.254583\n",
      "Train Epoch: 20 [20000/28539 (70%)]\tLoss: 0.265474\n",
      "Train Epoch: 20 [21000/28539 (74%)]\tLoss: 0.251657\n",
      "Train Epoch: 20 [22000/28539 (77%)]\tLoss: 0.215243\n",
      "Train Epoch: 20 [23000/28539 (81%)]\tLoss: 0.335743\n",
      "Train Epoch: 20 [24000/28539 (84%)]\tLoss: 0.237247\n",
      "Train Epoch: 20 [25000/28539 (88%)]\tLoss: 0.251331\n",
      "Train Epoch: 20 [26000/28539 (91%)]\tLoss: 0.259399\n",
      "Train Epoch: 20 [27000/28539 (95%)]\tLoss: 0.223241\n",
      "Train Epoch: 20 [28000/28539 (98%)]\tLoss: 0.195541\n",
      "Beginning eval...\n"
     ]
    },
    {
     "name": "stderr",
     "output_type": "stream",
     "text": [
      "/home/ishalyminov/data/miniconda3/envs/shad_speech/lib/python3.7/site-packages/torch/functional.py:516: UserWarning: stft will require the return_complex parameter be explicitly  specified in a future PyTorch release. Use return_complex=False  to preserve the current behavior or return_complex=True to return  a complex output. (Triggered internally at  /pytorch/aten/src/ATen/native/SpectralOps.cpp:653.)\n",
      "  normalized, onesided, return_complex)\n",
      "/home/ishalyminov/data/miniconda3/envs/shad_speech/lib/python3.7/site-packages/torch/functional.py:516: UserWarning: The function torch.rfft is deprecated and will be removed in a future PyTorch release. Use the new torch.fft module functions, instead, by importing torch.fft and calling torch.fft.fft or torch.fft.rfft. (Triggered internally at  /pytorch/aten/src/ATen/native/SpectralOps.cpp:590.)\n",
      "  normalized, onesided, return_complex)\n"
     ]
    },
    {
     "name": "stdout",
     "output_type": "stream",
     "text": [
      "Epoch: 20, Test set: Average loss: 0.4564, Average CER: 0.118915 Average WER: 0.3676\n",
      "\n",
      "Time for epoch: 1161.0 sec.\n",
      "Training took 384.9 min.\n"
     ]
    }
   ],
   "source": [
    "#!L\n",
    "#pragma async \n",
    "# PRAGMA ASYNC IS NECESSARY FOR TRAINING!\n",
    "torch.manual_seed(7)\n",
    "if torch.cuda.is_available():\n",
    "    print('GPU found! 🎉')\n",
    "    device = 'cuda'\n",
    "else:\n",
    "    print('Only CPU found! 💻')\n",
    "    device = 'cpu'\n",
    "\n",
    "verbose=False\n",
    "\n",
    "# Hyperparameters for your model\n",
    "hparams = {\n",
    "    \"n_cnn_layers\": 3,\n",
    "    \"n_rnn_layers\": 5,\n",
    "    \"rnn_dim\": 512,\n",
    "    \"n_class\": 29,\n",
    "    \"n_feats\": 128,\n",
    "    \"stride\": 2,\n",
    "    \"dropout\": 0.1,\n",
    "    \"learning_rate\": 5e-4,\n",
    "    \"batch_size\": 10,\n",
    "    \"epochs\": 20\n",
    "}\n",
    "\n",
    "# Define Dataloyour training and test data loaders\n",
    "kwargs = {'num_workers': 1, 'pin_memory': True} if device=='cuda' else {}\n",
    "train_loader = data.DataLoader(dataset=train_dataset,\n",
    "                               batch_size=hparams['batch_size'],\n",
    "                               shuffle=True,\n",
    "                               collate_fn=lambda x: data_processing(x, 'train'),\n",
    "                               **kwargs)\n",
    "test_loader = data.DataLoader(dataset=test_dataset,\n",
    "                              batch_size=hparams['batch_size'],\n",
    "                              shuffle=False,\n",
    "                              collate_fn=lambda x: data_processing(x, 'valid'),\n",
    "                              **kwargs)\n",
    "# Define ASR Model \n",
    "model = SpeechRecognitionModel(\n",
    "    hparams['n_cnn_layers'],\n",
    "    hparams['n_rnn_layers'],\n",
    "    hparams['rnn_dim'],\n",
    "    hparams['n_class'],\n",
    "    hparams['n_feats'],\n",
    "    hparams['stride'],\n",
    "    hparams['dropout']\n",
    ").to(device)\n",
    "\n",
    "model.to(device)\n",
    "\n",
    "if verbose:\n",
    "    print(model)\n",
    "print('Num Model Parameters', sum([param.nelement() for param in model.parameters()]))\n",
    "\n",
    "#Define optimizineer, criterion, scheduler\n",
    "optimizer = optim.AdamW(model.parameters(), hparams['learning_rate'])\n",
    "criterion = torch.nn.CTCLoss(blank=28).to(device)\n",
    "scheduler = optim.lr_scheduler.OneCycleLR(optimizer,\n",
    "                                          max_lr=hparams['learning_rate'],\n",
    "                                          steps_per_epoch=int(len(train_loader)),\n",
    "                                          epochs=hparams['epochs'],\n",
    "                                          anneal_strategy='linear')\n",
    "\n",
    "\n",
    "#iter_meter = IterMeter()\n",
    "start = time.time()\n",
    "print(\"Start training...\")\n",
    "for epoch in range(1, hparams['epochs'] + 1):\n",
    "    ep_start = time.time()\n",
    "    train(model, device, train_loader, criterion, optimizer, scheduler, epoch)\n",
    "    #if epoch % 2 == 0:\n",
    "    save_checkpoint(model, checkpoint_name=f'model_epoch{epoch}.tar')\n",
    "    load_checkpoint(model, checkpoint_name=f'model_epoch{epoch}.tar', path='./', device=device)\n",
    "    test(model, device, test_loader, criterion, epoch)\n",
    "    print(f\"Time for epoch: {round(time.time() - ep_start, 0)} sec.\")\n",
    "save_checkpoint(model, checkpoint_name=f'model.tar')\n",
    "duration = time.time() - start\n",
    "print(f'Training took {np.round(duration / 60.0, 1)} min.')"
   ]
  },
  {
   "cell_type": "code",
   "execution_count": 60,
   "metadata": {
    "cellId": "2oj2t9pb6s508m4bomxqr"
   },
   "outputs": [
    {
     "name": "stdout",
     "output_type": "stream",
     "text": [
      "Beginning eval...\n"
     ]
    },
    {
     "name": "stderr",
     "output_type": "stream",
     "text": [
      "/home/ishalyminov/data/miniconda3/envs/shad_speech/lib/python3.7/site-packages/torch/functional.py:516: UserWarning: stft will require the return_complex parameter be explicitly  specified in a future PyTorch release. Use return_complex=False  to preserve the current behavior or return_complex=True to return  a complex output. (Triggered internally at  /pytorch/aten/src/ATen/native/SpectralOps.cpp:653.)\n",
      "  normalized, onesided, return_complex)\n",
      "/home/ishalyminov/data/miniconda3/envs/shad_speech/lib/python3.7/site-packages/torch/functional.py:516: UserWarning: The function torch.rfft is deprecated and will be removed in a future PyTorch release. Use the new torch.fft module functions, instead, by importing torch.fft and calling torch.fft.fft or torch.fft.rfft. (Triggered internally at  /pytorch/aten/src/ATen/native/SpectralOps.cpp:590.)\n",
      "  normalized, onesided, return_complex)\n"
     ]
    },
    {
     "name": "stdout",
     "output_type": "stream",
     "text": [
      "Epoch: 20, Test set: Average loss: 0.4564, Average CER: 0.116614 Average WER: 0.3631\n",
      "\n"
     ]
    }
   ],
   "source": [
    "#!L\n",
    "# Test the model in Prefix Decode Mode - only do after you have implemented your prefix decoder\n",
    "\n",
    "test(model, device, test_loader, criterion, epoch, decode='BeamSearch', lm=None)"
   ]
  },
  {
   "cell_type": "code",
   "execution_count": 61,
   "metadata": {},
   "outputs": [],
   "source": [
    "alm = arpa.loadf('3-gram.pruned.1e-7.arpa')[0]"
   ]
  },
  {
   "cell_type": "code",
   "execution_count": 58,
   "metadata": {
    "scrolled": false
   },
   "outputs": [
    {
     "name": "stdout",
     "output_type": "stream",
     "text": [
      "Beginning eval...\n"
     ]
    },
    {
     "name": "stderr",
     "output_type": "stream",
     "text": [
      "/home/ishalyminov/data/miniconda3/envs/shad_speech/lib/python3.7/site-packages/torch/functional.py:516: UserWarning: stft will require the return_complex parameter be explicitly  specified in a future PyTorch release. Use return_complex=False  to preserve the current behavior or return_complex=True to return  a complex output. (Triggered internally at  /pytorch/aten/src/ATen/native/SpectralOps.cpp:653.)\n",
      "  normalized, onesided, return_complex)\n",
      "/home/ishalyminov/data/miniconda3/envs/shad_speech/lib/python3.7/site-packages/torch/functional.py:516: UserWarning: The function torch.rfft is deprecated and will be removed in a future PyTorch release. Use the new torch.fft module functions, instead, by importing torch.fft and calling torch.fft.fft or torch.fft.rfft. (Triggered internally at  /pytorch/aten/src/ATen/native/SpectralOps.cpp:590.)\n",
      "  normalized, onesided, return_complex)\n"
     ]
    },
    {
     "name": "stdout",
     "output_type": "stream",
     "text": [
      "Epoch: 20, Test set: Average loss: 0.4564, Average CER: 0.107799 Average WER: 0.3072\n",
      "\n"
     ]
    }
   ],
   "source": [
    "test(model, device, test_loader, criterion, epoch, decode='BeamSearch', lm=alm.p)"
   ]
  },
  {
   "cell_type": "markdown",
   "metadata": {
    "cellId": "90vk5p1hyhmqhjlztpswx8",
    "id": "VGS9rrTK29fx"
   },
   "source": [
    "## Compare different models: DNN, GRU/LSTM, bi-GRU/bi-LSTM (5 points)"
   ]
  },
  {
   "cell_type": "markdown",
   "metadata": {
    "cellId": "7l42i8cl7mch5fzh42uv8b",
    "id": "OvSNEbMngpZU"
   },
   "source": [
    "## Analyze CTC Alignments (5 points)"
   ]
  },
  {
   "cell_type": "markdown",
   "metadata": {
    "cellId": "om7mmrazgrojbft3qos2o",
    "id": "TtcI8Q65xXnJ"
   },
   "source": [
    "## In this section you should compare alignments obtained from different models.\n",
    "\n",
    "For example, you can show:\n",
    "\n",
    "* Examples of alignments and their analysis\n",
    "* Differencies in the properties of alignment distributions over the dataset\n",
    "* Dynamic of alignments during training (from checkpoints)\n",
    "* Connection between alignments and model loss\n"
   ]
  },
  {
   "cell_type": "code",
   "execution_count": 62,
   "metadata": {
    "cellId": "hz15vjonrhcd0goeoye94",
    "id": "hd2cGenN-oa_"
   },
   "outputs": [],
   "source": [
    "#!L\n",
    "def forward_algorithm(sequence, matrix, blank=28):\n",
    "    # Matrix is has shape [K, T]\n",
    "\n",
    "    # Turn probs into log-probs\n",
    "    # matrix = np.log(matrix)\n",
    "\n",
    "    # Create modified sequence which with START, END blanks and between each character\n",
    "    mod_sequence = [sequence[int((i-1)/2)] if i % 2 !=0 else blank for i in range(len(sequence)*2+1)]\n",
    "\n",
    "    # Initialze\n",
    "    alphas = np.full([len(mod_sequence), matrix.shape[1]], 0.0)\n",
    "\n",
    "    for t in range(matrix.shape[1]):\n",
    "        for s in range(len(mod_sequence)):\n",
    "            #First Step\n",
    "            if t == 0 and (0 <= s <= 1):\n",
    "                alphas[s, t] = matrix[mod_sequence[s], t]\n",
    "            else:\n",
    "                # Need to do this stabily\n",
    "                a_t_1_s = alphas[s, t - 1] if 0 < t else 0.0\n",
    "                a_t_1_s_1 = alphas[s - 1, t - 1] if 0 < t and 0 < s else 0.0\n",
    "                a_t_1_s_2 = alphas[s - 2, t - 1] if 0 < t and 1 < s else 0.0\n",
    "                if mod_sequence[s] == blank or (1 < s and mod_sequence[s] == mod_sequence[s - 2]):\n",
    "                    alphas[s, t] = (a_t_1_s + a_t_1_s_1) * matrix[mod_sequence[s], t]\n",
    "                else:\n",
    "                    alphas[s, t] = (a_t_1_s + a_t_1_s_1 + a_t_1_s_2) * matrix[mod_sequence[s], t]\n",
    "        c_t = np.sum(alphas[:, t])\n",
    "        alphas[:, t] = alphas[:, t] / c_t\n",
    "    return alphas\n",
    "\n",
    "def backward_algorithm(sequence, matrix, blank=28):\n",
    "    # Matrix has shape [K, T] where K - 29 \n",
    "\n",
    "    # Turn probs into log-probs\n",
    "    # matrix = np.log(matrix)\n",
    "\n",
    "    # Create modified sequence which with START, END blanks and between each character\n",
    "    mod_sequence = [sequence[int((i-1)/2)] if i % 2 !=0 else blank for i in range(len(sequence)*2+1)]\n",
    "\n",
    "    betas = np.full([len(mod_sequence), matrix.shape[1]], 0.0)\n",
    "\n",
    "    for t in reversed(range(matrix.shape[1])):\n",
    "        for s in reversed(range(len(mod_sequence))):\n",
    "            #First Step\n",
    "            if t == matrix.shape[1]-1:\n",
    "                if s == len(mod_sequence) - 1:\n",
    "                    betas[s, t] = matrix[blank, -1]\n",
    "                elif s == len(mod_sequence) - 2:\n",
    "                    betas[s, t] = matrix[mod_sequence[-2], -1]\n",
    "\n",
    "            else:\n",
    "                b_t_1_s = betas[s, t + 1] if t < matrix.shape[1] - 1 else 0.0\n",
    "                b_t_1_s_1 = betas[s + 1, t + 1] if t < matrix.shape[1] - 1 and s < len(mod_sequence) - 1 else 0.0\n",
    "                b_t_1_s_2 = betas[s + 2, t + 1] if t < matrix.shape[1] - 1 and s < len(mod_sequence) - 2 else 0.0\n",
    "\n",
    "                if mod_sequence[s] == blank or (s < len(mod_sequence) - 2 and mod_sequence[s] == mod_sequence[s + 2]):\n",
    "                    betas[s, t] = (b_t_1_s + b_t_1_s_1) * matrix[mod_sequence[s], t]\n",
    "                else:\n",
    "                    betas[s, t] = (b_t_1_s + b_t_1_s_1 + b_t_1_s_2) * matrix[mod_sequence[s], t]\n",
    "        d_t = np.sum(betas[:, t])\n",
    "        betas[:, t] = betas[:, t] / d_t\n",
    "    return betas\n",
    "\n",
    "def soft_alignment(labels_indecies, matrix):\n",
    "    alphas = forward_algorithm(labels_indecies, matrix)\n",
    "    betas = backward_algorithm(labels_indecies, matrix)\n",
    "\n",
    "    # Move from log space back to prob space\n",
    "    align = alphas * betas\n",
    "\n",
    "    # Normalize Alignment\n",
    "    col_sums = [np.sum(align[:, j]) for j in range(align.shape[1])]\n",
    "    for i in range(align.shape[0]):\n",
    "        for j in range(align.shape[1]):\n",
    "            align[i, j] /= col_sums[j]\n",
    "\n",
    "    return align"
   ]
  },
  {
   "cell_type": "code",
   "execution_count": 63,
   "metadata": {
    "cellId": "j0hk1mmq56mit6ldayht",
    "id": "lyO-qCwG-obA"
   },
   "outputs": [],
   "source": [
    "#!L\n",
    "# Test your implementation of CTC\n",
    "#Load numpy matrix, add axis [classes,time]\n",
    "matrix = np.loadtxt(os.path.join(week_05_path, 'test_matrix.txt'))\n",
    "# Create label_sequence\n",
    "tokenizer = Tokenizer()\n",
    "labels_indecies = tokenizer.text_to_indecies('there se ms no good reason for believing that twillc ange')\n",
    "\n",
    "align = soft_alignment(labels_indecies, matrix)\n",
    "\n",
    "ref_align = np.loadtxt(os.path.join(week_05_path, 'soft_alignment.txt'))\n",
    "\n",
    "# assert np.all(ref_align == align)"
   ]
  },
  {
   "cell_type": "code",
   "execution_count": 64,
   "metadata": {
    "cellId": "vrt1ufy7fcefeck5i8hfu",
    "id": "QAHLTOQGrgew"
   },
   "outputs": [
    {
     "name": "stderr",
     "output_type": "stream",
     "text": [
      "/home/ishalyminov/data/miniconda3/envs/shad_speech/lib/python3.7/site-packages/torch/functional.py:516: UserWarning: stft will require the return_complex parameter be explicitly  specified in a future PyTorch release. Use return_complex=False  to preserve the current behavior or return_complex=True to return  a complex output. (Triggered internally at  /pytorch/aten/src/ATen/native/SpectralOps.cpp:653.)\n",
      "  normalized, onesided, return_complex)\n",
      "/home/ishalyminov/data/miniconda3/envs/shad_speech/lib/python3.7/site-packages/torch/functional.py:516: UserWarning: The function torch.rfft is deprecated and will be removed in a future PyTorch release. Use the new torch.fft module functions, instead, by importing torch.fft and calling torch.fft.fft or torch.fft.rfft. (Triggered internally at  /pytorch/aten/src/ATen/native/SpectralOps.cpp:590.)\n",
      "  normalized, onesided, return_complex)\n"
     ]
    }
   ],
   "source": [
    "#Example\n",
    "model.eval()\n",
    "_data = next(iter(test_loader))\n",
    "spectrograms, labels, input_lengths, label_lengths = _data\n",
    "spectrograms, labels = spectrograms.to(device), labels.to(device)\n",
    "\n",
    "matrix = model(spectrograms).transpose(1,2)  # (batch, n_class, time)"
   ]
  },
  {
   "cell_type": "code",
   "execution_count": 65,
   "metadata": {
    "cellId": "b80yoozigvm36ra3tisfbf",
    "id": "fL5dwHiGtL1G"
   },
   "outputs": [],
   "source": [
    "# Example of alignment calculation:\n",
    "with torch.no_grad():\n",
    "  align = soft_alignment(labels[0].int().cpu().numpy(), F.softmax(matrix[0],dim=0).cpu().numpy())"
   ]
  },
  {
   "cell_type": "code",
   "execution_count": 66,
   "metadata": {
    "cellId": "t6dtc9k91s90ual4nmzci49",
    "id": "DqvHAfyWs7DR"
   },
   "outputs": [
    {
     "name": "stderr",
     "output_type": "stream",
     "text": [
      "/home/ishalyminov/data/miniconda3/envs/shad_speech/lib/python3.7/site-packages/ipykernel_launcher.py:6: RuntimeWarning: divide by zero encountered in log\n",
      "  \n"
     ]
    },
    {
     "data": {
      "text/plain": [
       "<matplotlib.colorbar.Colorbar at 0x7fb7db7c6950>"
      ]
     },
     "execution_count": 66,
     "metadata": {},
     "output_type": "execute_result"
    },
    {
     "data": {
      "image/png": "[encoded data removed]",
      "text/plain": [
       "<Figure size 900x600 with 2 Axes>"
      ]
     },
     "metadata": {
      "needs_background": "light"
     },
     "output_type": "display_data"
    },
    {
     "data": {
      "image/png": "[encoded data removed]",
      "text/plain": [
       "<Figure size 900x600 with 2 Axes>"
      ]
     },
     "metadata": {
      "needs_background": "light"
     },
     "output_type": "display_data"
    }
   ],
   "source": [
    "plt.figure(dpi=150)\n",
    "plt.imshow(align, aspect='auto', interpolation='nearest')\n",
    "plt.colorbar()\n",
    "\n",
    "plt.figure(dpi=150)\n",
    "plt.imshow(np.log(align), aspect='auto', interpolation='nearest')\n",
    "plt.colorbar()"
   ]
  },
  {
   "cell_type": "markdown",
   "metadata": {
    "cellId": "fgri9tl5qocpkrzz76s53h",
    "id": "muP0QOp_gvdp"
   },
   "source": [
    "### Conclusions 🧑‍🎓\n",
    "\n",
    "* What challenges did you encounter while completing this task?\n",
    "* What skills have you acquired while doing this task?\n",
    "* How difficult did you find this task (on a scale from 0 to 10), and why?\n",
    "* What did you like in this homework, and what didn't?"
   ]
  },
  {
   "cell_type": "code",
   "execution_count": null,
   "metadata": {
    "cellId": "iz6t4tmtlns28i9nn6t64h",
    "id": "0LOcRoW3D-Wu"
   },
   "outputs": [],
   "source": []
  }
 ],
 "metadata": {
  "accelerator": "GPU",
  "colab": {
   "collapsed_sections": [],
   "name": "hw2-student.ipynb",
   "provenance": []
  },
  "kernelspec": {
   "display_name": "Python 3",
   "language": "python",
   "name": "python3"
  },
  "language_info": {
   "codemirror_mode": {
    "name": "ipython",
    "version": 3
   },
   "file_extension": ".py",
   "mimetype": "text/x-python",
   "name": "python",
   "nbconvert_exporter": "python",
   "pygments_lexer": "ipython3",
   "version": "3.7.10"
  },
  "notebookId": "6bb475f0-e440-4eaa-807f-09a2eb8cb938",
  "pycharm": {
   "stem_cell": {
    "cell_type": "raw",
    "metadata": {
     "collapsed": false
    },
    "source": []
   }
  }
 },
 "nbformat": 4,
 "nbformat_minor": 4
}
