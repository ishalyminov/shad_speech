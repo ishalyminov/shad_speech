{
 "cells": [
  {
   "cell_type": "markdown",
   "metadata": {
    "cellId": "z5qfpgxviokgo9ewdahyxr",
    "id": "MK6bCSji-oa1"
   },
   "source": [
    "# Homework 2: CTC Speech Recognition System\n",
    "You can do this notebook in google collab, or in datasphere (if you are brave enougth)\n",
    "\n",
    "### Grades criteria\n",
    "\n",
    "```\n",
    "[ ] (10 points) Implement a Prefix Decoder\n",
    "[ ] (10 points) Train ASR System, WER criterions: 60-50 -- 3 points, 50-40 -- 5 points, 40-35 -- 7 points, <=35 -- 10 points. + Bonus point per 1% WER below 30\n",
    "[ ] (5 points) Compare performance of DNN, RNN and BiRNN models in terms of WER, training time and other properties\n",
    "[ ] (5 points) Compare alignments obtained from DNN, RNN and BiRNN models\n",
    "```\n",
    "\n",
    "The results of this task are two artifacts:\n",
    "1. this Jupiter Notebook (`.ipynb`) with completed cells, training progress and final score.\n",
    "2. file with predictions of your best model for the test data\n",
    "\n",
    "Save the artifacts to a directory named `{your last name}_{your first name}_hw2` and pack them in `.zip` archive.\n"
   ]
  },
  {
   "cell_type": "code",
   "execution_count": null,
   "metadata": {
    "cellId": "na65u400yyes9ya34xsbvm",
    "id": "WWDmSBBn-07C"
   },
   "outputs": [],
   "source": [
    "#!L\n",
    "#%pip install torch==1.7.1+cu101 torchaudio==0.7.2 -f https://download.pytorch.org/whl/torch_stable.html\n",
    "#%pip install https://github.com/kpu/kenlm/archive/master.zip\n",
    "#%pip install dulwich\n",
    "#%pip install --user -U arpa\n",
    "\n",
    "# %enable_full_walk"
   ]
  },
  {
   "cell_type": "markdown",
   "metadata": {
    "cellId": "4bv5j3c5cgbiqgbxltnrp",
    "id": "H046bnEhkIHf"
   },
   "source": [
    "## Clone github repo"
   ]
  },
  {
   "cell_type": "code",
   "execution_count": 2,
   "metadata": {
    "cellId": "x21q44iq67quhpu1a3zem",
    "id": "pelDQHU-_DUy"
   },
   "outputs": [],
   "source": [
    "#!L\n",
    "\n",
    "import dulwich.client\n",
    "from dulwich.repo import Repo\n",
    "from dulwich import index\n",
    "\n",
    "import os\n",
    "import shutil\n",
    "\n",
    "def git_clone(src, target):\n",
    "    client, path = dulwich.client.get_transport_and_path(src)\n",
    "    if os.path.isdir(target):\n",
    "        shutil.rmtree(target)\n",
    "    os.makedirs(target)\n",
    "    r = Repo.init(target)\n",
    "\n",
    "    remote_refs = client.fetch(src, r)\n",
    "    r[b\"HEAD\"] = remote_refs.refs[b\"HEAD\"]\n",
    "\n",
    "    index.build_index_from_tree(r.path, r.index_path(), r.object_store, r[b'HEAD'].tree)\n",
    "\n",
    "src = \"https://github.com/yandexdataschool/speech_course\"\n",
    "target = \"./speech_course\"\n",
    "\n",
    "git_clone(src, target)\n",
    "os.listdir(target)\n",
    "\n",
    "week_05_path = './speech_course/week_05' # Change this path, if it is different in your case"
   ]
  },
  {
   "cell_type": "code",
   "execution_count": 3,
   "metadata": {
    "cellId": "0jg5sfs7qowv79473xsi8eu",
    "id": "IOaR9CeT-oa7"
   },
   "outputs": [
    {
     "name": "stderr",
     "output_type": "stream",
     "text": [
      "/home/ishalyminov/data/miniconda3/envs/shad_speech/lib/python3.7/site-packages/torchaudio/backend/utils.py:54: UserWarning: \"sox\" backend is being deprecated. The default backend will be changed to \"sox_io\" backend in 0.8.0 and \"sox\" backend will be removed in 0.9.0. Please migrate to \"sox_io\" backend. Please refer to https://github.com/pytorch/audio/issues/903 for the detail.\n",
      "  '\"sox\" backend is being deprecated. '\n"
     ]
    }
   ],
   "source": [
    "#!L\n",
    "import importlib\n",
    "import collections\n",
    "import os\n",
    "import math\n",
    "import numpy as np\n",
    "import time\n",
    "import copy\n",
    "from string import ascii_lowercase\n",
    "import re\n",
    "import random\n",
    "\n",
    "from utils import *\n",
    "\n",
    "import torch\n",
    "import torch.nn as nn\n",
    "import torch.nn.functional as F\n",
    "import torch.utils.data as data\n",
    "import torchaudio\n",
    "from torch import optim\n",
    "import arpa\n",
    "\n",
    "import matplotlib\n",
    "import matplotlib.pyplot as plt\n",
    "from matplotlib.colors import LogNorm"
   ]
  },
  {
   "cell_type": "code",
   "execution_count": 4,
   "metadata": {
    "cellId": "uj668v8qaihxclvkvheq6",
    "id": "Cq8Amv2QAKPU"
   },
   "outputs": [],
   "source": [
    "#!L\n",
    "# Download LibriSpeech 100hr training and test data\n",
    "\n",
    "if not os.path.isdir(\"./data\"):\n",
    "    os.makedirs(\"./data\")\n",
    "\n",
    "train_dataset = torchaudio.datasets.LIBRISPEECH(\"./data\", url=\"train-clean-100\", download=True)\n",
    "test_dataset = torchaudio.datasets.LIBRISPEECH(\"./data\", url=\"test-clean\", download=True)"
   ]
  },
  {
   "cell_type": "markdown",
   "metadata": {
    "cellId": "abgm2usdt24l6itvepmw8",
    "id": "c79P_B0b-oa8"
   },
   "source": [
    "## Tokenizer Class"
   ]
  },
  {
   "cell_type": "code",
   "execution_count": 5,
   "metadata": {
    "cellId": "jarxy3gwdllxcqufdtz4f",
    "id": "_kzOaLiV-oa8"
   },
   "outputs": [],
   "source": [
    "#!L\n",
    "# Class to transform text to strings of token indecies\n",
    "class Tokenizer:\n",
    "    \"\"\"Maps characters to integers and vice versa\"\"\"\n",
    "    def __init__(self):\n",
    "        char_map_str = \"\"\"\n",
    "        ' 0\n",
    "        _ 1\n",
    "        a 2\n",
    "        b 3\n",
    "        c 4\n",
    "        d 5\n",
    "        e 6\n",
    "        f 7\n",
    "        g 8\n",
    "        h 9\n",
    "        i 10\n",
    "        j 11\n",
    "        k 12\n",
    "        l 13\n",
    "        m 14\n",
    "        n 15\n",
    "        o 16\n",
    "        p 17\n",
    "        q 18\n",
    "        r 19\n",
    "        s 20\n",
    "        t 21\n",
    "        u 22\n",
    "        v 23\n",
    "        w 24\n",
    "        x 25\n",
    "        y 26\n",
    "        z 27\n",
    "        \"\"\"\n",
    "        self.char_map = {}\n",
    "        self.index_map = {}\n",
    "        for line in char_map_str.strip().split('\\n'):\n",
    "            ch, index = line.split()\n",
    "            self.char_map[ch] = int(index)\n",
    "            self.index_map[int(index)] = ch\n",
    "        self.index_map[1] = ' '\n",
    "\n",
    "    def text_to_indecies(self, text):\n",
    "        \"\"\" Use a character map and convert text to an integer sequence \"\"\"\n",
    "        int_sequence = []\n",
    "        for c in text:\n",
    "            if c == ' ':\n",
    "                ch = self.char_map['_']\n",
    "            else:\n",
    "                ch = self.char_map[c]\n",
    "            int_sequence.append(ch)\n",
    "        return int_sequence\n",
    "\n",
    "    def indecies_to_text(self, labels):\n",
    "        \"\"\" Use a character map and convert integer labels to an text sequence \"\"\"\n",
    "        string = []\n",
    "        for i in labels:\n",
    "            string.append(self.index_map[i])\n",
    "        return ''.join(string).replace('_', ' ')\n",
    "tokenizer = Tokenizer()"
   ]
  },
  {
   "cell_type": "code",
   "execution_count": 6,
   "metadata": {
    "cellId": "jzbg8qm8vcrinevp9y0dok",
    "id": "Jwc1NZkU-obC"
   },
   "outputs": [],
   "source": [
    "#!L\n",
    "\n",
    "def GreedyDecoder(output: torch.Tensor, labels: list, label_lengths: list, blank_label=28, collapse_repeated=True):\n",
    "    \"\"\"ist\n",
    "    :param output: torch.Tensor of Probs or Log-Probs of shape [batch, time, classes]\n",
    "    :param labels: Listof torch.Tensor of label indecies\n",
    "    :param label_lengths:  int of label lengths\n",
    "    :param blank_label:\n",
    "    :param collapse_repeated:\n",
    "    :return: \n",
    "    \"\"\"\n",
    "\n",
    "    # Get max class\n",
    "    arg_maxes = torch.argmax(output, axis=-1)\n",
    "\n",
    "    decodes = []\n",
    "    targets = []\n",
    "\n",
    "    #For targets and decodes remove r\n",
    "    for i, args in enumerate(arg_maxes):\n",
    "        decode = []\n",
    "\n",
    "        targets.append(tokenizer.indecies_to_text(labels[i][:label_lengths[i]].tolist()))\n",
    "\n",
    "        # Remove repeeats, then remove blanks\n",
    "\n",
    "        for j, index in enumerate(args):\n",
    "            if index != blank_label:\n",
    "                if collapse_repeated and j != 0 and index == args[j - 1]:\n",
    "                    continue\n",
    "                decode.append(index.item())\n",
    "        decodes.append(tokenizer.indecies_to_text(decode))\n",
    "    return decodes, targets"
   ]
  },
  {
   "cell_type": "code",
   "execution_count": 7,
   "metadata": {
    "cellId": "se7g7cudhf1r43b40icy9",
    "id": "m4LozjfI-obD"
   },
   "outputs": [],
   "source": [
    "#!L\n",
    "# TESTING THE GREEDY DECODER \n",
    "\n",
    "#Load numpy matrix, add axis [batch,classes,time]\n",
    "matrix = np.loadtxt(os.path.join(week_05_path, 'test_matrix.txt'))[np.newaxis,:,:]\n",
    "\n",
    "# Turn into Torch Tensor of shape [batch, time, classes]\n",
    "matrix = torch.Tensor(matrix).transpose(1,2)\n",
    "\n",
    "# Create list of torch tensor\n",
    "labels_indecies = [torch.Tensor(tokenizer.text_to_indecies('there seems no good reason for believing that it will change'))]\n",
    "\n",
    "# Run the Decoder\n",
    "decodes, targets = GreedyDecoder(matrix, labels_indecies, [len(labels_indecies[0])])\n",
    "\n",
    "assert decodes[0] == 'there se ms no good reason for believing that twillc ange'\n",
    "assert targets[0] == 'there seems no good reason for believing that it will change'\n",
    "\n"
   ]
  },
  {
   "cell_type": "markdown",
   "metadata": {
    "cellId": "5usp9pexqf2a1g8vxae8ic"
   },
   "source": [
    "## Implement Prefix Decoding With LM (10 points)"
   ]
  },
  {
   "cell_type": "code",
   "execution_count": 8,
   "metadata": {},
   "outputs": [],
   "source": [
    "def _BeamSearchDecoder(probs, lm, alpha=0.1, beta=2, beam_size=5, blank=28, space=1, prune=1e-5):\n",
    "    \"\"\"\n",
    "    Performs prefix beam search on the output of a CTC network.\n",
    "    Args:\n",
    "        ctc (np.ndarray): The CTC output. Should be a 2D array (timesteps x alphabet_size)\n",
    "        lm (func): Language model function. Should take as input a string and output a probability.\n",
    "        k (int): The beam width. Will keep the 'k' most likely candidates at each timestep.\n",
    "        alpha (float): The language model weight. Should usually be between 0 and 1.\n",
    "        beta (float): The language model compensation term. The higher the 'alpha', the higher the 'beta'.\n",
    "        prune (float): Only extend prefixes with chars with an emission probability higher than 'prune'.\n",
    "    Retruns:\n",
    "        string: The decoded CTC output.\n",
    "    \"\"\"\n",
    "    ctc = copy.deepcopy(probs)\n",
    "\n",
    "    lm = (lambda l: 1) if lm is None else lm # if no LM is provided, just set to function returning 1\n",
    "    W = lambda l: re.findall(r'\\w+[\\s|\\_]', l)\n",
    "    alphabet = list(map(lambda x: x[1], sorted(tokenizer.index_map.items()))) + ['%']\n",
    "    F = ctc.shape[1]\n",
    "    ctc = np.vstack((np.zeros(F), ctc)) # just add an imaginative zero'th step (will make indexing more intuitive)\n",
    "    T = ctc.shape[0]\n",
    "\n",
    "    # STEP 1: Initiliazation\n",
    "    O = ''\n",
    "    Pb, Pnb = collections.defaultdict(collections.Counter), collections.defaultdict(collections.Counter)\n",
    "    Pb[0][O] = 1\n",
    "    Pnb[0][O] = 0\n",
    "    A_prev = [O]\n",
    "    # END: STEP 1\n",
    "\n",
    "    # STEP 2: Iterations and pruning\n",
    "    for t in range(1, T):\n",
    "        pruned_alphabet = [alphabet[i] for i in np.where(ctc[t] > prune)[0]]\n",
    "        for l in A_prev:\n",
    "            for c in pruned_alphabet:\n",
    "                c_ix = alphabet.index(c)\n",
    "                # END: STEP 2\n",
    "                \n",
    "                # STEP 3: “Extending” with a blank\n",
    "                if c == '%':\n",
    "                    Pb[t][l] += ctc[t][-1] * (Pb[t - 1][l] + Pnb[t - 1][l])\n",
    "                # END: STEP 3\n",
    "                \n",
    "                # STEP 4: Extending with the end character\n",
    "                else:\n",
    "                    l_plus = l + c\n",
    "                    if len(l) > 0 and c == l[-1]:\n",
    "                        Pnb[t][l_plus] += ctc[t][c_ix] * Pb[t - 1][l]\n",
    "                        Pnb[t][l] += ctc[t][c_ix] * Pnb[t - 1][l]\n",
    "                # END: STEP 4\n",
    "\n",
    "                    # STEP 5: Extending with any other non-blank character and LM constraints\n",
    "                    elif len(l.replace(' ', '').replace('_', '')) > 0 and c in (' ', '_'):\n",
    "                        try:\n",
    "                            lm_prob = lm(l_plus.strip(' _').upper()) ** alpha\n",
    "                        except KeyError:\n",
    "                            lm_prob = 0.0\n",
    "                        Pnb[t][l_plus] += lm_prob * ctc[t][c_ix] * (Pb[t - 1][l] + Pnb[t - 1][l])\n",
    "                    else:\n",
    "                        Pnb[t][l_plus] += ctc[t][c_ix] * (Pb[t - 1][l] + Pnb[t - 1][l])\n",
    "                    # END: STEP 5\n",
    "\n",
    "                    # STEP 6: Make use of discarded prefixes\n",
    "                    if l_plus not in A_prev:\n",
    "                        Pb[t][l_plus] += ctc[t][-1] * (Pb[t - 1][l_plus] + Pnb[t - 1][l_plus])\n",
    "                        Pnb[t][l_plus] += ctc[t][c_ix] * Pnb[t - 1][l_plus]\n",
    "                    # END: STEP 6\n",
    "\n",
    "        # STEP 7: Select most probable prefixes\n",
    "        A_next = Pb[t] + Pnb[t]\n",
    "        sorter = lambda l: A_next[l] * (len(W(l)) + 1) ** beta\n",
    "        A_prev = sorted(A_next, key=sorter, reverse=True)[:beam_size]\n",
    "        # END: STEP 7\n",
    "    return A_prev[0].strip('_'), sorter(A_prev[0])\n",
    "\n",
    "\n",
    "def BeamSearchDecoder(probs, labels, label_lengths, input_lengths, lm, beam_size=35, blank=28, space=1, prune=1e-3, alpha=0.1, beta=2):\n",
    "    probs = probs.cpu().detach().numpy()\n",
    "    decodes, targets = [], []\n",
    "    for i, prob in enumerate(probs):\n",
    "\n",
    "        targets.append(tokenizer.indecies_to_text(labels[i][:label_lengths[i]].tolist()))\n",
    "        seq, _ = _BeamSearchDecoder(prob[:input_lengths[i]], lm=lm, beam_size=beam_size, blank=blank, prune=prune, alpha=alpha, beta=beta)\n",
    "        decodes.append(seq)\n",
    "        \n",
    "    return decodes, targets"
   ]
  },
  {
   "cell_type": "code",
   "execution_count": 9,
   "metadata": {},
   "outputs": [],
   "source": [
    "#Create LM\n",
    "import arpa\n",
    "alm = arpa.loadf('3-gram.pruned.1e-7.arpa')[0]\n",
    "\n",
    "\n",
    "#Load numpy matrix, add axis [batch,classes,time]\n",
    "matrix = np.loadtxt('test_matrix.txt')[np.newaxis,:,:]\n",
    "\n",
    "# Turn into Torch Tensor of shape [batch, time, classes]\n",
    "matrix = torch.Tensor(matrix).transpose(1,2)\n",
    "\n",
    "\n",
    "labels_indecies = [torch.Tensor(tokenizer.text_to_indecies('there seems no good reason for believing that it will change'))]"
   ]
  },
  {
   "cell_type": "code",
   "execution_count": 10,
   "metadata": {
    "cellId": "w167u74ao4bsoz3htaa738"
   },
   "outputs": [
    {
     "name": "stdout",
     "output_type": "stream",
     "text": [
      "there se ms no good reason for believing that twil c ange\n",
      "there seems no good reason for believing that twillchange\n"
     ]
    }
   ],
   "source": [
    "#!L\n",
    "# TESTING PREFIX Decoder\n",
    "\n",
    "#Run the Decoder\n",
    "decodes, targets = BeamSearchDecoder(matrix, labels_indecies, [len(labels_indecies[0])], [matrix.size()[1]], lm=None, beam_size=100, prune=1e-3, alpha=0.1, beta=2)\n",
    "\n",
    "print(decodes[0])\n",
    "assert decodes[0] == 'there se ms no good reason for believing that twil c ange'\n",
    "assert targets[0] == 'there seems no good reason for believing that it will change'\n",
    "\n",
    "decodes, targets = BeamSearchDecoder(matrix, labels_indecies, [len(labels_indecies[0])], [matrix.size()[1]], lm=alm.p, beam_size=100, prune=1e-3, alpha=0.1, beta=2)\n",
    "\n",
    "print(decodes[0])\n",
    "# assert decodes[0] == 'there seems no good reason for believing that twillc ange'\n",
    "assert targets[0] == 'there seems no good reason for believing that it will change'\n",
    "\n"
   ]
  },
  {
   "cell_type": "markdown",
   "metadata": {
    "cellId": "zfs3th23sxnnatpxbacw4",
    "id": "sr7uip8slCcw"
   },
   "source": [
    "## Deep Learning part"
   ]
  },
  {
   "cell_type": "markdown",
   "metadata": {
    "cellId": "gvc1msqg6viwm3iwt79xy",
    "id": "sFouWJvO-obE"
   },
   "source": [
    "## Create a Dataloader"
   ]
  },
  {
   "cell_type": "code",
   "execution_count": 11,
   "metadata": {},
   "outputs": [],
   "source": [
    "def freq_mask(spec, F=15, num_masks=1, replace_with_zero=False):\n",
    "    cloned = spec.clone()\n",
    "    num_mel_channels = cloned.shape[1]\n",
    "\n",
    "    for i in range(0, num_masks):\n",
    "        f = random.randrange(0, F)\n",
    "        f_zero = random.randrange(0, num_mel_channels - f)\n",
    "\n",
    "        # avoids randrange error if values are equal and range is empty\n",
    "        if (f_zero == f_zero + f): return cloned\n",
    "\n",
    "        mask_end = random.randrange(f_zero, f_zero + f)\n",
    "        if (replace_with_zero):\n",
    "            cloned[0][f_zero:mask_end] = 0\n",
    "        else:\n",
    "            cloned[0][f_zero:mask_end] = cloned.mean()\n",
    "\n",
    "    return cloned\n",
    "\n",
    "\n",
    "def time_mask(spec, T=15, num_masks=1, replace_with_zero=False):\n",
    "    cloned = spec.clone()\n",
    "    len_spectro = cloned.shape[2]\n",
    "\n",
    "    for i in range(0, num_masks):\n",
    "        t = random.randrange(0, T)\n",
    "        t_zero = random.randrange(0, len_spectro - t)\n",
    "\n",
    "        # avoids randrange error if values are equal and range is empty\n",
    "        if (t_zero == t_zero + t): return cloned\n",
    "\n",
    "        mask_end = random.randrange(t_zero, t_zero + t)\n",
    "        if (replace_with_zero):\n",
    "            cloned[0][:, t_zero:mask_end] = 0\n",
    "        else:\n",
    "            cloned[0][:, t_zero:mask_end] = cloned.mean()\n",
    "    return cloned\n",
    "\n",
    "\n",
    "def sparse_image_warp(img_tensor,\n",
    "                      source_control_point_locations,\n",
    "                      dest_control_point_locations,\n",
    "                      interpolation_order=2,\n",
    "                      regularization_weight=0.0,\n",
    "                      num_boundaries_points=0):\n",
    "    control_point_flows = (dest_control_point_locations - source_control_point_locations)\n",
    "\n",
    "    batch_size, image_height, image_width = img_tensor.shape\n",
    "    grid_locations = get_grid_locations(image_height, image_width)\n",
    "    flattened_grid_locations = torch.tensor(flatten_grid_locations(grid_locations, image_height, image_width))\n",
    "\n",
    "    flattened_flows = interpolate_spline(\n",
    "        dest_control_point_locations,\n",
    "        control_point_flows,\n",
    "        flattened_grid_locations,\n",
    "        interpolation_order,\n",
    "        regularization_weight)\n",
    "\n",
    "    dense_flows = create_dense_flows(flattened_flows, batch_size, image_height, image_width)\n",
    "\n",
    "    warped_image = dense_image_warp(img_tensor, dense_flows)\n",
    "\n",
    "    return warped_image, dense_flows\n",
    "\n",
    "\n",
    "def get_grid_locations(image_height, image_width):\n",
    "    \"\"\"Wrapper for np.meshgrid.\"\"\"\n",
    "\n",
    "    y_range = np.linspace(0, image_height - 1, image_height)\n",
    "    x_range = np.linspace(0, image_width - 1, image_width)\n",
    "    y_grid, x_grid = np.meshgrid(y_range, x_range, indexing='ij')\n",
    "    return np.stack((y_grid, x_grid), -1)\n",
    "\n",
    "\n",
    "def flatten_grid_locations(grid_locations, image_height, image_width):\n",
    "    return np.reshape(grid_locations, [image_height * image_width, 2])\n",
    "\n",
    "\n",
    "def create_dense_flows(flattened_flows, batch_size, image_height, image_width):\n",
    "    # possibly .view\n",
    "    return torch.reshape(flattened_flows, [batch_size, image_height, image_width, 2])\n",
    "\n",
    "\n",
    "def interpolate_spline(train_points, train_values, query_points, order, regularization_weight=0.0, ):\n",
    "    # First, fit the spline to the observed data.\n",
    "    w, v = solve_interpolation(train_points, train_values, order, regularization_weight)\n",
    "    # Then, evaluate the spline at the query locations.\n",
    "    query_values = apply_interpolation(query_points, train_points, w, v, order)\n",
    "\n",
    "    return query_values\n",
    "\n",
    "\n",
    "def solve_interpolation(train_points, train_values, order, regularization_weight):\n",
    "    b, n, d = train_points.shape\n",
    "    k = train_values.shape[-1]\n",
    "\n",
    "    # First, rename variables so that the notation (c, f, w, v, A, B, etc.)\n",
    "    # follows https://en.wikipedia.org/wiki/Polyharmonic_spline.\n",
    "    # To account for python style guidelines we use\n",
    "    # matrix_a for A and matrix_b for B.\n",
    "\n",
    "    c = train_points\n",
    "    f = train_values.float()\n",
    "\n",
    "    matrix_a = phi(cross_squared_distance_matrix(c, c), order).unsqueeze(0)  # [b, n, n]\n",
    "    #     if regularization_weight > 0:\n",
    "    #         batch_identity_matrix = array_ops.expand_dims(\n",
    "    #           linalg_ops.eye(n, dtype=c.dtype), 0)\n",
    "    #         matrix_a += regularization_weight * batch_identity_matrix\n",
    "\n",
    "    # Append ones to the feature values for the bias term in the linear model.\n",
    "    ones = torch.ones(1, dtype=train_points.dtype).view([-1, 1, 1])\n",
    "    matrix_b = torch.cat((c, ones), 2).float()  # [b, n, d + 1]\n",
    "\n",
    "    # [b, n + d + 1, n]\n",
    "    left_block = torch.cat((matrix_a, torch.transpose(matrix_b, 2, 1)), 1)\n",
    "\n",
    "    num_b_cols = matrix_b.shape[2]  # d + 1\n",
    "\n",
    "    # In Tensorflow, zeros are used here. Pytorch gesv fails with zeros for some reason we don't understand.\n",
    "    # So instead we use very tiny randn values (variance of one, zero mean) on one side of our multiplication.\n",
    "    lhs_zeros = torch.randn((b, num_b_cols, num_b_cols)) / 1e10\n",
    "    right_block = torch.cat((matrix_b, lhs_zeros),\n",
    "                            1)  # [b, n + d + 1, d + 1]\n",
    "    lhs = torch.cat((left_block, right_block),\n",
    "                    2)  # [b, n + d + 1, n + d + 1]\n",
    "\n",
    "    rhs_zeros = torch.zeros((b, d + 1, k), dtype=train_points.dtype).float()\n",
    "    rhs = torch.cat((f, rhs_zeros), 1)  # [b, n + d + 1, k]\n",
    "\n",
    "    # Then, solve the linear system and unpack the results.\n",
    "    X, LU = torch.solve(rhs, lhs)\n",
    "    w = X[:, :n, :]\n",
    "    v = X[:, n:, :]\n",
    "\n",
    "    return w, v\n",
    "\n",
    "\n",
    "def cross_squared_distance_matrix(x, y):\n",
    "    \"\"\"Pairwise squared distance between two (batch) matrices' rows (2nd dim).\n",
    "        Computes the pairwise distances between rows of x and rows of y\n",
    "        Args:\n",
    "        x: [batch_size, n, d] float `Tensor`\n",
    "        y: [batch_size, m, d] float `Tensor`\n",
    "        Returns:\n",
    "        squared_dists: [batch_size, n, m] float `Tensor`, where\n",
    "        squared_dists[b,i,j] = ||x[b,i,:] - y[b,j,:]||^2\n",
    "    \"\"\"\n",
    "    x_norm_squared = torch.sum(torch.mul(x, x))\n",
    "    y_norm_squared = torch.sum(torch.mul(y, y))\n",
    "\n",
    "    x_y_transpose = torch.matmul(x.squeeze(0), y.squeeze(0).transpose(0, 1))\n",
    "\n",
    "    # squared_dists[b,i,j] = ||x_bi - y_bj||^2 = x_bi'x_bi- 2x_bi'x_bj + x_bj'x_bj\n",
    "    squared_dists = x_norm_squared - 2 * x_y_transpose + y_norm_squared\n",
    "\n",
    "    return squared_dists.float()\n",
    "\n",
    "\n",
    "def phi(r, order):\n",
    "    \"\"\"Coordinate-wise nonlinearity used to define the order of the interpolation.\n",
    "    See https://en.wikipedia.org/wiki/Polyharmonic_spline for the definition.\n",
    "    Args:\n",
    "    r: input op\n",
    "    order: interpolation order\n",
    "    Returns:\n",
    "    phi_k evaluated coordinate-wise on r, for k = r\n",
    "    \"\"\"\n",
    "    EPSILON = torch.tensor(1e-10)\n",
    "    # using EPSILON prevents log(0), sqrt0), etc.\n",
    "    # sqrt(0) is well-defined, but its gradient is not\n",
    "    if order == 1:\n",
    "        r = torch.max(r, EPSILON)\n",
    "        r = torch.sqrt(r)\n",
    "        return r\n",
    "    elif order == 2:\n",
    "        return 0.5 * r * torch.log(torch.max(r, EPSILON))\n",
    "    elif order == 4:\n",
    "        return 0.5 * torch.square(r) * torch.log(torch.max(r, EPSILON))\n",
    "    elif order % 2 == 0:\n",
    "        r = torch.max(r, EPSILON)\n",
    "        return 0.5 * torch.pow(r, 0.5 * order) * torch.log(r)\n",
    "    else:\n",
    "        r = torch.max(r, EPSILON)\n",
    "        return torch.pow(r, 0.5 * order)\n",
    "\n",
    "\n",
    "def apply_interpolation(query_points, train_points, w, v, order):\n",
    "    \"\"\"Apply polyharmonic interpolation model to data.\n",
    "    Given coefficients w and v for the interpolation model, we evaluate\n",
    "    interpolated function values at query_points.\n",
    "    Args:\n",
    "    query_points: `[b, m, d]` x values to evaluate the interpolation at\n",
    "    train_points: `[b, n, d]` x values that act as the interpolation centers\n",
    "                    ( the c variables in the wikipedia article)\n",
    "    w: `[b, n, k]` weights on each interpolation center\n",
    "    v: `[b, d, k]` weights on each input dimension\n",
    "    order: order of the interpolation\n",
    "    Returns:\n",
    "    Polyharmonic interpolation evaluated at points defined in query_points.\n",
    "    \"\"\"\n",
    "    query_points = query_points.unsqueeze(0)\n",
    "    # First, compute the contribution from the rbf term.\n",
    "    pairwise_dists = cross_squared_distance_matrix(query_points.float(), train_points.float())\n",
    "    phi_pairwise_dists = phi(pairwise_dists, order)\n",
    "\n",
    "    rbf_term = torch.matmul(phi_pairwise_dists, w)\n",
    "\n",
    "    # Then, compute the contribution from the linear term.\n",
    "    # Pad query_points with ones, for the bias term in the linear model.\n",
    "    ones = torch.ones_like(query_points[..., :1])\n",
    "    query_points_pad = torch.cat((\n",
    "        query_points,\n",
    "        ones\n",
    "    ), 2).float()\n",
    "    linear_term = torch.matmul(query_points_pad, v)\n",
    "\n",
    "    return rbf_term + linear_term\n",
    "\n",
    "\n",
    "def dense_image_warp(image, flow):\n",
    "    \"\"\"Image warping using per-pixel flow vectors.\n",
    "    Apply a non-linear warp to the image, where the warp is specified by a dense\n",
    "    flow field of offset vectors that define the correspondences of pixel values\n",
    "    in the output image back to locations in the  source image. Specifically, the\n",
    "    pixel value at output[b, j, i, c] is\n",
    "    images[b, j - flow[b, j, i, 0], i - flow[b, j, i, 1], c].\n",
    "    The locations specified by this formula do not necessarily map to an int\n",
    "    index. Therefore, the pixel value is obtained by bilinear\n",
    "    interpolation of the 4 nearest pixels around\n",
    "    (b, j - flow[b, j, i, 0], i - flow[b, j, i, 1]). For locations outside\n",
    "    of the image, we use the nearest pixel values at the image boundary.\n",
    "    Args:\n",
    "    image: 4-D float `Tensor` with shape `[batch, height, width, channels]`.\n",
    "    flow: A 4-D float `Tensor` with shape `[batch, height, width, 2]`.\n",
    "    name: A name for the operation (optional).\n",
    "    Note that image and flow can be of type tf.half, tf.float32, or tf.float64,\n",
    "    and do not necessarily have to be the same type.\n",
    "    Returns:\n",
    "    A 4-D float `Tensor` with shape`[batch, height, width, channels]`\n",
    "    and same type as input image.\n",
    "    Raises:\n",
    "    ValueError: if height < 2 or width < 2 or the inputs have the wrong number\n",
    "    of dimensions.\n",
    "    \"\"\"\n",
    "    image = image.unsqueeze(3)  # add a single channel dimension to image tensor\n",
    "    batch_size, height, width, channels = image.shape\n",
    "\n",
    "    # The flow is defined on the image grid. Turn the flow into a list of query\n",
    "    # points in the grid space.\n",
    "    grid_x, grid_y = torch.meshgrid(\n",
    "        torch.arange(width), torch.arange(height))\n",
    "\n",
    "    stacked_grid = torch.stack((grid_y, grid_x), dim=2).float()\n",
    "\n",
    "    batched_grid = stacked_grid.unsqueeze(-1).permute(3, 1, 0, 2)\n",
    "\n",
    "    query_points_on_grid = batched_grid - flow\n",
    "    query_points_flattened = torch.reshape(query_points_on_grid,\n",
    "                                           [batch_size, height * width, 2])\n",
    "    # Compute values at the query points, then reshape the result back to the\n",
    "    # image grid.\n",
    "    interpolated = interpolate_bilinear(image, query_points_flattened)\n",
    "    interpolated = torch.reshape(interpolated,\n",
    "                                 [batch_size, height, width, channels])\n",
    "    return interpolated\n",
    "\n",
    "\n",
    "def interpolate_bilinear(grid,\n",
    "                         query_points,\n",
    "                         name='interpolate_bilinear',\n",
    "                         indexing='ij'):\n",
    "    \"\"\"Similar to Matlab's interp2 function.\n",
    "    Finds values for query points on a grid using bilinear interpolation.\n",
    "    Args:\n",
    "    grid: a 4-D float `Tensor` of shape `[batch, height, width, channels]`.\n",
    "    query_points: a 3-D float `Tensor` of N points with shape `[batch, N, 2]`.\n",
    "    name: a name for the operation (optional).\n",
    "    indexing: whether the query points are specified as row and column (ij),\n",
    "      or Cartesian coordinates (xy).\n",
    "    Returns:\n",
    "    values: a 3-D `Tensor` with shape `[batch, N, channels]`\n",
    "    Raises:\n",
    "    ValueError: if the indexing mode is invalid, or if the shape of the inputs\n",
    "      invalid.\n",
    "    \"\"\"\n",
    "    if indexing != 'ij' and indexing != 'xy':\n",
    "        raise ValueError('Indexing mode must be \\'ij\\' or \\'xy\\'')\n",
    "\n",
    "    shape = grid.shape\n",
    "    if len(shape) != 4:\n",
    "        msg = 'Grid must be 4 dimensional. Received size: '\n",
    "        raise ValueError(msg + str(grid.shape))\n",
    "\n",
    "    batch_size, height, width, channels = grid.shape\n",
    "\n",
    "    shape = [batch_size, height, width, channels]\n",
    "    query_type = query_points.dtype\n",
    "    grid_type = grid.dtype\n",
    "\n",
    "    num_queries = query_points.shape[1]\n",
    "\n",
    "    alphas = []\n",
    "    floors = []\n",
    "    ceils = []\n",
    "    index_order = [0, 1] if indexing == 'ij' else [1, 0]\n",
    "    unstacked_query_points = query_points.unbind(2)\n",
    "\n",
    "    for dim in index_order:\n",
    "        queries = unstacked_query_points[dim]\n",
    "\n",
    "        size_in_indexing_dimension = shape[dim + 1]\n",
    "\n",
    "        # max_floor is size_in_indexing_dimension - 2 so that max_floor + 1\n",
    "        # is still a valid index into the grid.\n",
    "        max_floor = torch.tensor(size_in_indexing_dimension - 2, dtype=query_type)\n",
    "        min_floor = torch.tensor(0.0, dtype=query_type)\n",
    "        maxx = torch.max(min_floor, torch.floor(queries))\n",
    "        floor = torch.min(maxx, max_floor)\n",
    "        int_floor = floor.long()\n",
    "        floors.append(int_floor)\n",
    "        ceil = int_floor + 1\n",
    "        ceils.append(ceil)\n",
    "\n",
    "        # alpha has the same type as the grid, as we will directly use alpha\n",
    "        # when taking linear combinations of pixel values from the image.\n",
    "        alpha = torch.tensor(queries - floor, dtype=grid_type)\n",
    "        min_alpha = torch.tensor(0.0, dtype=grid_type)\n",
    "        max_alpha = torch.tensor(1.0, dtype=grid_type)\n",
    "        alpha = torch.min(torch.max(min_alpha, alpha), max_alpha)\n",
    "\n",
    "        # Expand alpha to [b, n, 1] so we can use broadcasting\n",
    "        # (since the alpha values don't depend on the channel).\n",
    "        alpha = torch.unsqueeze(alpha, 2)\n",
    "        alphas.append(alpha)\n",
    "\n",
    "    flattened_grid = torch.reshape(\n",
    "        grid, [batch_size * height * width, channels])\n",
    "    batch_offsets = torch.reshape(\n",
    "        torch.arange(batch_size) * height * width, [batch_size, 1])\n",
    "\n",
    "    # This wraps array_ops.gather. We reshape the image data such that the\n",
    "    # batch, y, and x coordinates are pulled into the first dimension.\n",
    "    # Then we gather. Finally, we reshape the output back. It's possible this\n",
    "    # code would be made simpler by using array_ops.gather_nd.\n",
    "    def gather(y_coords, x_coords, name):\n",
    "        linear_coordinates = batch_offsets + y_coords * width + x_coords\n",
    "        gathered_values = torch.gather(flattened_grid.t(), 1, linear_coordinates)\n",
    "        return torch.reshape(gathered_values,\n",
    "                             [batch_size, num_queries, channels])\n",
    "\n",
    "    # grab the pixel values in the 4 corners around each query point\n",
    "    top_left = gather(floors[0], floors[1], 'top_left')\n",
    "    top_right = gather(floors[0], ceils[1], 'top_right')\n",
    "    bottom_left = gather(ceils[0], floors[1], 'bottom_left')\n",
    "    bottom_right = gather(ceils[0], ceils[1], 'bottom_right')\n",
    "\n",
    "    interp_top = alphas[1] * (top_right - top_left) + top_left\n",
    "    interp_bottom = alphas[1] * (bottom_right - bottom_left) + bottom_left\n",
    "    interp = alphas[0] * (interp_bottom - interp_top) + interp_top\n",
    "\n",
    "    return interp\n",
    "\n",
    "\n",
    "def time_warp(spec, W=5):\n",
    "    num_rows = spec.shape[1]\n",
    "    spec_len = spec.shape[2]\n",
    "\n",
    "    y = num_rows // 2\n",
    "    horizontal_line_at_ctr = spec[0][y]\n",
    "    # assert len(horizontal_line_at_ctr) == spec_len\n",
    "\n",
    "    point_to_warp = horizontal_line_at_ctr[random.randrange(W, spec_len-W)]\n",
    "    # assert isinstance(point_to_warp, torch.Tensor)\n",
    "\n",
    "    # Uniform distribution from (0,W) with chance to be up to W negative\n",
    "    dist_to_warp = random.randrange(-W, W)\n",
    "    src_pts = torch.tensor([[[y, point_to_warp]]])\n",
    "    dest_pts = torch.tensor([[[y, point_to_warp + dist_to_warp]]])\n",
    "    warped_spectro, dense_flows = sparse_image_warp(spec, src_pts, dest_pts)\n",
    "    return warped_spectro.squeeze(3)\n",
    "\n",
    "\n",
    "def spec_augment(mel_spectrogram, time_warping_para=80, frequency_masking_para=27,\n",
    "                 time_masking_para=100, frequency_mask_num=1, time_mask_num=1):\n",
    "    \"\"\"Spec augmentation Calculation Function.\n",
    "    'SpecAugment' have 3 steps for audio data augmentation.\n",
    "    first step is time warping using Tensorflow's image_sparse_warp function.\n",
    "    Second step is frequency masking, last step is time masking.\n",
    "    # Arguments:\n",
    "      mel_spectrogram(numpy array): audio file path of you want to warping and masking.\n",
    "      time_warping_para(float): Augmentation parameter, \"time warp parameter W\".\n",
    "        If none, default = 80 for LibriSpeech.\n",
    "      frequency_masking_para(float): Augmentation parameter, \"frequency mask parameter F\"\n",
    "        If none, default = 100 for LibriSpeech.\n",
    "      time_masking_para(float): Augmentation parameter, \"time mask parameter T\"\n",
    "        If none, default = 27 for LibriSpeech.\n",
    "      frequency_mask_num(float): number of frequency masking lines, \"m_F\".\n",
    "        If none, default = 1 for LibriSpeech.\n",
    "      time_mask_num(float): number of time masking lines, \"m_T\".\n",
    "        If none, default = 1 for LibriSpeech.\n",
    "    # Returns\n",
    "      mel_spectrogram(numpy array): warped and masked mel spectrogram.\n",
    "    \"\"\"\n",
    "    v = mel_spectrogram.shape[1]\n",
    "    tau = mel_spectrogram.shape[2]\n",
    "\n",
    "    # Step 1 : Time warping\n",
    "    warped_mel_spectrogram = time_warp(mel_spectrogram, W=time_warping_para)\n",
    "\n",
    "    # Step 2 : Frequency masking\n",
    "    for i in range(frequency_mask_num):\n",
    "        f = np.random.uniform(low=0.0, high=frequency_masking_para)\n",
    "        f = int(f)\n",
    "        f0 = random.randint(0, v-f)\n",
    "        warped_mel_spectrogram[:, f0:f0+f, :] = 0\n",
    "\n",
    "    # Step 3 : Time masking\n",
    "    for i in range(time_mask_num):\n",
    "        t = np.random.uniform(low=0.0, high=time_masking_para)\n",
    "        t = int(t)\n",
    "        t0 = random.randint(0, tau-t)\n",
    "        warped_mel_spectrogram[:, :, t0:t0+t] = 0\n",
    "\n",
    "    return warped_mel_spectrogram\n",
    "\n",
    "\n",
    "\n",
    "class SpecAugment(nn.Module):\n",
    "    def forward(self, spec):\n",
    "        return spec_augment(spec.clone().detach(), time_warping_para=50)"
   ]
  },
  {
   "cell_type": "code",
   "execution_count": 12,
   "metadata": {},
   "outputs": [],
   "source": [
    "def show_sample(data, figsize=(10, 6)):\n",
    "    fig = plt.figure(figsize=figsize)\n",
    "    ax = fig.add_subplot()\n",
    "    ax.imshow(data)\n",
    "    plt.show()"
   ]
  },
  {
   "cell_type": "code",
   "execution_count": 13,
   "metadata": {
    "cellId": "4i95bg5u0c4pj26vvkbxyc",
    "id": "6FfDdryM-obF"
   },
   "outputs": [
    {
     "name": "stderr",
     "output_type": "stream",
     "text": [
      "/home/ishalyminov/data/miniconda3/envs/shad_speech/lib/python3.7/site-packages/torchaudio/functional.py:318: UserWarning: At least one mel filterbank has all zero values. The value for `n_mels` (128) may be set too high. Or, the value for `n_freqs` (201) may be set too low.\n",
      "  \"At least one mel filterbank has all zero values. \"\n",
      "/home/ishalyminov/data/miniconda3/envs/shad_speech/lib/python3.7/site-packages/torch/functional.py:516: UserWarning: stft will require the return_complex parameter be explicitly  specified in a future PyTorch release. Use return_complex=False  to preserve the current behavior or return_complex=True to return  a complex output. (Triggered internally at  /pytorch/aten/src/ATen/native/SpectralOps.cpp:653.)\n",
      "  normalized, onesided, return_complex)\n",
      "/home/ishalyminov/data/miniconda3/envs/shad_speech/lib/python3.7/site-packages/torch/functional.py:516: UserWarning: The function torch.rfft is deprecated and will be removed in a future PyTorch release. Use the new torch.fft module functions, instead, by importing torch.fft and calling torch.fft.fft or torch.fft.rfft. (Triggered internally at  /pytorch/aten/src/ATen/native/SpectralOps.cpp:590.)\n",
      "  normalized, onesided, return_complex)\n",
      "/home/ishalyminov/data/miniconda3/envs/shad_speech/lib/python3.7/site-packages/ipykernel_launcher.py:327: UserWarning: To copy construct from a tensor, it is recommended to use sourceTensor.clone().detach() or sourceTensor.clone().detach().requires_grad_(True), rather than torch.tensor(sourceTensor).\n"
     ]
    },
    {
     "data": {
      "image/png": "[encoded data removed]",
      "text/plain": [
       "<Figure size 720x432 with 1 Axes>"
      ]
     },
     "metadata": {
      "needs_background": "light"
     },
     "output_type": "display_data"
    },
    {
     "data": {
      "image/png": "[encoded data removed]",
      "text/plain": [
       "<Figure size 720x432 with 1 Axes>"
      ]
     },
     "metadata": {
      "needs_background": "light"
     },
     "output_type": "display_data"
    },
    {
     "data": {
      "image/png": "[encoded data removed]",
      "text/plain": [
       "<Figure size 720x432 with 1 Axes>"
      ]
     },
     "metadata": {
      "needs_background": "light"
     },
     "output_type": "display_data"
    },
    {
     "data": {
      "image/png": "[encoded data removed]",
      "text/plain": [
       "<Figure size 720x432 with 1 Axes>"
      ]
     },
     "metadata": {
      "needs_background": "light"
     },
     "output_type": "display_data"
    },
    {
     "data": {
      "image/png": "[encoded data removed]",
      "text/plain": [
       "<Figure size 720x432 with 1 Axes>"
      ]
     },
     "metadata": {
      "needs_background": "light"
     },
     "output_type": "display_data"
    },
    {
     "data": {
      "image/png": "[encoded data removed]",
      "text/plain": [
       "<Figure size 720x432 with 1 Axes>"
      ]
     },
     "metadata": {
      "needs_background": "light"
     },
     "output_type": "display_data"
    },
    {
     "data": {
      "image/png": "[encoded data removed]",
      "text/plain": [
       "<Figure size 720x432 with 1 Axes>"
      ]
     },
     "metadata": {
      "needs_background": "light"
     },
     "output_type": "display_data"
    },
    {
     "data": {
      "image/png": "[encoded data removed]",
      "text/plain": [
       "<Figure size 720x432 with 1 Axes>"
      ]
     },
     "metadata": {
      "needs_background": "light"
     },
     "output_type": "display_data"
    },
    {
     "data": {
      "image/png": "[encoded data removed]",
      "text/plain": [
       "<Figure size 720x432 with 1 Axes>"
      ]
     },
     "metadata": {
      "needs_background": "light"
     },
     "output_type": "display_data"
    },
    {
     "data": {
      "image/png": "[encoded data removed]",
      "text/plain": [
       "<Figure size 720x432 with 1 Axes>"
      ]
     },
     "metadata": {
      "needs_background": "light"
     },
     "output_type": "display_data"
    }
   ],
   "source": [
    "#!L\n",
    "# For train you can use SpecAugment data aug here.\n",
    "n_mels=128\n",
    "\n",
    "train_audio_transforms = nn.Sequential(\n",
    "    # torchaudio.transforms.AmplitudeToDB(),\n",
    "    torchaudio.transforms.MelSpectrogram(sample_rate=16000, n_mels=n_mels),\n",
    "    SpecAugment()\n",
    ")\n",
    "\n",
    "test_audio_transforms = torchaudio.transforms.MelSpectrogram()\n",
    "\n",
    "tokenizer = Tokenizer()\n",
    "\n",
    "\n",
    "def data_processing(data, data_type=\"train\"):\n",
    "    spectrograms = []\n",
    "    labels = []\n",
    "    input_lengths = []\n",
    "    label_lengths = []\n",
    "    for (waveform, _, utterance, _, _, _) in data:\n",
    "        if data_type == 'train':\n",
    "            spec = train_audio_transforms(waveform).squeeze(0).transpose(0, 1)\n",
    "        elif data_type == 'test':\n",
    "            spec = test_audio_transforms(waveform).squeeze(0).transpose(0, 1)\n",
    "        else:\n",
    "            raise Exception('data_type should be train or valid')\n",
    "        spectrograms.append(spec)\n",
    "        label = torch.Tensor(tokenizer.text_to_indecies(utterance.lower()))\n",
    "        labels.append(label)\n",
    "        input_lengths.append(spec.shape[0] // 2)\n",
    "        label_lengths.append(len(label))\n",
    "\n",
    "    spectrograms = nn.utils.rnn.pad_sequence(spectrograms, batch_first=True).unsqueeze(1).transpose(2, 3)\n",
    "    labels = nn.utils.rnn.pad_sequence(labels, batch_first=True)\n",
    "\n",
    "    return spectrograms, labels, input_lengths, label_lengths\n",
    "\n",
    "\n",
    "for idx in random.sample(range(len(train_dataset)), 10):\n",
    "    show_sample(\n",
    "        train_audio_transforms(train_dataset[idx][0])[0]\n",
    "    )"
   ]
  },
  {
   "cell_type": "code",
   "execution_count": 14,
   "metadata": {},
   "outputs": [
    {
     "name": "stderr",
     "output_type": "stream",
     "text": [
      "/home/ishalyminov/data/miniconda3/envs/shad_speech/lib/python3.7/site-packages/ipykernel_launcher.py:327: UserWarning: To copy construct from a tensor, it is recommended to use sourceTensor.clone().detach() or sourceTensor.clone().detach().requires_grad_(True), rather than torch.tensor(sourceTensor).\n"
     ]
    }
   ],
   "source": [
    "trainset_processed = data_processing(train_dataset)"
   ]
  },
  {
   "cell_type": "code",
   "execution_count": 15,
   "metadata": {},
   "outputs": [],
   "source": [
    "testset_processed = data_processing(test_dataset, data_type='test')"
   ]
  },
  {
   "cell_type": "markdown",
   "metadata": {
    "cellId": "jcex1p3ibgiuabzxa0yw",
    "id": "RqZcwSweECPH"
   },
   "source": [
    "## Implement a Neural Network Model\n",
    "\n",
    "You should try out a few different model types:\n",
    "- Feed-Forward Model (DNN)\n",
    "- Recurrent Model (GRU or LSTM)\n",
    "- Bidirectional Recurrent Model (bi-GRU or bi-LSTM)\n",
    "- Something different for bonus points\n",
    "\n",
    "Before any of this models you can use convolutional layers, as shown in the example below\n",
    "\n",
    "After your experiments you should write a report with comparison of different models in terms of different features, for example: parameters, training speed, resulting quality, spectrogram properties, and data augmentations. Remember, that for full mark you need to achive good WER \n",
    "\n",
    "WER criterions: 60-50 -- 3 points, 50-40 -- 5 points, 40-35 -- 7 points, <= 35 -- 10 points"
   ]
  },
  {
   "cell_type": "markdown",
   "metadata": {
    "cellId": "554tm5fog66g78v4s3at8v",
    "id": "dPwmQyJP5qOe"
   },
   "source": [
    "### Our model classes are just examples, you can change them as you want"
   ]
  },
  {
   "cell_type": "code",
   "execution_count": 18,
   "metadata": {
    "cellId": "b3ddofit6i1f8yjroo07e",
    "id": "4icyZP5JD9nW"
   },
   "outputs": [],
   "source": [
    "#!L\n",
    "# Define model\n",
    "class CNNLayerNorm(nn.Module):\n",
    "    \"\"\"Layer normalization built for CNNs input\"\"\"\n",
    "\n",
    "    def __init__(self, n_feats):\n",
    "        super(CNNLayerNorm, self).__init__()\n",
    "        self.layer_norm = nn.LayerNorm(n_feats)\n",
    "\n",
    "    def forward(self, x):\n",
    "        # x (batch, channel, feature, time)\n",
    "        x = x.transpose(2, 3).contiguous()  # (batch, channel, time, feature)\n",
    "        x = self.layer_norm(x)\n",
    "        return x.transpose(2, 3).contiguous()  # (batch, channel, feature, time)\n",
    "\n",
    "\n",
    "class ResidualCNN(nn.Module):\n",
    "    \"\"\"Residual CNN inspired by https://arxiv.org/pdf/1603.05027.pdf\n",
    "        except with layer norm instead of batch norm\n",
    "    \"\"\"\n",
    "\n",
    "    def __init__(self, in_channels, out_channels, kernel, stride, dropout, n_feats):\n",
    "        super(ResidualCNN, self).__init__()\n",
    "\n",
    "        self.cnn1 = nn.Conv2d(in_channels, out_channels, kernel, stride, padding=kernel // 2)\n",
    "        self.cnn2 = nn.Conv2d(out_channels, out_channels, kernel, stride, padding=kernel // 2)\n",
    "        self.dropout1 = nn.Dropout(dropout)\n",
    "        self.dropout2 = nn.Dropout(dropout)\n",
    "        self.layer_norm1 = CNNLayerNorm(n_feats)\n",
    "        self.layer_norm2 = CNNLayerNorm(n_feats)\n",
    "\n",
    "    def forward(self, x):\n",
    "        residual = x  # (batch, channel, feature, time)\n",
    "        step_1 = self.layer_norm1(self.dropout1(self.cnn1(x)))\n",
    "        step_2 = self.layer_norm2(self.dropout2(self.cnn2(step_1 + residual)))\n",
    "        return step_2  # (batch, channel, feature, time)\n",
    "\n",
    "\n",
    "class SpeechRecognitionModel(nn.Module):\n",
    "\n",
    "    def __init__(self, n_cnn_layers, n_rnn_layers, rnn_dim, n_class, n_feats, stride=2, dropout=0.1):\n",
    "        super(SpeechRecognitionModel, self).__init__()\n",
    "        n_feats = n_feats // 2\n",
    "        self.cnn = nn.Conv2d(1, 32, 3, stride=stride, padding=3 // 2)  # cnn for extracting heirachal features\n",
    "\n",
    "        # n residual cnn layers with filter size of 32\n",
    "        self.rescnn_layers = nn.Sequential(*[\n",
    "            ResidualCNN(32, 32, kernel=3, stride=1, dropout=dropout, n_feats=n_feats)\n",
    "            for _ in range(n_cnn_layers)\n",
    "        ])\n",
    "        self.fully_connected = nn.Linear(n_feats, n_feats)\n",
    "        self.birnn_layers = nn.GRU(n_feats, rnn_dim, num_layers=n_rnn_layers, bidirectional=True)\n",
    "        self.classifier = nn.Linear(rnn_dim, n_class)\n",
    "\n",
    "    def forward(self, x):\n",
    "        x = self.cnn(x)\n",
    "        x = self.rescnn_layers(x)\n",
    "        sizes = x.size()\n",
    "        x = x.view(sizes[0], sizes[1] * sizes[2], sizes[3])  # (batch, feature, time)\n",
    "        x = x.transpose(1, 2)  # (batch, time, feature)\n",
    "        x = self.fully_connected(x)\n",
    "        x = self.birnn_layers(x)\n",
    "        x = self.classifier(x)\n",
    "        return x"
   ]
  },
  {
   "cell_type": "markdown",
   "metadata": {
    "cellId": "obxpjwwsdlio3sfm7jgtg",
    "id": "T27qdd0iEH9q"
   },
   "source": [
    "## Training and Evaluation Code"
   ]
  },
  {
   "cell_type": "code",
   "execution_count": 19,
   "metadata": {
    "cellId": "x03325d7w5ou3qsh5azgrl",
    "id": "OwZ3lK3DD-LE"
   },
   "outputs": [],
   "source": [
    "#!L\n",
    "from tqdm import tqdm_notebook"
   ]
  },
  {
   "cell_type": "code",
   "execution_count": 20,
   "metadata": {
    "cellId": "hws8dpmno7ymiam3dnafp",
    "id": "RAA05g-oD-N_"
   },
   "outputs": [],
   "source": [
    "#!L\n",
    "def train(model, device, train_loader, criterion, optimizer, scheduler, epoch):\n",
    "    model.train()\n",
    "    data_len = len(train_loader.dataset)\n",
    "    for batch_idx, _data in enumerate(train_loader):\n",
    "        spectrograms, labels, input_lengths, label_lengths = _data\n",
    "        spectrograms, labels = spectrograms.to(device), labels.to(device)\n",
    "\n",
    "        optimizer.zero_grad()\n",
    "\n",
    "        output = model(spectrograms)  # (batch, time, n_class)\n",
    "        output = F.log_softmax(output, dim=2)\n",
    "        output = output.transpose(0, 1)  # (time, batch, n_class)\n",
    "\n",
    "        loss = criterion(output, labels, input_lengths, label_lengths)\n",
    "        loss.backward()\n",
    "\n",
    "        optimizer.step()\n",
    "        scheduler.step()\n",
    "        if batch_idx % 100 == 0 or batch_idx == data_len:\n",
    "            print('Train Epoch: {} [{}/{} ({:.0f}%)]\\tLoss: {:.6f}'.format(\n",
    "                epoch, batch_idx * len(spectrograms), data_len,\n",
    "                       100. * batch_idx / len(train_loader), loss.item()))\n",
    "\n",
    "\n",
    "def test(model, device, test_loader, criterion, epoch, decode='Greedy', lm=None):\n",
    "    print('Beginning eval...')\n",
    "    model.eval()\n",
    "    test_loss = 0\n",
    "    test_cer, test_wer = [], []\n",
    "    with torch.no_grad():\n",
    "        start = time.time()\n",
    "        for i, _data in enumerate(test_loader):\n",
    "            spectrograms, labels, input_lengths, label_lengths = _data\n",
    "            spectrograms, labels = spectrograms.to(device), labels.to(device)\n",
    "            \n",
    "            matrix = model(spectrograms)  # (batch, time, n_class)\n",
    "            matrix = F.log_softmax(matrix, dim=2)\n",
    "            probs = F.softmax(matrix,dim=2)\n",
    "            matrix = matrix.transpose(0, 1)  # (time, batch, n_class)\n",
    "                \n",
    "            loss = criterion(matrix, labels, input_lengths, label_lengths)\n",
    "            test_loss += loss.item() / len(test_loader)\n",
    "\n",
    "            if decode == 'Greedy':\n",
    "                decoded_preds, decoded_targets = GreedyDecoder(matrix.transpose(0, 1), labels, label_lengths)\n",
    "            elif decode == 'BeamSearch':\n",
    "                ## THIS IS A CLASS YOU SHOULD IMPLEMENT\n",
    "                decoded_preds, decoded_targets = BeamSearchDecoder(probs, labels, label_lengths, input_lengths, lm=lm)\n",
    "            for j in range(len(decoded_preds)):\n",
    "                test_cer.append(cer(decoded_targets[j], decoded_preds[j]))\n",
    "                test_wer.append(wer(decoded_targets[j], decoded_preds[j]))\n",
    "\n",
    "    avg_cer = sum(test_cer) / len(test_cer)\n",
    "    avg_wer = sum(test_wer) / len(test_wer)\n",
    "\n",
    "    print(\n",
    "        'Epoch: {:d}, Test set: Average loss: {:.4f}, Average CER: {:4f} Average WER: {:.4f}\\n'.format(epoch, test_loss,\n",
    "                                                                                                       avg_cer,\n",
    "                                                                                                       avg_wer))"
   ]
  },
  {
   "cell_type": "code",
   "execution_count": 21,
   "metadata": {
    "cellId": "7ezpcofubg6gfyyde5c68",
    "id": "ZlAaMjh4D-RD"
   },
   "outputs": [
    {
     "name": "stdout",
     "output_type": "stream",
     "text": [
      "GPU found! 🎉\n",
      "Num Model Parameters 509917\n",
      "Start training...\n"
     ]
    },
    {
     "ename": "OSError",
     "evalue": "[Errno 12] Cannot allocate memory",
     "output_type": "error",
     "traceback": [
      "\u001b[0;31m---------------------------------------------------------------------------\u001b[0m",
      "\u001b[0;31mOSError\u001b[0m                                   Traceback (most recent call last)",
      "\u001b[0;32m<ipython-input-21-5583400d4f6a>\u001b[0m in \u001b[0;36m<module>\u001b[0;34m\u001b[0m\n\u001b[1;32m     69\u001b[0m \u001b[0;32mfor\u001b[0m \u001b[0mepoch\u001b[0m \u001b[0;32min\u001b[0m \u001b[0mrange\u001b[0m\u001b[0;34m(\u001b[0m\u001b[0;36m1\u001b[0m\u001b[0;34m,\u001b[0m \u001b[0mhparams\u001b[0m\u001b[0;34m[\u001b[0m\u001b[0;34m'epochs'\u001b[0m\u001b[0;34m]\u001b[0m \u001b[0;34m+\u001b[0m \u001b[0;36m1\u001b[0m\u001b[0;34m)\u001b[0m\u001b[0;34m:\u001b[0m\u001b[0;34m\u001b[0m\u001b[0;34m\u001b[0m\u001b[0m\n\u001b[1;32m     70\u001b[0m     \u001b[0mep_start\u001b[0m \u001b[0;34m=\u001b[0m \u001b[0mtime\u001b[0m\u001b[0;34m.\u001b[0m\u001b[0mtime\u001b[0m\u001b[0;34m(\u001b[0m\u001b[0;34m)\u001b[0m\u001b[0;34m\u001b[0m\u001b[0;34m\u001b[0m\u001b[0m\n\u001b[0;32m---> 71\u001b[0;31m     \u001b[0mtrain\u001b[0m\u001b[0;34m(\u001b[0m\u001b[0mmodel\u001b[0m\u001b[0;34m,\u001b[0m \u001b[0mdevice\u001b[0m\u001b[0;34m,\u001b[0m \u001b[0mtrain_loader\u001b[0m\u001b[0;34m,\u001b[0m \u001b[0mcriterion\u001b[0m\u001b[0;34m,\u001b[0m \u001b[0moptimizer\u001b[0m\u001b[0;34m,\u001b[0m \u001b[0mscheduler\u001b[0m\u001b[0;34m,\u001b[0m \u001b[0mepoch\u001b[0m\u001b[0;34m)\u001b[0m\u001b[0;34m\u001b[0m\u001b[0;34m\u001b[0m\u001b[0m\n\u001b[0m\u001b[1;32m     72\u001b[0m     \u001b[0;31m#if epoch % 2 == 0:\u001b[0m\u001b[0;34m\u001b[0m\u001b[0;34m\u001b[0m\u001b[0;34m\u001b[0m\u001b[0m\n\u001b[1;32m     73\u001b[0m     \u001b[0msave_checkpoint\u001b[0m\u001b[0;34m(\u001b[0m\u001b[0mmodel\u001b[0m\u001b[0;34m,\u001b[0m \u001b[0mcheckpoint_name\u001b[0m\u001b[0;34m=\u001b[0m\u001b[0;34mf'model_epoch{epoch}.tar'\u001b[0m\u001b[0;34m)\u001b[0m\u001b[0;34m\u001b[0m\u001b[0;34m\u001b[0m\u001b[0m\n",
      "\u001b[0;32m<ipython-input-20-156236a5e0e7>\u001b[0m in \u001b[0;36mtrain\u001b[0;34m(model, device, train_loader, criterion, optimizer, scheduler, epoch)\u001b[0m\n\u001b[1;32m      3\u001b[0m     \u001b[0mmodel\u001b[0m\u001b[0;34m.\u001b[0m\u001b[0mtrain\u001b[0m\u001b[0;34m(\u001b[0m\u001b[0;34m)\u001b[0m\u001b[0;34m\u001b[0m\u001b[0;34m\u001b[0m\u001b[0m\n\u001b[1;32m      4\u001b[0m     \u001b[0mdata_len\u001b[0m \u001b[0;34m=\u001b[0m \u001b[0mlen\u001b[0m\u001b[0;34m(\u001b[0m\u001b[0mtrain_loader\u001b[0m\u001b[0;34m.\u001b[0m\u001b[0mdataset\u001b[0m\u001b[0;34m)\u001b[0m\u001b[0;34m\u001b[0m\u001b[0;34m\u001b[0m\u001b[0m\n\u001b[0;32m----> 5\u001b[0;31m     \u001b[0;32mfor\u001b[0m \u001b[0mbatch_idx\u001b[0m\u001b[0;34m,\u001b[0m \u001b[0m_data\u001b[0m \u001b[0;32min\u001b[0m \u001b[0menumerate\u001b[0m\u001b[0;34m(\u001b[0m\u001b[0mtrain_loader\u001b[0m\u001b[0;34m)\u001b[0m\u001b[0;34m:\u001b[0m\u001b[0;34m\u001b[0m\u001b[0;34m\u001b[0m\u001b[0m\n\u001b[0m\u001b[1;32m      6\u001b[0m         \u001b[0mspectrograms\u001b[0m\u001b[0;34m,\u001b[0m \u001b[0mlabels\u001b[0m\u001b[0;34m,\u001b[0m \u001b[0minput_lengths\u001b[0m\u001b[0;34m,\u001b[0m \u001b[0mlabel_lengths\u001b[0m \u001b[0;34m=\u001b[0m \u001b[0m_data\u001b[0m\u001b[0;34m\u001b[0m\u001b[0;34m\u001b[0m\u001b[0m\n\u001b[1;32m      7\u001b[0m         \u001b[0mspectrograms\u001b[0m\u001b[0;34m,\u001b[0m \u001b[0mlabels\u001b[0m \u001b[0;34m=\u001b[0m \u001b[0mspectrograms\u001b[0m\u001b[0;34m.\u001b[0m\u001b[0mto\u001b[0m\u001b[0;34m(\u001b[0m\u001b[0mdevice\u001b[0m\u001b[0;34m)\u001b[0m\u001b[0;34m,\u001b[0m \u001b[0mlabels\u001b[0m\u001b[0;34m.\u001b[0m\u001b[0mto\u001b[0m\u001b[0;34m(\u001b[0m\u001b[0mdevice\u001b[0m\u001b[0;34m)\u001b[0m\u001b[0;34m\u001b[0m\u001b[0;34m\u001b[0m\u001b[0m\n",
      "\u001b[0;32m~/data/miniconda3/envs/shad_speech/lib/python3.7/site-packages/torch/utils/data/dataloader.py\u001b[0m in \u001b[0;36m__iter__\u001b[0;34m(self)\u001b[0m\n\u001b[1;32m    350\u001b[0m             \u001b[0;32mreturn\u001b[0m \u001b[0mself\u001b[0m\u001b[0;34m.\u001b[0m\u001b[0m_iterator\u001b[0m\u001b[0;34m\u001b[0m\u001b[0;34m\u001b[0m\u001b[0m\n\u001b[1;32m    351\u001b[0m         \u001b[0;32melse\u001b[0m\u001b[0;34m:\u001b[0m\u001b[0;34m\u001b[0m\u001b[0;34m\u001b[0m\u001b[0m\n\u001b[0;32m--> 352\u001b[0;31m             \u001b[0;32mreturn\u001b[0m \u001b[0mself\u001b[0m\u001b[0;34m.\u001b[0m\u001b[0m_get_iterator\u001b[0m\u001b[0;34m(\u001b[0m\u001b[0;34m)\u001b[0m\u001b[0;34m\u001b[0m\u001b[0;34m\u001b[0m\u001b[0m\n\u001b[0m\u001b[1;32m    353\u001b[0m \u001b[0;34m\u001b[0m\u001b[0m\n\u001b[1;32m    354\u001b[0m     \u001b[0;34m@\u001b[0m\u001b[0mproperty\u001b[0m\u001b[0;34m\u001b[0m\u001b[0;34m\u001b[0m\u001b[0m\n",
      "\u001b[0;32m~/data/miniconda3/envs/shad_speech/lib/python3.7/site-packages/torch/utils/data/dataloader.py\u001b[0m in \u001b[0;36m_get_iterator\u001b[0;34m(self)\u001b[0m\n\u001b[1;32m    292\u001b[0m             \u001b[0;32mreturn\u001b[0m \u001b[0m_SingleProcessDataLoaderIter\u001b[0m\u001b[0;34m(\u001b[0m\u001b[0mself\u001b[0m\u001b[0;34m)\u001b[0m\u001b[0;34m\u001b[0m\u001b[0;34m\u001b[0m\u001b[0m\n\u001b[1;32m    293\u001b[0m         \u001b[0;32melse\u001b[0m\u001b[0;34m:\u001b[0m\u001b[0;34m\u001b[0m\u001b[0;34m\u001b[0m\u001b[0m\n\u001b[0;32m--> 294\u001b[0;31m             \u001b[0;32mreturn\u001b[0m \u001b[0m_MultiProcessingDataLoaderIter\u001b[0m\u001b[0;34m(\u001b[0m\u001b[0mself\u001b[0m\u001b[0;34m)\u001b[0m\u001b[0;34m\u001b[0m\u001b[0;34m\u001b[0m\u001b[0m\n\u001b[0m\u001b[1;32m    295\u001b[0m \u001b[0;34m\u001b[0m\u001b[0m\n\u001b[1;32m    296\u001b[0m     \u001b[0;34m@\u001b[0m\u001b[0mproperty\u001b[0m\u001b[0;34m\u001b[0m\u001b[0;34m\u001b[0m\u001b[0m\n",
      "\u001b[0;32m~/data/miniconda3/envs/shad_speech/lib/python3.7/site-packages/torch/utils/data/dataloader.py\u001b[0m in \u001b[0;36m__init__\u001b[0;34m(self, loader)\u001b[0m\n\u001b[1;32m    799\u001b[0m             \u001b[0;31m#     before it starts, and __del__ tries to join but will get:\u001b[0m\u001b[0;34m\u001b[0m\u001b[0;34m\u001b[0m\u001b[0;34m\u001b[0m\u001b[0m\n\u001b[1;32m    800\u001b[0m             \u001b[0;31m#     AssertionError: can only join a started process.\u001b[0m\u001b[0;34m\u001b[0m\u001b[0;34m\u001b[0m\u001b[0;34m\u001b[0m\u001b[0m\n\u001b[0;32m--> 801\u001b[0;31m             \u001b[0mw\u001b[0m\u001b[0;34m.\u001b[0m\u001b[0mstart\u001b[0m\u001b[0;34m(\u001b[0m\u001b[0;34m)\u001b[0m\u001b[0;34m\u001b[0m\u001b[0;34m\u001b[0m\u001b[0m\n\u001b[0m\u001b[1;32m    802\u001b[0m             \u001b[0mself\u001b[0m\u001b[0;34m.\u001b[0m\u001b[0m_index_queues\u001b[0m\u001b[0;34m.\u001b[0m\u001b[0mappend\u001b[0m\u001b[0;34m(\u001b[0m\u001b[0mindex_queue\u001b[0m\u001b[0;34m)\u001b[0m\u001b[0;34m\u001b[0m\u001b[0;34m\u001b[0m\u001b[0m\n\u001b[1;32m    803\u001b[0m             \u001b[0mself\u001b[0m\u001b[0;34m.\u001b[0m\u001b[0m_workers\u001b[0m\u001b[0;34m.\u001b[0m\u001b[0mappend\u001b[0m\u001b[0;34m(\u001b[0m\u001b[0mw\u001b[0m\u001b[0;34m)\u001b[0m\u001b[0;34m\u001b[0m\u001b[0;34m\u001b[0m\u001b[0m\n",
      "\u001b[0;32m~/data/miniconda3/envs/shad_speech/lib/python3.7/multiprocessing/process.py\u001b[0m in \u001b[0;36mstart\u001b[0;34m(self)\u001b[0m\n\u001b[1;32m    110\u001b[0m                \u001b[0;34m'daemonic processes are not allowed to have children'\u001b[0m\u001b[0;34m\u001b[0m\u001b[0;34m\u001b[0m\u001b[0m\n\u001b[1;32m    111\u001b[0m         \u001b[0m_cleanup\u001b[0m\u001b[0;34m(\u001b[0m\u001b[0;34m)\u001b[0m\u001b[0;34m\u001b[0m\u001b[0;34m\u001b[0m\u001b[0m\n\u001b[0;32m--> 112\u001b[0;31m         \u001b[0mself\u001b[0m\u001b[0;34m.\u001b[0m\u001b[0m_popen\u001b[0m \u001b[0;34m=\u001b[0m \u001b[0mself\u001b[0m\u001b[0;34m.\u001b[0m\u001b[0m_Popen\u001b[0m\u001b[0;34m(\u001b[0m\u001b[0mself\u001b[0m\u001b[0;34m)\u001b[0m\u001b[0;34m\u001b[0m\u001b[0;34m\u001b[0m\u001b[0m\n\u001b[0m\u001b[1;32m    113\u001b[0m         \u001b[0mself\u001b[0m\u001b[0;34m.\u001b[0m\u001b[0m_sentinel\u001b[0m \u001b[0;34m=\u001b[0m \u001b[0mself\u001b[0m\u001b[0;34m.\u001b[0m\u001b[0m_popen\u001b[0m\u001b[0;34m.\u001b[0m\u001b[0msentinel\u001b[0m\u001b[0;34m\u001b[0m\u001b[0;34m\u001b[0m\u001b[0m\n\u001b[1;32m    114\u001b[0m         \u001b[0;31m# Avoid a refcycle if the target function holds an indirect\u001b[0m\u001b[0;34m\u001b[0m\u001b[0;34m\u001b[0m\u001b[0;34m\u001b[0m\u001b[0m\n",
      "\u001b[0;32m~/data/miniconda3/envs/shad_speech/lib/python3.7/multiprocessing/context.py\u001b[0m in \u001b[0;36m_Popen\u001b[0;34m(process_obj)\u001b[0m\n\u001b[1;32m    221\u001b[0m     \u001b[0;34m@\u001b[0m\u001b[0mstaticmethod\u001b[0m\u001b[0;34m\u001b[0m\u001b[0;34m\u001b[0m\u001b[0m\n\u001b[1;32m    222\u001b[0m     \u001b[0;32mdef\u001b[0m \u001b[0m_Popen\u001b[0m\u001b[0;34m(\u001b[0m\u001b[0mprocess_obj\u001b[0m\u001b[0;34m)\u001b[0m\u001b[0;34m:\u001b[0m\u001b[0;34m\u001b[0m\u001b[0;34m\u001b[0m\u001b[0m\n\u001b[0;32m--> 223\u001b[0;31m         \u001b[0;32mreturn\u001b[0m \u001b[0m_default_context\u001b[0m\u001b[0;34m.\u001b[0m\u001b[0mget_context\u001b[0m\u001b[0;34m(\u001b[0m\u001b[0;34m)\u001b[0m\u001b[0;34m.\u001b[0m\u001b[0mProcess\u001b[0m\u001b[0;34m.\u001b[0m\u001b[0m_Popen\u001b[0m\u001b[0;34m(\u001b[0m\u001b[0mprocess_obj\u001b[0m\u001b[0;34m)\u001b[0m\u001b[0;34m\u001b[0m\u001b[0;34m\u001b[0m\u001b[0m\n\u001b[0m\u001b[1;32m    224\u001b[0m \u001b[0;34m\u001b[0m\u001b[0m\n\u001b[1;32m    225\u001b[0m \u001b[0;32mclass\u001b[0m \u001b[0mDefaultContext\u001b[0m\u001b[0;34m(\u001b[0m\u001b[0mBaseContext\u001b[0m\u001b[0;34m)\u001b[0m\u001b[0;34m:\u001b[0m\u001b[0;34m\u001b[0m\u001b[0;34m\u001b[0m\u001b[0m\n",
      "\u001b[0;32m~/data/miniconda3/envs/shad_speech/lib/python3.7/multiprocessing/context.py\u001b[0m in \u001b[0;36m_Popen\u001b[0;34m(process_obj)\u001b[0m\n\u001b[1;32m    275\u001b[0m         \u001b[0;32mdef\u001b[0m \u001b[0m_Popen\u001b[0m\u001b[0;34m(\u001b[0m\u001b[0mprocess_obj\u001b[0m\u001b[0;34m)\u001b[0m\u001b[0;34m:\u001b[0m\u001b[0;34m\u001b[0m\u001b[0;34m\u001b[0m\u001b[0m\n\u001b[1;32m    276\u001b[0m             \u001b[0;32mfrom\u001b[0m \u001b[0;34m.\u001b[0m\u001b[0mpopen_fork\u001b[0m \u001b[0;32mimport\u001b[0m \u001b[0mPopen\u001b[0m\u001b[0;34m\u001b[0m\u001b[0;34m\u001b[0m\u001b[0m\n\u001b[0;32m--> 277\u001b[0;31m             \u001b[0;32mreturn\u001b[0m \u001b[0mPopen\u001b[0m\u001b[0;34m(\u001b[0m\u001b[0mprocess_obj\u001b[0m\u001b[0;34m)\u001b[0m\u001b[0;34m\u001b[0m\u001b[0;34m\u001b[0m\u001b[0m\n\u001b[0m\u001b[1;32m    278\u001b[0m \u001b[0;34m\u001b[0m\u001b[0m\n\u001b[1;32m    279\u001b[0m     \u001b[0;32mclass\u001b[0m \u001b[0mSpawnProcess\u001b[0m\u001b[0;34m(\u001b[0m\u001b[0mprocess\u001b[0m\u001b[0;34m.\u001b[0m\u001b[0mBaseProcess\u001b[0m\u001b[0;34m)\u001b[0m\u001b[0;34m:\u001b[0m\u001b[0;34m\u001b[0m\u001b[0;34m\u001b[0m\u001b[0m\n",
      "\u001b[0;32m~/data/miniconda3/envs/shad_speech/lib/python3.7/multiprocessing/popen_fork.py\u001b[0m in \u001b[0;36m__init__\u001b[0;34m(self, process_obj)\u001b[0m\n\u001b[1;32m     18\u001b[0m         \u001b[0mself\u001b[0m\u001b[0;34m.\u001b[0m\u001b[0mreturncode\u001b[0m \u001b[0;34m=\u001b[0m \u001b[0;32mNone\u001b[0m\u001b[0;34m\u001b[0m\u001b[0;34m\u001b[0m\u001b[0m\n\u001b[1;32m     19\u001b[0m         \u001b[0mself\u001b[0m\u001b[0;34m.\u001b[0m\u001b[0mfinalizer\u001b[0m \u001b[0;34m=\u001b[0m \u001b[0;32mNone\u001b[0m\u001b[0;34m\u001b[0m\u001b[0;34m\u001b[0m\u001b[0m\n\u001b[0;32m---> 20\u001b[0;31m         \u001b[0mself\u001b[0m\u001b[0;34m.\u001b[0m\u001b[0m_launch\u001b[0m\u001b[0;34m(\u001b[0m\u001b[0mprocess_obj\u001b[0m\u001b[0;34m)\u001b[0m\u001b[0;34m\u001b[0m\u001b[0;34m\u001b[0m\u001b[0m\n\u001b[0m\u001b[1;32m     21\u001b[0m \u001b[0;34m\u001b[0m\u001b[0m\n\u001b[1;32m     22\u001b[0m     \u001b[0;32mdef\u001b[0m \u001b[0mduplicate_for_child\u001b[0m\u001b[0;34m(\u001b[0m\u001b[0mself\u001b[0m\u001b[0;34m,\u001b[0m \u001b[0mfd\u001b[0m\u001b[0;34m)\u001b[0m\u001b[0;34m:\u001b[0m\u001b[0;34m\u001b[0m\u001b[0;34m\u001b[0m\u001b[0m\n",
      "\u001b[0;32m~/data/miniconda3/envs/shad_speech/lib/python3.7/multiprocessing/popen_fork.py\u001b[0m in \u001b[0;36m_launch\u001b[0;34m(self, process_obj)\u001b[0m\n\u001b[1;32m     68\u001b[0m         \u001b[0mcode\u001b[0m \u001b[0;34m=\u001b[0m \u001b[0;36m1\u001b[0m\u001b[0;34m\u001b[0m\u001b[0;34m\u001b[0m\u001b[0m\n\u001b[1;32m     69\u001b[0m         \u001b[0mparent_r\u001b[0m\u001b[0;34m,\u001b[0m \u001b[0mchild_w\u001b[0m \u001b[0;34m=\u001b[0m \u001b[0mos\u001b[0m\u001b[0;34m.\u001b[0m\u001b[0mpipe\u001b[0m\u001b[0;34m(\u001b[0m\u001b[0;34m)\u001b[0m\u001b[0;34m\u001b[0m\u001b[0;34m\u001b[0m\u001b[0m\n\u001b[0;32m---> 70\u001b[0;31m         \u001b[0mself\u001b[0m\u001b[0;34m.\u001b[0m\u001b[0mpid\u001b[0m \u001b[0;34m=\u001b[0m \u001b[0mos\u001b[0m\u001b[0;34m.\u001b[0m\u001b[0mfork\u001b[0m\u001b[0;34m(\u001b[0m\u001b[0;34m)\u001b[0m\u001b[0;34m\u001b[0m\u001b[0;34m\u001b[0m\u001b[0m\n\u001b[0m\u001b[1;32m     71\u001b[0m         \u001b[0;32mif\u001b[0m \u001b[0mself\u001b[0m\u001b[0;34m.\u001b[0m\u001b[0mpid\u001b[0m \u001b[0;34m==\u001b[0m \u001b[0;36m0\u001b[0m\u001b[0;34m:\u001b[0m\u001b[0;34m\u001b[0m\u001b[0;34m\u001b[0m\u001b[0m\n\u001b[1;32m     72\u001b[0m             \u001b[0;32mtry\u001b[0m\u001b[0;34m:\u001b[0m\u001b[0;34m\u001b[0m\u001b[0;34m\u001b[0m\u001b[0m\n",
      "\u001b[0;31mOSError\u001b[0m: [Errno 12] Cannot allocate memory"
     ]
    }
   ],
   "source": [
    "#!L\n",
    "#pragma async \n",
    "# PRAGMA ASYNC IS NECESSARY FOR TRAINING!\n",
    "torch.manual_seed(7)\n",
    "if torch.cuda.is_available():\n",
    "    print('GPU found! 🎉')\n",
    "    device = 'cuda'\n",
    "else:\n",
    "    print('Only CPU found! 💻')\n",
    "    device = 'cpu'\n",
    "\n",
    "verbose=False\n",
    "\n",
    "# Hyperparameters for your model\n",
    "hparams = {\n",
    "    \"n_cnn_layers\": 3,\n",
    "    \"n_rnn_layers\": 2,\n",
    "    \"rnn_dim\": 128,\n",
    "    \"n_class\": 29,\n",
    "    \"n_feats\": 128,\n",
    "    \"stride\": 2,\n",
    "    \"dropout\": 0.1,\n",
    "    \"learning_rate\":  5e-4,\n",
    "    \"batch_size\":  10,\n",
    "    \"epochs\": 20\n",
    "}\n",
    "\n",
    "# Define Dataloyour training and test data loaders\n",
    "kwargs = {'num_workers': 1, 'pin_memory': True} if device=='cuda' else {}\n",
    "train_loader = data.DataLoader(\n",
    "    trainset_processed,\n",
    "    batch_size=hparams['batch_size'],\n",
    "    shuffle=True, \n",
    "    num_workers=1,\n",
    "    drop_last=True\n",
    ")\n",
    "test_loader = data.DataLoader(\n",
    "    testset_processed,\n",
    "    batch_size=hparams['batch_size'],\n",
    "    shuffle=True, \n",
    "    num_workers=1,\n",
    "    drop_last=False\n",
    ")\n",
    "# Define ASR Model \n",
    "model = SpeechRecognitionModel(\n",
    "    hparams['n_cnn_layers'], hparams['n_rnn_layers'], hparams['rnn_dim'],\n",
    "    hparams['n_class'], hparams['n_feats'], hparams['stride'], hparams['dropout']\n",
    ").to(device)\n",
    "\n",
    "model.to(device)\n",
    "\n",
    "if verbose:\n",
    "    print(model)\n",
    "print('Num Model Parameters', sum([param.nelement() for param in model.parameters()]))\n",
    "\n",
    "#Define optimizineer, criterion, scheduler\n",
    "optimizer = torch.optim.Adam(lr=hparams['learning_rate'], params=model.parameters())\n",
    "criterion = torch.nn.functional.cross_entropy\n",
    "scheduler = torch.optim.lr_scheduler.OneCycleLR(\n",
    "    optimizer,\n",
    "    max_lr=hparams['learning_rate'],\n",
    "    epochs=hparams['epochs'],\n",
    "    steps_per_epoch=math.ceil(len(trainset_processed[0]) / hparams['batch_size']))\n",
    "\n",
    "\n",
    "#iter_meter = IterMeter()\n",
    "start = time.time()\n",
    "print(\"Start training...\")\n",
    "for epoch in range(1, hparams['epochs'] + 1):\n",
    "    ep_start = time.time()\n",
    "    train(model, device, train_loader, criterion, optimizer, scheduler, epoch)\n",
    "    #if epoch % 2 == 0:\n",
    "    save_checkpoint(model, checkpoint_name=f'model_epoch{epoch}.tar')\n",
    "    load_checkpoint(model, checkpoint_name=f'model_epoch{epoch}.tar', path='./', device=device)\n",
    "    test(model, device, test_loader, criterion, epoch)\n",
    "    print(f\"Time for epoch: {round(time.time() - ep_start, 0)} sec.\")\n",
    "save_checkpoint(model, checkpoint_name=f'model.tar')\n",
    "duration = time.time() - start\n",
    "print(f'Training took {np.round(duration / 60.0, 1)} min.')"
   ]
  },
  {
   "cell_type": "code",
   "execution_count": null,
   "metadata": {
    "cellId": "2oj2t9pb6s508m4bomxqr"
   },
   "outputs": [],
   "source": [
    "#!L\n",
    "# Test the model in Prefix Decode Mode - only do after you have implemented your prefix decoder\n",
    "\n",
    "test(model, device, test_loader, criterion, epoch, decode='BeamSearch', lm=None)\n",
    "\n",
    "alm = arpa.loadf('3-gram.pruned.1e-7.arpa')[0]\n",
    "test(model, device, test_loader, criterion, epoch, decode='BeamSearch', lm=alm)"
   ]
  },
  {
   "cell_type": "markdown",
   "metadata": {
    "cellId": "90vk5p1hyhmqhjlztpswx8",
    "id": "VGS9rrTK29fx"
   },
   "source": [
    "## Compare different models: DNN, GRU/LSTM, bi-GRU/bi-LSTM (5 points)"
   ]
  },
  {
   "cell_type": "markdown",
   "metadata": {
    "cellId": "7l42i8cl7mch5fzh42uv8b",
    "id": "OvSNEbMngpZU"
   },
   "source": [
    "## Analyze CTC Alignments (5 points)"
   ]
  },
  {
   "cell_type": "markdown",
   "metadata": {
    "cellId": "om7mmrazgrojbft3qos2o",
    "id": "TtcI8Q65xXnJ"
   },
   "source": [
    "## In this section you should compare alignments obtained from different models.\n",
    "\n",
    "For example, you can show:\n",
    "\n",
    "* Examples of alignments and their analysis\n",
    "* Differencies in the properties of alignment distributions over the dataset\n",
    "* Dynamic of alignments during training (from checkpoints)\n",
    "* Connection between alignments and model loss\n"
   ]
  },
  {
   "cell_type": "code",
   "execution_count": null,
   "metadata": {
    "cellId": "hz15vjonrhcd0goeoye94",
    "id": "hd2cGenN-oa_"
   },
   "outputs": [],
   "source": [
    "#!L\n",
    "def forward_algorithm(sequence, matrix, blank=28):\n",
    "    # Matrix is has shape [K, T]\n",
    "\n",
    "    # Turn probs into log-probs\n",
    "    # matrix = np.log(matrix)\n",
    "\n",
    "    # Create modified sequence which with START, END blanks and between each character\n",
    "    mod_sequence = [sequence[int((i-1)/2)] if i % 2 !=0 else blank for i in range(len(sequence)*2+1)]\n",
    "\n",
    "    # Initialze\n",
    "    alphas = np.full([len(mod_sequence), matrix.shape[1]], 0.0)\n",
    "\n",
    "    for t in range(matrix.shape[1]):\n",
    "        for s in range(len(mod_sequence)):\n",
    "            #First Step\n",
    "            if t == 0 and (0 <= s <= 1):\n",
    "                alphas[s, t] = matrix[mod_sequence[s], t]\n",
    "            else:\n",
    "                # Need to do this stabily\n",
    "                a_t_1_s = alphas[s, t - 1] if 0 < t else 0.0\n",
    "                a_t_1_s_1 = alphas[s - 1, t - 1] if 0 < t and 0 < s else 0.0\n",
    "                a_t_1_s_2 = alphas[s - 2, t - 1] if 0 < t and 1 < s else 0.0\n",
    "                if mod_sequence[s] == blank or (1 < s and mod_sequence[s] == mod_sequence[s - 2]):\n",
    "                    alphas[s, t] = (a_t_1_s + a_t_1_s_1) * matrix[mod_sequence[s], t]\n",
    "                else:\n",
    "                    alphas[s, t] = (a_t_1_s + a_t_1_s_1 + a_t_1_s_2) * matrix[mod_sequence[s], t]\n",
    "        c_t = np.sum(alphas[:, t])\n",
    "        alphas[:, t] = alphas[:, t] / c_t\n",
    "    return alphas\n",
    "\n",
    "def backward_algorithm(sequence, matrix, blank=28):\n",
    "    # Matrix has shape [K, T] where K - 29 \n",
    "\n",
    "    # Turn probs into log-probs\n",
    "    # matrix = np.log(matrix)\n",
    "\n",
    "    # Create modified sequence which with START, END blanks and between each character\n",
    "    mod_sequence = [sequence[int((i-1)/2)] if i % 2 !=0 else blank for i in range(len(sequence)*2+1)]\n",
    "\n",
    "    betas = np.full([len(mod_sequence), matrix.shape[1]], 0.0)\n",
    "\n",
    "    for t in reversed(range(matrix.shape[1])):\n",
    "        for s in reversed(range(len(mod_sequence))):\n",
    "            #First Step\n",
    "            if t == matrix.shape[1]-1:\n",
    "                if s == len(mod_sequence) - 1:\n",
    "                    betas[s, t] = matrix[blank, -1]\n",
    "                elif s == len(mod_sequence) - 2:\n",
    "                    betas[s, t] = matrix[mod_sequence[-2], -1]\n",
    "\n",
    "            else:\n",
    "                b_t_1_s = betas[s, t + 1] if t < matrix.shape[1] - 1 else 0.0\n",
    "                b_t_1_s_1 = betas[s + 1, t + 1] if t < matrix.shape[1] - 1 and s < len(mod_sequence) - 1 else 0.0\n",
    "                b_t_1_s_2 = betas[s + 2, t + 1] if t < matrix.shape[1] - 1 and s < len(mod_sequence) - 2 else 0.0\n",
    "\n",
    "                if mod_sequence[s] == blank or (s < len(mod_sequence) - 2 and mod_sequence[s] == mod_sequence[s + 2]):\n",
    "                    betas[s, t] = (b_t_1_s + b_t_1_s_1) * matrix[mod_sequence[s], t]\n",
    "                else:\n",
    "                    betas[s, t] = (b_t_1_s + b_t_1_s_1 + b_t_1_s_2) * matrix[mod_sequence[s], t]\n",
    "        d_t = np.sum(betas[:, t])\n",
    "        betas[:, t] = betas[:, t] / d_t\n",
    "    return betas\n",
    "\n",
    "def soft_alignment(labels_indecies, matrix):\n",
    "    alphas = forward_algorithm(labels_indecies, matrix)\n",
    "    betas = backward_algorithm(labels_indecies, matrix)\n",
    "\n",
    "    # Move from log space back to prob space\n",
    "    align = alphas * betas\n",
    "\n",
    "    # Normalize Alignment\n",
    "    col_sums = [np.sum(align[:, j]) for j in range(align.shape[1])]\n",
    "    for i in range(align.shape[0]):\n",
    "        for j in range(align.shape[1]):\n",
    "            align[i, j] /= col_sums[j]\n",
    "\n",
    "    return align"
   ]
  },
  {
   "cell_type": "code",
   "execution_count": null,
   "metadata": {
    "cellId": "j0hk1mmq56mit6ldayht",
    "id": "lyO-qCwG-obA"
   },
   "outputs": [],
   "source": [
    "#!L\n",
    "# Test your implementation of CTC\n",
    "#Load numpy matrix, add axis [classes,time]\n",
    "matrix = np.loadtxt(os.path.join(week_05_path, 'test_matrix.txt'))\n",
    "# Create label_sequence\n",
    "tokenizer = Tokenizer()\n",
    "labels_indecies = tokenizer.text_to_indecies('there se ms no good reason for believing that twillc ange')\n",
    "\n",
    "align = soft_alignment(labels_indecies, matrix)\n",
    "\n",
    "ref_align = np.loadtxt(os.path.join(week_05_path, 'soft_alignment.txt'))\n",
    "\n",
    "# assert np.all(ref_align == align)"
   ]
  },
  {
   "cell_type": "code",
   "execution_count": null,
   "metadata": {
    "cellId": "vrt1ufy7fcefeck5i8hfu",
    "id": "QAHLTOQGrgew"
   },
   "outputs": [],
   "source": [
    "#Example\n",
    "model.eval()\n",
    "_data = next(iter(test_loader))\n",
    "spectrograms, labels, input_lengths, label_lengths = _data\n",
    "spectrograms, labels = spectrograms.to(device), labels.to(device)\n",
    "\n",
    "matrix = model(spectrograms).transpose(1,2)  # (batch, n_class, time)"
   ]
  },
  {
   "cell_type": "code",
   "execution_count": null,
   "metadata": {
    "cellId": "b80yoozigvm36ra3tisfbf",
    "id": "fL5dwHiGtL1G"
   },
   "outputs": [],
   "source": [
    "# Example of alignment calculation:\n",
    "with torch.no_grad():\n",
    "  align = soft_alignment(labels[0].int().cpu().numpy(), F.softmax(matrix[0],dim=0).cpu().numpy())"
   ]
  },
  {
   "cell_type": "code",
   "execution_count": null,
   "metadata": {
    "cellId": "t6dtc9k91s90ual4nmzci49",
    "id": "DqvHAfyWs7DR"
   },
   "outputs": [],
   "source": [
    "plt.figure(dpi=150)\n",
    "plt.imshow(align, aspect='auto', interpolation='nearest')\n",
    "plt.colorbar()\n",
    "\n",
    "plt.figure(dpi=150)\n",
    "plt.imshow(np.log(align), aspect='auto', interpolation='nearest')\n",
    "plt.colorbar()"
   ]
  },
  {
   "cell_type": "markdown",
   "metadata": {
    "cellId": "fgri9tl5qocpkrzz76s53h",
    "id": "muP0QOp_gvdp"
   },
   "source": [
    "### Conclusions 🧑‍🎓\n",
    "\n",
    "* What challenges did you encounter while completing this task?\n",
    "* What skills have you acquired while doing this task?\n",
    "* How difficult did you find this task (on a scale from 0 to 10), and why?\n",
    "* What did you like in this homework, and what didn't?"
   ]
  },
  {
   "cell_type": "code",
   "execution_count": null,
   "metadata": {
    "cellId": "iz6t4tmtlns28i9nn6t64h",
    "id": "0LOcRoW3D-Wu"
   },
   "outputs": [],
   "source": []
  }
 ],
 "metadata": {
  "accelerator": "GPU",
  "colab": {
   "collapsed_sections": [],
   "name": "hw2-student.ipynb",
   "provenance": []
  },
  "kernelspec": {
   "display_name": "Python 3",
   "language": "python",
   "name": "python3"
  },
  "language_info": {
   "codemirror_mode": {
    "name": "ipython",
    "version": 3
   },
   "file_extension": ".py",
   "mimetype": "text/x-python",
   "name": "python",
   "nbconvert_exporter": "python",
   "pygments_lexer": "ipython3",
   "version": "3.7.10"
  },
  "notebookId": "6bb475f0-e440-4eaa-807f-09a2eb8cb938",
  "pycharm": {
   "stem_cell": {
    "cell_type": "raw",
    "metadata": {
     "collapsed": false
    },
    "source": []
   }
  }
 },
 "nbformat": 4,
 "nbformat_minor": 4
}
